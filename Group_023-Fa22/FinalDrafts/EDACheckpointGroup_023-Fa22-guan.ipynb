{
 "cells": [
  {
   "cell_type": "markdown",
   "metadata": {},
   "source": [
    "# COGS 108 - EDA Checkpoint"
   ]
  },
  {
   "cell_type": "markdown",
   "metadata": {},
   "source": [
    "# Names\n",
    "\n",
    "- Yu Zhang\n",
    "- Zhiying Guan\n",
    "- Kaiwen Che\n",
    "- Zhiwei Wang\n",
    "- Ariane Yu"
   ]
  },
  {
   "cell_type": "markdown",
   "metadata": {},
   "source": [
    "<a id='research_question'></a>\n",
    "# Research Question"
   ]
  },
  {
   "cell_type": "markdown",
   "metadata": {},
   "source": [
    "By comparing the changes in adoption trend between 2019 and 2020, how does social distancing, as a result of covid outbreak, affect pet adoption preferences, in terms of pets’ types, ages, and gender specifically? "
   ]
  },
  {
   "cell_type": "markdown",
   "metadata": {},
   "source": [
    "# Setup"
   ]
  },
  {
   "cell_type": "code",
   "execution_count": 1,
   "metadata": {},
   "outputs": [],
   "source": [
    "import numpy as np\n",
    "import pandas as pd\n",
    "import seaborn as sns\n",
    "import matplotlib.pyplot as plt\n",
    "import numpy as np"
   ]
  },
  {
   "cell_type": "code",
   "execution_count": 2,
   "metadata": {},
   "outputs": [],
   "source": [
    "## YOUR CODE HERE\n",
    "a_sonoma = pd.read_csv('datasets/Sonoma_Adoption.csv')\n",
    "a_longbeach = pd.read_csv('datasets/Longbeach_Adoption.csv')\n",
    "a_austin = pd.read_csv('datasets/Austin_Adoption.csv')\n",
    "a_bloom = pd.read_csv('datasets/Bloomington_Adoption.csv')\n",
    "a_dallas = pd.read_csv('datasets/Dallas_Adoption')\n",
    "a_norfolk = pd.read_csv('datasets/Norfolk_Adoption.csv')\n",
    "a_sacramento = pd.read_csv('datasets/Sacramento_Adoption.csv')\n",
    " \n",
    "ROUND_DECIMALS = 2\n",
    "\n",
    "def sonoma_standardize_age(timedelta_in):\n",
    "    output = float(timedelta_in.days)\n",
    "    output = round(output / 365, ROUND_DECIMALS)\n",
    "    return output\n",
    "\n",
    "def standardize_age(agetime_in):\n",
    "    try:\n",
    "        str_in = str(agetime_in)\n",
    "        str_in = str_in.lower()\n",
    "        str_in = str_in.strip()\n",
    "        \n",
    "        if 'day' in str_in or 'days' in str_in:\n",
    "            str_in = str_in.replace('days', '')\n",
    "            str_in = str_in.replace('day', '')\n",
    "            output = float(str_in)\n",
    "            output = round(output / 365, ROUND_DECIMALS)\n",
    "        elif 'week' in str_in or 'weeks' in str_in:\n",
    "            str_in = str_in.replace('weeks', '')\n",
    "            str_in = str_in.replace('week', '')\n",
    "            output = float(str_in)\n",
    "            output = round(output / 52, ROUND_DECIMALS)\n",
    "        elif 'month' in str_in or 'months' in str_in:\n",
    "            str_in = str_in.replace('months', '')\n",
    "            str_in = str_in.replace('month', '')\n",
    "            output = float(str_in)\n",
    "            output = round(output / 12, ROUND_DECIMALS)\n",
    "        elif 'year' in str_in or 'years' in str_in:\n",
    "            str_in = str_in.replace('years', '')\n",
    "            str_in = str_in.replace('year', '')\n",
    "            output = round(float(str_in), ROUND_DECIMALS)\n",
    "        else:\n",
    "            output = np.nan\n",
    "    except:\n",
    "        output = np.nan\n",
    "        \n",
    "    return output\n",
    "\n",
    "# Overall change of adoption number:\n",
    "def overall_adoption_change(df_in):\n",
    "    df_2019 = df_in.loc[df_in['year']==2019]\n",
    "    df_2020 = df_in.loc[df_in['year']==2020]\n",
    "    animal_types = df_in['Type'].unique()\n",
    "    \n",
    "    overall_change = round(((df_2020.shape[0] - df_2019.shape[0]) / df_2019.shape[0]) * 100, ROUND_DECIMALS)\n",
    "    print(\"Overall Change of Total Adoption Number From 2019 to 2020:\", overall_change, \"%\")\n",
    "    \n",
    "    print(\"Change of Adoption Number by Type:\")\n",
    "    for animal in animal_types:\n",
    "        if animal in df_2019['Type'].value_counts():\n",
    "            animal_count_2019 = df_2019['Type'].value_counts()[animal]\n",
    "        else:\n",
    "            animal_count_2019 = 0\n",
    "            \n",
    "        if animal in df_2020['Type'].value_counts():\n",
    "            animal_count_2020 = df_2020['Type'].value_counts()[animal]\n",
    "        else:\n",
    "            animal_count_2020 = 0 \n",
    "            \n",
    "        if (animal_count_2019 == 0) & (animal_count_2020 == 0):\n",
    "            continue\n",
    "        elif animal_count_2019 == 0:\n",
    "            print(\"Adoption number of\", animal.upper(), \"from 2019 to 2020 increased by a number of\", animal_count_2020)\n",
    "        else:    \n",
    "            count_change = round(((animal_count_2020 - animal_count_2019) / animal_count_2019) * 100, ROUND_DECIMALS)\n",
    "            print(\"Adoption number of\", animal.upper(), \"from 2019 to 2020 changed by\", count_change, \"%\")\n",
    "    #print('=======================================================================================')\n",
    "    "
   ]
  },
  {
   "cell_type": "markdown",
   "metadata": {},
   "source": [
    "# Data Cleaning"
   ]
  },
  {
   "cell_type": "markdown",
   "metadata": {},
   "source": [
    "To compare the changes of adoption trends before and after the start of COVID-19, we used Sonoma_Adoption, Longbeach_Adoption, and Austin_Adoption that were read from the csv files we found online. From Sonoma_Adoption, we extracted info of animals' Outcome Date, Type, Breed, Sex, Color, and Age in the Sonoma county. From Longbeach_Adoption, we extracted info of animals' Outcome Date, Animal Type, Sex, Primary Color, and Age in the Longbeach county. From Austin_Adoption, we extracted info of animals' DateTime, Animal Type, Breed, Sex upon Outcome, Color, and Age upon Outcome in the Austin county. By googling specifc animal breeds, we generalize abopted animals to species (e.g. rabbit, cat, dog, rodent). "
   ]
  },
  {
   "cell_type": "markdown",
   "metadata": {},
   "source": [
    "Outcome type: adoption <br> \n",
    "Outcome date: after 03/01/2020 <br> \n",
    "Left categories: Type, Sex, Age <br> "
   ]
  },
  {
   "cell_type": "code",
   "execution_count": 3,
   "metadata": {},
   "outputs": [],
   "source": [
    "animals = {'Rabbit Sh': 'Rabbit', 'Guinea Pig': 'Rodent', 'Rabbit Sh':'Rabbit', 'Californian':'Rabbit', \n",
    "           'English Spot Mix': 'Rabbit', 'Hamster': 'Rodent', 'Lionhead':'Rabbit', 'Hotot':'Rabbit', 'Mouse': 'Rodent',\n",
    "          'Lop-Holland': 'Rabbit', 'Chinchilla-Stnd': 'Rodent', 'Rex':'Rabbit', 'Angora-French Mix':'Rabbit',\n",
    "          'Rabbit Lh': 'Rabbit', 'Lionhead Mix': 'Rabbit', 'Rabbit Sh Mix': 'Rabbit', 'Rex Mix': 'Rabbit', \n",
    "           'Havana':'Rabbit', 'Lop-Mini/Hotot':'Rabbit', 'New Zealand Wht': 'Rabbit', 'Jersey Wooly':'Rabbit',\n",
    "          'Dwarf Hotot':'Rabbit', 'Netherlnd Dwarf':'Rabbit', 'Rex-Mini': 'Rabbit', 'English Spot':'Rabbit',\n",
    "          'Lop-Holland Mix':'Rabbit', 'Potbelly Pig': 'Livestock', 'Lop-Mini': 'Rabbit', 'Snake':'Reptile', 'Lizard':'Reptile',\n",
    "          'Turtle': 'Reptile', 'HAVANA/MIX': 'Rabbit', 'RAT':'Rodent', 'Lop-Mini Mix': 'Rabbit', 'GUINEA PIG' : 'Rodent', \n",
    "          'CALIFORNIAN/MIX':'Rabbit', 'HOTOT':'Rabbit','CALIFORNIAN/MIX':'Rabbit', 'PIG':'Livestock', 'RABBIT SH':'Rabbit', \n",
    "           'HAVANA':'Rabbit', 'HOTOT/MIX':'Rabbit','ANGORA-SATIN':'Rabbit', 'REX':'Rabbit', 'AMERICAN/MIX':'Rabbit', \n",
    "          'LOP-AMER FUZZY': 'Rabbit', 'LOP-MINI' : 'Rabbit', 'SILVER/MIX' : 'Rabbit', 'DUTCH/MIX' : 'Rabbit', \n",
    "           'ENGLISH SPOT/MIX':'Rabbit', 'COCKATIEL':'Bird', 'RABBIT LH':'Rabbit', 'CALIFORNIAN':'Rabbit', 'DONKEY': 'Livestock',\n",
    "          'SHEEP':'Livestock', 'GUINEA PIG':'Rodent', 'Mouse Mix':'Rodent', 'Ferret':'Rodent','New Zealand Wht Mix':'Rodent',\n",
    "          'Rat':'Rodent', 'Havana Mix':'Rabbit','Ferret Mix': 'Rodent', 'Californian Mix':'Rabbit', 'Netherlnd Dwarf Mix':'Rabbit',\n",
    "          'American':'Rabbit', 'American Mix':'Rabbit','Lop-Amer Fuzzy':'Rabbit', 'Flemish Giant Mix':'Rabbit', \n",
    "           'Chinchilla-Amer':'Rabbit', 'Pig Mix':'Livestock', 'Dutch':'Rabbit','Goat':'Livestock', 'Sugar Glider':'Rabbit',\n",
    "          'Rex/Lop-English': 'Rabbit', 'Rex-Mini Mix': 'Rabbit', 'American Sable': 'Rabbit', 'Rabbit Lh Mix': 'Rabbit',\n",
    "          'Sheep Mix': 'Livestock', 'Pig':'Livestock', 'Beveren Mix':'Rabbit','GUINEA PIG':'Rodent','Polish':'Rabbit'}\n"
   ]
  },
  {
   "cell_type": "code",
   "execution_count": 4,
   "metadata": {},
   "outputs": [
    {
     "data": {
      "text/plain": [
       "array(['DOG', 'CAT', 'Livestock', 'Rabbit', 'Rodent', 'Bird'],\n",
       "      dtype=object)"
      ]
     },
     "execution_count": 4,
     "metadata": {},
     "output_type": "execute_result"
    }
   ],
   "source": [
    "#Sonoma County_adoption\n",
    "a_sonoma['Outcome Date'] = pd.to_datetime(a_sonoma['Outcome Date'])\n",
    "a_sonoma['Date Of Birth'] = pd.to_datetime(a_sonoma['Date Of Birth'])\n",
    "\n",
    "a_sonoma_clean = a_sonoma[a_sonoma['Outcome Type'] == 'ADOPTION']\n",
    "a_sonoma_clean = a_sonoma_clean.loc[((\n",
    "    a_sonoma_clean['Outcome Date'] > pd.to_datetime(\"2019/01/01\"))&(\n",
    "    a_sonoma_clean['Outcome Date'] < pd.to_datetime(\"2020/12/31\")))]\n",
    "\n",
    "a_sonoma_clean['Age'] = a_sonoma_clean['Outcome Date']-a_sonoma_clean['Date Of Birth']\n",
    "\n",
    "a_sonoma_clean = a_sonoma_clean[[\"Outcome Date\",\"Type\",\"Breed\", \"Sex\" ,\"Age\"]]\n",
    "a_sonoma_clean = a_sonoma_clean.dropna()\n",
    "\n",
    "a_sonoma_clean['Age'] = a_sonoma_clean['Age'].apply(sonoma_standardize_age)\n",
    "\n",
    "a_sonoma_clean['Type'] = np.where(a_sonoma_clean['Type']== 'OTHER', a_sonoma_clean['Breed'], a_sonoma_clean['Type'])\n",
    "a_sonoma_clean['Type'] = a_sonoma_clean['Type'].replace(animals)\n",
    "\n",
    "a_sonoma_clean = a_sonoma_clean[[\"Outcome Date\",\"Type\", \"Sex\",\"Age\"]]\n",
    "a_sonoma_clean = a_sonoma_clean.rename(columns = {'Outcome Date':'Date'})\n",
    "\n",
    "a_sonoma_clean = a_sonoma_clean.reset_index()\n",
    "a_sonoma_clean = a_sonoma_clean.drop(['index'],axis = 1)\n",
    "a_sonoma_clean.head()\n",
    "a_sonoma_clean['Type'].unique()"
   ]
  },
  {
   "cell_type": "code",
   "execution_count": 5,
   "metadata": {},
   "outputs": [
    {
     "data": {
      "text/plain": [
       "array(['CAT', 'DOG', 'RABBIT', 'REPTILE', 'GUINEA PIG', 'LIVESTOCK',\n",
       "       'BIRD'], dtype=object)"
      ]
     },
     "execution_count": 5,
     "metadata": {},
     "output_type": "execute_result"
    }
   ],
   "source": [
    "#Long Beach County_adoption\n",
    "a_longbeach['Outcome Date'] = pd.to_datetime(a_longbeach['Outcome Date'])\n",
    "\n",
    "a_longbeach_clean = a_longbeach[a_longbeach['Outcome Type'] == 'ADOPTION']\n",
    "a_longbeach_clean = a_longbeach_clean.loc[((\n",
    "    a_longbeach_clean['Outcome Date'] > pd.to_datetime(\"2019/01/01\"))&(\n",
    "    a_longbeach_clean['Outcome Date'] < pd.to_datetime(\"2020/12/31\")))]\n",
    "\n",
    "a_longbeach_clean = a_longbeach_clean[[\"Outcome Date\",\"Animal Type\", \"Sex\", \"Age\"]]\n",
    "a_longbeach_clean = a_longbeach_clean.dropna()\n",
    "a_longbeach_clean = a_longbeach_clean[a_longbeach_clean['Animal Type'] != 'OTHER']\n",
    "\n",
    "a_longbeach_clean = a_longbeach_clean.rename(columns = {'Outcome Date' :'Date' , \n",
    "                                                  'Animal Type' : 'Type'})\n",
    "\n",
    "a_longbeach_clean = a_longbeach_clean.reset_index()\n",
    "a_longbeach_clean = a_longbeach_clean.drop(['index'],axis = 1)\n",
    "a_longbeach_clean.head()\n",
    "a_longbeach_clean['Type'].unique()"
   ]
  },
  {
   "cell_type": "code",
   "execution_count": 6,
   "metadata": {},
   "outputs": [
    {
     "data": {
      "text/plain": [
       "array(['Dog', 'Cat', 'Rabbit', 'Bird', 'Rodent', 'Livestock', 'Hedgehog'],\n",
       "      dtype=object)"
      ]
     },
     "execution_count": 6,
     "metadata": {},
     "output_type": "execute_result"
    }
   ],
   "source": [
    "#Austin County_adoption\n",
    "a_austin['DateTime'] = pd.to_datetime(a_austin['DateTime'])\n",
    "\n",
    "a_austin_clean = a_austin[a_austin['Outcome Type'] == 'Adoption']\n",
    "a_austin_clean = a_austin_clean.loc[((\n",
    "    a_austin_clean['DateTime'] > pd.to_datetime(\"2019/01/01\"))&(\n",
    "    a_austin_clean['DateTime'] < pd.to_datetime(\"2020/12/31\")))]\n",
    "a_austin_clean = a_austin_clean[[\"DateTime\",\"Animal Type\",\"Breed\", \"Sex upon Outcome\",\"Age upon Outcome\"]]\n",
    "a_austin_clean = a_austin_clean.dropna()\n",
    "a_austin_clean['Age upon Outcome'] = a_austin_clean['Age upon Outcome'].apply(standardize_age)\n",
    "\n",
    "a_austin_clean['Animal Type'] = np.where(a_austin_clean['Animal Type'] == 'Other', a_austin_clean['Breed'], a_austin_clean['Animal Type'])\n",
    "a_austin_clean['Animal Type'] = np.where(a_austin_clean['Animal Type'] == 'Livestock', a_austin_clean['Breed'], a_austin_clean['Animal Type'])\n",
    "a_austin_clean['Animal Type'] = a_austin_clean['Animal Type'].replace(animals)\n",
    "\n",
    "def sex(row):\n",
    "    if row['Sex upon Outcome'] == \"Spayed Female\":\n",
    "        val = 'Spayed'\n",
    "    elif row['Sex upon Outcome'] == \"Neutered Male\":\n",
    "        val = 'Neutered'\n",
    "    elif row['Sex upon Outcome'] == \"Intact Female\":\n",
    "        val = 'Female'\n",
    "    else:\n",
    "        val = 'Male'\n",
    "    return val\n",
    "a_austin_clean['Sex upon Outcome'] = a_austin_clean.apply(sex, axis=1)\n",
    "a_austin_clean = a_austin_clean[[\"DateTime\",\"Animal Type\",\"Sex upon Outcome\",\"Age upon Outcome\"]]\n",
    "a_austin_clean = a_austin_clean.rename(columns = {'Sex upon Outcome':'Sex', \n",
    "                                                  'Age upon Outcome':'Age' , \n",
    "                                                  'Animal Type':'Type',\n",
    "                                                 'DateTime' : 'Date'})\n",
    "\n",
    "from datetime import datetime\n",
    "from datetime import date\n",
    "def rem_time(d):\n",
    "    s = date(d.year,d.month, d.day)\n",
    "    return s\n",
    "\n",
    "a_austin_clean['Date'] = a_austin_clean['Date'].apply(rem_time)\n",
    "\n",
    "\n",
    "a_austin_clean = a_austin_clean.reset_index()\n",
    "a_austin_clean = a_austin_clean.drop(['index'],axis = 1)\n",
    "a_austin_clean.head()\n",
    "\n",
    "a_austin_clean['Type'].unique()"
   ]
  },
  {
   "cell_type": "code",
   "execution_count": 7,
   "metadata": {},
   "outputs": [
    {
     "data": {
      "text/plain": [
       "array(['12 years 6 months.', '12 years 5 months.', '9 years 10 months.',\n",
       "       '12 years 3 months.', '9 years 3 months.', '7 years 10 months.',\n",
       "       '6 years 6 months.', '7 years 5 months.', '8 years 2 months.',\n",
       "       '7 years 2 months.', '6 years 7 months.', '5 years 2 months.',\n",
       "       '13 years 3 months.', '6 years 8 months.', '6 years 1 month.',\n",
       "       '16 years 3 months.', '17 years 1 month.', '8 years 1 month.',\n",
       "       '10 years 2 months.', '15 years 1 month.', '7 years 1 month.',\n",
       "       '6 years 0 months.', '5 years 11 months.', '7 years 6 months.',\n",
       "       '5 years 3 months.', '8 years 11 months.', '10 years 0 months.',\n",
       "       '6 years 2 months.', '10 years 1 month.', '12 years 0 months.',\n",
       "       '7 years 3 months.', '9 years 0 months.', '5 years 1 month.',\n",
       "       '5 years 0 months.', '8 years 0 months.', '5 years 9 months.',\n",
       "       '5 years 8 months.', '7 years 0 months.', '10 years 3 months.',\n",
       "       '8 years 8 months.', '6 years 5 months.', '20 years 0 months.',\n",
       "       '21 years 0 months.', '5 years 7 months.', '7 years 11 months.',\n",
       "       '7 years 4 months.', '9 years 6 months.', '8 years 9 months.',\n",
       "       '13 years 4 months.', '5 years 6 months.', '7 years 7 months.',\n",
       "       '7 years 9 months.', '2 years 7 months.', '5 years 10 months.',\n",
       "       '16 years 11 months.', '6 years 3 months.', '11 years 0 months.',\n",
       "       '14 years 11 months.', '6 years 11 months.', '5 years 5 months.',\n",
       "       '11 years 11 months.', '15 years 11 months.',\n",
       "       '12 years 11 months.', '17 years 9 months.', '9 years 11 months.',\n",
       "       '6 years 4 months.', '13 years 5 months.', '3 weeks.',\n",
       "       '4 years 11 months.', '10 years 11 months.', '1 week.',\n",
       "       '16 years 7 months.', '13 years 11 months.', '37 years 11 months.',\n",
       "       '32 years 11 months.', '9 years 5 months.', '5 years 4 months.',\n",
       "       '19 years 11 months.', '6 years 9 months.', '14 years 0 months.',\n",
       "       '10 weeks.', '7 months.', '14 years 10 months.',\n",
       "       '17 years 11 months.', '10 years 8 months.', '8 years 3 months.',\n",
       "       '13 years 0 months.', '15 years 0 months.', '2 years 2 months.',\n",
       "       '11 years 4 months.', '19 years 10 months.', '11 years 2 months.',\n",
       "       '8 years 10 months.', '15 years 2 months.', '6 years 10 months.',\n",
       "       '10 years 10 months.', '103 years 10 months.',\n",
       "       '10 years 6 months.', '11 years 10 months.', '12 years 1 month.',\n",
       "       '13 years 2 months.', '12 years 2 months.', '13 years 10 months.',\n",
       "       '12 years 10 months.', '14 years 8 months.', '3 years 7 months.',\n",
       "       '6 weeks.', '4 weeks.', '18 years 10 months.',\n",
       "       '15 years 10 months.', '4 years 10 months.', '17 years 10 months.',\n",
       "       '3 years 8 months.', '14 years 6 months.', '8 months.',\n",
       "       '14 years 9 months.', '17 years 0 months.', '9 weeks.',\n",
       "       '16 years 9 months.', '34 years 10 months.', '12 years 4 months.',\n",
       "       '12 weeks.', '10 years 9 months.', '9 years 9 months.',\n",
       "       '14 years 2 months.', '20 years 2 months.', '3 years 4 months.',\n",
       "       '4 years 9 months.', '14 years 1 month.', '17 years 2 months.',\n",
       "       '11 years 9 months.', '12 years 9 months.', '2 years 3 months.',\n",
       "       '2 years 8 months.', '1 year 10 months.', '32 years 9 months.',\n",
       "       '13 years 8 months.', '103 years 9 months.', '15 years 5 months.',\n",
       "       '13 years 9 months.', '2 years 4 months.', '7 years 8 months.',\n",
       "       '11 years 8 months.', '15 years 9 months.', '17 years 8 months.',\n",
       "       '12 years 8 months.', '2 weeks.', '17 years 3 months.',\n",
       "       '1 year 8 months.', '37 years 8 months.', '28 years 0 months.',\n",
       "       '9 years 8 months.', '34 years 8 months.', '9 years 2 months.',\n",
       "       '4 years 8 months.', '22 years 8 months.', '15 years 8 months.',\n",
       "       '11 years 1 month.', '5 weeks.', '32 years 8 months.',\n",
       "       '16 years 0 months.', '9 years 7 months.', '12 years 7 months.',\n",
       "       '16 years 8 months.', '103 years 8 months.', '973 years 8 months.',\n",
       "       '18 years 7 months.', '8 years 7 months.', '16 years 4 months.',\n",
       "       '8 years 6 months.', '18 years 8 months.', '2 years 1 month.',\n",
       "       '103 years 7 months.', '14 years 7 months.', '11 years 6 months.',\n",
       "       '13 years 7 months.', '10 years 7 months.', '9 years 4 months.',\n",
       "       '8 weeks.', '17 years 7 months.', '13 years 1 month.',\n",
       "       '11 years 3 months.', '11 years 7 months.', '15 years 7 months.',\n",
       "       '16 years 10 months.', '24 weeks.', '4 years 7 months.',\n",
       "       '9 years 1 month.', '18 years 2 months.', '34 years 7 months.',\n",
       "       '11 weeks.', '37 years 6 months.', '16 years 6 months.',\n",
       "       '1 year 3 months.', '17 years 5 months.', '7 weeks.',\n",
       "       '3 years 2 months.', '8 years 5 months.', '13 years 6 months.',\n",
       "       '6 months.', '16 years 5 months.', '32 years 6 months.',\n",
       "       '15 years 6 months.', '4 years 6 months.', '4 years 5 months.',\n",
       "       '4 years 0 months.', '18 years 5 months.', '14 years 5 months.',\n",
       "       '19 years 5 months.', '11 years 5 months.', '10 years 5 months.',\n",
       "       '37 years 5 months.', '59 years 5 months.', '8 years 4 months.',\n",
       "       '17 years 4 months.', '32 years 5 months.', '3 years 10 months.',\n",
       "       '10 years 4 months.', '14 years 4 months.', '19 years 3 months.',\n",
       "       '1 year 6 months.', '3 years 5 months.', '15 years 3 months.',\n",
       "       '18 years 3 months.', '19 years 4 months.', '14 years 3 months.',\n",
       "       '34 years 3 months.', '103 years 3 months.', '32 years 3 months.',\n",
       "       '4 years 4 months.', '3 years 1 month.', '37 years 2 months.',\n",
       "       '4 years 3 months.', '18 years 1 month.', '16 years 2 months.',\n",
       "       '11 months.', '37 years 1 month.', '32 years 1 month.',\n",
       "       '1 year 5 months.', '4 years 2 months.', '20 years 1 month.',\n",
       "       '18 years 0 months.', '103 years 0 months.', '1 year 9 months.',\n",
       "       '3 years 11 months.', '10 months.', '33 years 11 months.',\n",
       "       '4 years 1 month.', '19 years 0 months.', '31 years 11 months.',\n",
       "       '14 weeks.', '2 days.', '19 weeks.', '36 years 10 months.',\n",
       "       '20 years 10 months.', '2 years 0 months.', '3 years 9 months.',\n",
       "       '102 years 9 months.', '21 weeks.', '1 year 7 months.',\n",
       "       '102 years 8 months.', '36 years 8 months.', '31 years 8 months.',\n",
       "       '18 weeks.', '21 years 7 months.', '3 days.', '1 day.',\n",
       "       '3 years 3 months.', '33 years 6 months.', '1 year 0 months.',\n",
       "       '18 years 6 months.', '3 years 6 months.', '1 year 1 month.',\n",
       "       '17 years 6 months.', '1 year 2 months.', '36 years 5 months.',\n",
       "       '31 years 5 months.', '102 years 5 months.', '1 year 11 months.',\n",
       "       '30 years 0 months.', '20 years 5 months.', '20 years 4 months.',\n",
       "       '18 years 4 months.', '102 years 3 months.', '33 years 3 months.',\n",
       "       '19 years 2 months.', '36 years 3 months.', '36 years 2 months.',\n",
       "       '19 years 1 month.', '36 years 1 month.', '31 years 1 month.',\n",
       "       '16 years 1 month.', '31 years 0 months.', '3 years 0 months.',\n",
       "       '101 years 11 months.', '35 years 11 months.',\n",
       "       '2 years 11 months.', '4 days.', '2 years 10 months.',\n",
       "       '22 years 10 months.', '2 years 9 months.', '20 weeks.',\n",
       "       '101 years 9 months.', '9 months.', '29 years 8 months.',\n",
       "       '19 years 9 months.', '35 years 7 months.', '32 years 7 months.',\n",
       "       '23 years 6 months.', '2 years 6 months.', '19 years 6 months.',\n",
       "       '1 year 4 months.', '22 years 5 months.', '30 years 5 months.',\n",
       "       '2 years 5 months.', '32 years 4 months.', '30 years 4 months.',\n",
       "       '101 years 3 months.', '35 years 3 months.', '30 years 2 months.',\n",
       "       '32 years 2 months.', '101 years 2 months.', '22 years 1 month.',\n",
       "       '30 years 1 month.', '29 years 7 months.', '5 days.', '25 weeks.',\n",
       "       '100 years 6 months.', '100 years 5 months.', '15 years 4 months.',\n",
       "       '29 years 2 months.', '30 years 11 months.', '17 weeks.',\n",
       "       '18 years 9 months.', '0 days.', '99 years 8 months.',\n",
       "       '99 years 5 months.', '99 years 0 months.', '5 months.',\n",
       "       '22 weeks.', '28 years 3 months.', '23 weeks.', '16 weeks.',\n",
       "       '15 weeks.', '99 years 1 month.', '13 weeks.'], dtype=object)"
      ]
     },
     "execution_count": 7,
     "metadata": {},
     "output_type": "execute_result"
    }
   ],
   "source": [
    "#Bloomington\n",
    "'''\n",
    "a_sonoma['Outcome Date'] = pd.to_datetime(a_sonoma['Outcome Date'])\n",
    "a_sonoma['Date Of Birth'] = pd.to_datetime(a_sonoma['Date Of Birth'])\n",
    "\n",
    "a_sonoma_clean = a_sonoma[a_sonoma['Outcome Type'] == 'ADOPTION']\n",
    "a_sonoma_clean = a_sonoma_clean.loc[((\n",
    "    a_sonoma_clean['Outcome Date'] > pd.to_datetime(\"2019/01/01\"))&(\n",
    "    a_sonoma_clean['Outcome Date'] < pd.to_datetime(\"2020/12/31\")))]\n",
    "\n",
    "a_sonoma_clean['Age'] = a_sonoma_clean['Outcome Date']-a_sonoma_clean['Date Of Birth']\n",
    "\n",
    "a_sonoma_clean = a_sonoma_clean[[\"Outcome Date\",\"Type\",\"Breed\", \"Sex\" ,\"Age\"]]\n",
    "a_sonoma_clean = a_sonoma_clean.dropna()\n",
    "\n",
    "a_sonoma_clean['Age'] = a_sonoma_clean['Age'].apply(sonoma_standardize_age)\n",
    "\n",
    "a_sonoma_clean['Type'] = np.where(a_sonoma_clean['Type']== 'OTHER', a_sonoma_clean['Breed'], a_sonoma_clean['Type'])\n",
    "a_sonoma_clean['Type'] = a_sonoma_clean['Type'].replace(animals)\n",
    "\n",
    "a_sonoma_clean = a_sonoma_clean[[\"Outcome Date\",\"Type\", \"Sex\",\"Age\"]]\n",
    "a_sonoma_clean = a_sonoma_clean.rename(columns = {'Outcome Date':'Date'})\n",
    "\n",
    "a_sonoma_clean = a_sonoma_clean.reset_index()\n",
    "a_sonoma_clean = a_sonoma_clean.drop(['index'],axis = 1)\n",
    "a_sonoma_clean.head()\n",
    "a_sonoma_clean['Type'].unique()\n",
    "'''\n",
    "\n",
    "a_bloom['movementdate'] = pd.to_datetime(a_bloom['movementdate'])\n",
    "a_bloom_clean = a_bloom[a_bloom['movementtype'] == 'Adoption']\n",
    "a_bloom_clean = a_bloom_clean.loc[((\n",
    "    a_bloom_clean['movementdate'] > pd.to_datetime(\"2019/01/01\"))&(\n",
    "    a_bloom_clean['movementdate'] < pd.to_datetime(\"2020/12/31\")))]\n",
    "\n",
    "a_bloom_clean = a_bloom_clean[[\"movementdate\",\"speciesname\",'sexname','animalage']]\n",
    "\n",
    "\n",
    "\n",
    "a_bloom_clean['speciesname'] = a_bloom_clean['speciesname'].replace(animals)\n",
    "a_bloom_clean = a_bloom_clean.drop(a_bloom_clean[a_bloom_clean['sexname']=='Unknown'].index)\n",
    "\n",
    "\n",
    "\n",
    "a_bloom_clean = a_bloom_clean.rename(columns = {'movementdate':'Date', \n",
    "                                                'speciesname':'Type',\n",
    "                                                'sexname':'Sex' })\n",
    "\n",
    "\n",
    "'''\n",
    "def standardize_age2(agetime_in):\n",
    "    try:\n",
    "        str_in = str(agetime_in)\n",
    "        str_in = str_in.lower()\n",
    "        str_in = str_in.strip()\n",
    "        str_in = str_in.replace('.', '')\n",
    "        \n",
    "        #keep\n",
    "        if 'day' in str_in or 'days' in str_in:\n",
    "            str_in = str_in.replace('days', '')\n",
    "            str_in = str_in.replace('day', '')\n",
    "            output = float(str_in)\n",
    "            output = round(output / 365, ROUND_DECIMALS)\n",
    "        elif 'week' in str_in or 'weeks' in str_in:\n",
    "            str_in = str_in.replace('weeks', '')\n",
    "            str_in = str_in.replace('week', '')\n",
    "            output = float(str_in)\n",
    "            output = round(output / 52, ROUND_DECIMALS)\n",
    "            \n",
    "        elif 'month' in str_in or 'months' in str_in or 'year' in str_in or 'years' in str_in:\n",
    "            str_in = str_in.replace('months', '')\n",
    "            str_in = str_in.replace('month', '')\n",
    "            str_in = str_in.replace('years', ' ')\n",
    "            str_in = str_in.replace('year', ' ')\n",
    "            str_in = list(str_in.split(' '))\n",
    "            output = float(str_in)\n",
    "            output = round(output / 12, ROUND_DECIMALS)\n",
    "       \n",
    "       \n",
    "            \n",
    "            output = round(float(str_in), ROUND_DECIMALS)\n",
    "        else:\n",
    "            output = np.nan\n",
    "    except:\n",
    "        output = np.nan\n",
    "        \n",
    "    return output\n",
    "\n",
    "def Convert(string):\n",
    "    li = list(string.split(\" \"))\n",
    "    return li\n",
    " \n",
    "'''\n",
    "\n",
    "a_bloom_clean.head()\n",
    "a_bloom['animalage'].unique()"
   ]
  },
  {
   "cell_type": "code",
   "execution_count": 11,
   "metadata": {},
   "outputs": [
    {
     "data": {
      "text/plain": [
       "array(['Adoption'], dtype=object)"
      ]
     },
     "execution_count": 11,
     "metadata": {},
     "output_type": "execute_result"
    }
   ],
   "source": [
    "#Norfolk County_adoption\n",
    "a_norfolk['Intake Date'] = pd.to_datetime(a_norfolk['Intake Date'])\n",
    "a_norfolk_clean = a_norfolk[a_norfolk['Outcome Type'] == 'Adoption']\n",
    "a_norfolk_clean = a_norfolk_clean.loc[((\n",
    "    a_norfolk_clean['Intake Date'] > pd.to_datetime(\"2019/01/01\"))&(\n",
    "    a_norfolk_clean['Intake Date'] < pd.to_datetime(\"2020/12/31\")))]\n",
    "\n",
    "a_norfolk_clean['Age'] = a_norfolk_clean['Years Old']\n",
    "\n",
    "a_norfolk_clean = a_norfolk_clean[[\"Outcome Date\",\"Outcome Type\",\"Primary Breed\", \"Sex\" ,\"Age\"]]\n",
    "a_norfolk_clean = a_norfolk_clean.dropna()\n",
    "\n",
    "a_norfolk_clean['Age'] = a_norfolk_clean['Age'].apply(standardize_age)\n",
    "\n",
    "a_norfolk_clean['Type'] = np.where(a_norfolk_clean['Outcome Type']== 'OTHER', a_norfolk_clean['Primary Breed'], a_norfolk_clean['Outcome Type'])\n",
    "a_norfolk_clean['Type'] = a_norfolk_clean['Outcome Type'].replace(animals)\n",
    "\n",
    "def sex(row):\n",
    "    if row['Sex upon Outcome'] == \"Spayed Female\":\n",
    "        val = 'Spayed'\n",
    "    elif row['Sex upon Outcome'] == \"Neutered Male\":\n",
    "        val = 'Neutered'\n",
    "    elif row['Sex upon Outcome'] == \"Intact Female\":\n",
    "        val = 'Female'\n",
    "    else:\n",
    "        val = 'Male'\n",
    "    return val\n",
    "\n",
    "a_norfolk_clean = a_norfolk_clean[[\"Outcome Date\",\"Type\", \"Sex\",\"Age\"]]\n",
    "a_norfolk_clean = a_norfolk_clean.rename(columns = {'Outcome Date':'Date'})\n",
    "\n",
    "a_norfolk_clean = a_norfolk_clean.reset_index()\n",
    "a_norfolk_clean = a_norfolk_clean.drop(['index'],axis = 1)\n",
    "a_norfolk_clean.head()\n",
    "a_norfolk_clean['Type'].unique()"
   ]
  },
  {
   "cell_type": "code",
   "execution_count": null,
   "metadata": {},
   "outputs": [],
   "source": [
    "a_sacramento"
   ]
  },
  {
   "cell_type": "markdown",
   "metadata": {},
   "source": [
    "# Data Analysis & Results (EDA)"
   ]
  },
  {
   "cell_type": "markdown",
   "metadata": {},
   "source": [
    "Carry out EDA on your dataset(s); Describe in this section\n",
    "\n"
   ]
  },
  {
   "cell_type": "markdown",
   "metadata": {},
   "source": [
    "For each of pet adoption dataset in three regions, we splitted it into subsets of data in 2019 and in 2020. Then, we took a closer look at the the trends of pet adoption in 2019 and 2020 side by side. "
   ]
  },
  {
   "cell_type": "code",
   "execution_count": null,
   "metadata": {},
   "outputs": [],
   "source": [
    "# Long beach \n",
    "a_longbeach_clean = a_longbeach_clean.sort_values(by='Date')\n",
    "a_longbeach_clean['year'] = pd.DatetimeIndex(a_longbeach_clean['Date']).year\n",
    "a_longbeach_clean = a_longbeach_clean.drop(a_longbeach_clean[a_longbeach_clean['Sex']=='Unknown'].index)\n",
    "order=['DOG', 'CAT','RABBIT','REPTILE', 'BIRD', 'RODENT','LIVESTOCK']\n",
    "a_longbeach_clean"
   ]
  },
  {
   "cell_type": "code",
   "execution_count": null,
   "metadata": {},
   "outputs": [],
   "source": [
    "longbeach_2019 = a_longbeach_clean.loc[a_longbeach_clean['year']==2019]\n",
    "longbeach_2020 = a_longbeach_clean.loc[a_longbeach_clean['year']==2020]"
   ]
  },
  {
   "cell_type": "markdown",
   "metadata": {},
   "source": [
    "Shown below is a bar graph comparing the total adoption of various pets in Long Beach in 2019 and 2020. Except bird, there are observable decreases in adopting all the types of pets after covid start in 2020. For both years, more cats were adopted than other pet types, while dog was the second perferred pets for adoption. Adoptions for all other types were much less. "
   ]
  },
  {
   "cell_type": "code",
   "execution_count": null,
   "metadata": {},
   "outputs": [],
   "source": [
    "sns.countplot(data = a_longbeach_clean, x = 'Type', hue = 'year',order=order)"
   ]
  },
  {
   "cell_type": "markdown",
   "metadata": {},
   "source": [
    "Grouped by pet types, the sex differences in adopted pets were illustrated in this graph. In general, less intact cats and dogs were adopted after the start of the covid and all birds adopted in 2020 seemed to be all intact in Long Beach. "
   ]
  },
  {
   "cell_type": "code",
   "execution_count": null,
   "metadata": {},
   "outputs": [],
   "source": [
    "fig, axes = plt.subplots(1, 2, sharex=True, figsize=(20,10))\n",
    "ax1 = sns.countplot(data = longbeach_2019, x = 'Type',hue = 'Sex', ax = axes[0], order=order)\n",
    "ax2 = sns.countplot(data = longbeach_2020, x = 'Type',hue = 'Sex', ax = axes[1], order=order)\n",
    "ax1.title.set_text('Sex related to Types in 2019 at Long Beach')\n",
    "ax2.title.set_text('Sex related to Types in 2020 at Long Beach')"
   ]
  },
  {
   "cell_type": "markdown",
   "metadata": {},
   "source": [
    "Ages of adopted pets in Long Beach seemed to be skewed to right in both 2019 and 2020. People seemed to have a consistent preference to young cats, while their preferred ages for dogs seemed to be about 1-2 years older than cats. "
   ]
  },
  {
   "cell_type": "code",
   "execution_count": null,
   "metadata": {
    "scrolled": true
   },
   "outputs": [],
   "source": [
    "fig, axes = plt.subplots(2, 1, sharex=True, figsize=(20,10))\n",
    "ax1 = sns.countplot(data = longbeach_2019, x = 'Age',hue = 'Type', ax = axes[0],hue_order=order)\n",
    "ax2 = sns.countplot(data = longbeach_2020, x = 'Age',hue = 'Type', ax = axes[1],hue_order=order)\n",
    "ax1.title.set_text('Age related to Types in 2019 at Long Beach')\n",
    "ax2.title.set_text('Age related to Types in 2020 at Long Beach')"
   ]
  },
  {
   "cell_type": "code",
   "execution_count": null,
   "metadata": {},
   "outputs": [],
   "source": [
    "# Basic Statistical analysis\n",
    "overall_adoption_change(a_longbeach_clean)"
   ]
  },
  {
   "cell_type": "markdown",
   "metadata": {},
   "source": [
    "Same data processing steps were used to make subsets of pet adoptions in 2019 and 2020 for sonoma."
   ]
  },
  {
   "cell_type": "code",
   "execution_count": null,
   "metadata": {},
   "outputs": [],
   "source": [
    "#Sonoma\n",
    "a_sonoma_clean = a_sonoma_clean.sort_values(by='Date')\n",
    "a_sonoma_clean['year'] = pd.DatetimeIndex(a_sonoma_clean['Date']).year\n",
    "a_sonoma_clean"
   ]
  },
  {
   "cell_type": "code",
   "execution_count": null,
   "metadata": {},
   "outputs": [],
   "source": [
    "sonoma_2019 = a_sonoma_clean.loc[a_sonoma_clean['year']==2019]\n",
    "sonoma_2020 = a_sonoma_clean.loc[a_sonoma_clean['year']==2020]"
   ]
  },
  {
   "cell_type": "markdown",
   "metadata": {},
   "source": [
    "A dramatic decline in pet adoption was observed in sonoma after covid starts in 2020, but the preference towards cat and dog adoptions proceeds. "
   ]
  },
  {
   "cell_type": "code",
   "execution_count": null,
   "metadata": {
    "scrolled": true
   },
   "outputs": [],
   "source": [
    "sns.countplot(data = a_sonoma_clean, x = 'Type', hue = 'year')"
   ]
  },
  {
   "cell_type": "markdown",
   "metadata": {},
   "source": [
    "Mostly pets adopted in Sonoma seemed to be already neutered or spayed. There seemed to be a preference towards spayed cats and neutered dogs in 2020, while people adopted more neutered cats and spayed dogs in 2019. "
   ]
  },
  {
   "cell_type": "code",
   "execution_count": null,
   "metadata": {},
   "outputs": [],
   "source": [
    "fig, axes = plt.subplots(1, 2, sharex=True, figsize=(20,10))\n",
    "ax1 = sns.countplot(data = sonoma_2019, x = 'Type',hue = 'Sex', ax = axes[0])\n",
    "ax2 = sns.countplot(data = sonoma_2020, x = 'Type',hue = 'Sex', ax = axes[1])\n",
    "ax1.title.set_text('Sex related to Types in 2019 at Sonoma')\n",
    "ax2.title.set_text('Sex related to Types in 2020 at Sonoma')"
   ]
  },
  {
   "cell_type": "markdown",
   "metadata": {},
   "source": [
    "Age preferences towards adoptable pets seemed to hold true for people in sonoma. "
   ]
  },
  {
   "cell_type": "code",
   "execution_count": null,
   "metadata": {
    "scrolled": true
   },
   "outputs": [],
   "source": [
    "fig, axes = plt.subplots(2, 1, sharex=True, figsize=(20,10))\n",
    "ax1 = sns.countplot(data = sonoma_2019, x = 'Age',hue = 'Type', ax = axes[0])\n",
    "ax2 = sns.countplot(data = sonoma_2020, x = 'Age',hue = 'Type', ax = axes[1])\n",
    "ax1.title.set_text('Age related to Types in 2019 at Sonoma')\n",
    "ax2.title.set_text('Age related to Types in 2020 at Sonoma')"
   ]
  },
  {
   "cell_type": "code",
   "execution_count": null,
   "metadata": {},
   "outputs": [],
   "source": [
    "# Basic Statistical analysis\n",
    "overall_adoption_change(a_sonoma_clean)"
   ]
  },
  {
   "cell_type": "markdown",
   "metadata": {},
   "source": [
    "Subsets of Austin were also generated by year. "
   ]
  },
  {
   "cell_type": "code",
   "execution_count": null,
   "metadata": {},
   "outputs": [],
   "source": [
    "# Austin\n",
    "a_austin_clean['year'] = pd.DatetimeIndex(a_austin_clean['Date']).year"
   ]
  },
  {
   "cell_type": "markdown",
   "metadata": {},
   "source": [
    "In addition to decreased adoption counts, people seemed to have a preference to cats in 2019, while their preference  shifted to dogs in 2020. "
   ]
  },
  {
   "cell_type": "code",
   "execution_count": null,
   "metadata": {},
   "outputs": [],
   "source": [
    "# Type 2019 vs 2020\n",
    "austin_2019 = a_austin_clean[a_austin_clean['year'] == 2019]\n",
    "austin_2020 = a_austin_clean[a_austin_clean['year'] == 2020]\n",
    "\n",
    "fig, axes = plt.subplots(1, 2, sharex=True, figsize=(20,10))\n",
    "ax1 = sns.countplot(data = austin_2019, x = 'Type', hue = 'year', ax = axes[0])\n",
    "ax2 = sns.countplot(data = austin_2020, x = 'Type', hue = 'year',ax = axes[1])\n",
    "ax1.title.set_text('Type count in 2019 at Austin')\n",
    "ax2.title.set_text('Type count in 2020 at Austin')"
   ]
  },
  {
   "cell_type": "markdown",
   "metadata": {},
   "source": [
    "Like in other regions, people in Austin have a preference towards really young cats, and their preferred age of adopted dogs seemed to be about 1 year older than which of cats. "
   ]
  },
  {
   "cell_type": "code",
   "execution_count": null,
   "metadata": {},
   "outputs": [],
   "source": [
    "# Age by type in 2019 vs 2020\n",
    "austin_two_year = a_austin_clean[(a_austin_clean['year'] == 2019) | (a_austin_clean['year'] == 2020)]\n",
    "\n",
    "fig, axes = plt.subplots(figsize=(40,10))\n",
    "Age_compare = sns.barplot(x=\"Type\", y=\"Age\", hue=\"year\", data=austin_two_year)"
   ]
  },
  {
   "cell_type": "markdown",
   "metadata": {},
   "source": [
    "There seemed to be an increased preference towards neutered dogs in 2020. In Austin, people seemed to consistently prefer neutered cats. "
   ]
  },
  {
   "cell_type": "code",
   "execution_count": null,
   "metadata": {},
   "outputs": [],
   "source": [
    "# Sex by type in 2019 vs 2020\n",
    "fig, axes = plt.subplots(1, 2, sharex=True, figsize=(20,10))\n",
    "ax1 = sns.countplot(data = austin_2019, x = 'Type',hue = 'Sex', ax = axes[0])\n",
    "ax2 = sns.countplot(data = austin_2020, x = 'Type',hue = 'Sex',ax = axes[1])\n",
    "ax1.title.set_text('Sex by types in 2019 at Austin')\n",
    "ax2.title.set_text('Sex by types in 2020 at Austin')"
   ]
  },
  {
   "cell_type": "code",
   "execution_count": null,
   "metadata": {},
   "outputs": [],
   "source": [
    "# Basic Statistical analysis\n",
    "overall_adoption_change(a_austin_clean)"
   ]
  },
  {
   "cell_type": "markdown",
   "metadata": {},
   "source": [
    "After looking at differences in pet adoption trends in different regions, we combined them into a larger dataset. "
   ]
  },
  {
   "cell_type": "code",
   "execution_count": null,
   "metadata": {},
   "outputs": [],
   "source": [
    "# Combining dataset from three regions\n",
    "combined_2019 = pd.concat([longbeach_2019, sonoma_2019, austin_2019], ignore_index=True)\n",
    "combined_2020 = pd.concat([longbeach_2020, sonoma_2020, austin_2020], ignore_index=True)\n",
    "combined_2019['Type'] = combined_2019['Type'].str.upper()\n",
    "combined_2020['Type'] = combined_2020['Type'].str.upper()\n",
    "combined_total = pd.concat([combined_2019, combined_2020], ignore_index=True)"
   ]
  },
  {
   "cell_type": "markdown",
   "metadata": {},
   "source": [
    "Decreases in pet adoption were well illustrated this combined bar graph. Dog and cat adoptions almost decreaed by 50% by counts."
   ]
  },
  {
   "cell_type": "code",
   "execution_count": null,
   "metadata": {},
   "outputs": [],
   "source": [
    "sns.countplot(data = combined_total, x = 'Type', hue = 'year')\n",
    "plt.legend(loc = 'upper right')"
   ]
  },
  {
   "cell_type": "markdown",
   "metadata": {},
   "source": [
    "People's preference towards sex of adoptable pets seemed to be consistent across pet types. "
   ]
  },
  {
   "cell_type": "code",
   "execution_count": null,
   "metadata": {},
   "outputs": [],
   "source": [
    "# Sex by type in 2019 vs 2020\n",
    "fig, axes = plt.subplots(1, 2, sharex=True, figsize=(20,10))\n",
    "ax1 = sns.countplot(data = combined_2019, x = 'Type',hue = 'Sex', ax = axes[0], order=order)\n",
    "ax2 = sns.countplot(data = combined_2020, x = 'Type',hue = 'Sex', ax = axes[1], order=order)\n",
    "ax1.title.set_text('Sex related to Types in 2019 Combined')\n",
    "ax2.title.set_text('Sex related to Types in 2020 Combined')\n"
   ]
  },
  {
   "cell_type": "code",
   "execution_count": null,
   "metadata": {},
   "outputs": [],
   "source": [
    "combined_total['Age'].max()"
   ]
  },
  {
   "cell_type": "code",
   "execution_count": null,
   "metadata": {},
   "outputs": [],
   "source": [
    "fig, axes = plt.subplots(2, 1, sharex=True, figsize=(20,10))\n",
    "ax1 = sns.countplot(data = combined_2019, x = 'Age',hue = 'Type', ax = axes[0],hue_order=order)\n",
    "ax2 = sns.countplot(data = combined_2020, x = 'Age',hue = 'Type', ax = axes[1],hue_order=order)\n",
    "ax1.title.set_text('Age related to Types in 2019 Combined')\n",
    "ax2.title.set_text('Age related to Types in 2020 Combined')\n",
    "plt.xticks(range(6))"
   ]
  },
  {
   "cell_type": "code",
   "execution_count": null,
   "metadata": {},
   "outputs": [],
   "source": [
    "fig, axes = plt.subplots(figsize=(40,10))\n",
    "Age_compare = sns.barplot(x=\"Type\", y=\"Age\", hue=\"year\", data=combined_total)"
   ]
  },
  {
   "cell_type": "code",
   "execution_count": null,
   "metadata": {
    "scrolled": true
   },
   "outputs": [],
   "source": [
    "# Basic Statistical analysis\n",
    "overall_adoption_change(combined_total)"
   ]
  },
  {
   "cell_type": "markdown",
   "metadata": {},
   "source": [
    "Based on individual datasets from Long Beach, Sonoma, and Austin as well as combined dataset, there is a clear decrease in pet adoption in 2020 than in 2019. Besides overall decrease, we also observed the skewedness of ages of adopted pets. In general, most adopted pets were cats or dogs, in which most of them were neutered or spayed. "
   ]
  },
  {
   "cell_type": "code",
   "execution_count": null,
   "metadata": {},
   "outputs": [],
   "source": []
  }
 ],
 "metadata": {
  "kernelspec": {
   "display_name": "Python 3 (ipykernel)",
   "language": "python",
   "name": "python3"
  },
  "language_info": {
   "codemirror_mode": {
    "name": "ipython",
    "version": 3
   },
   "file_extension": ".py",
   "mimetype": "text/x-python",
   "name": "python",
   "nbconvert_exporter": "python",
   "pygments_lexer": "ipython3",
   "version": "3.9.5"
  }
 },
 "nbformat": 4,
 "nbformat_minor": 2
}
