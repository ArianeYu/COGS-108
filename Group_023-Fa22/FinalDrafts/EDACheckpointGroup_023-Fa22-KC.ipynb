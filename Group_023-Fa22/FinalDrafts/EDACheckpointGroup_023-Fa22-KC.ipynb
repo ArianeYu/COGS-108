{
 "cells": [
  {
   "cell_type": "markdown",
   "metadata": {},
   "source": [
    "# COGS 108 - EDA Checkpoint"
   ]
  },
  {
   "cell_type": "markdown",
   "metadata": {},
   "source": [
    "# Names\n",
    "\n",
    "- Yu Zhang\n",
    "- Zhiying Guan\n",
    "- Kaiwen Che\n",
    "- Zhiwei Wang\n",
    "- Ariane Yu"
   ]
  },
  {
   "cell_type": "markdown",
   "metadata": {},
   "source": [
    "<a id='research_question'></a>\n",
    "# Research Question"
   ]
  },
  {
   "cell_type": "markdown",
   "metadata": {},
   "source": [
    "By comparing the changes in adoption trend between 2019 and 2020, how does social distancing, as a result of covid outbreak, affect pet adoption preferences, in terms of pets’ types, ages, and gender specifically? "
   ]
  },
  {
   "cell_type": "markdown",
   "metadata": {},
   "source": [
    "# Setup"
   ]
  },
  {
   "cell_type": "code",
   "execution_count": 1,
   "metadata": {},
   "outputs": [],
   "source": [
    "import numpy as np\n",
    "import pandas as pd\n",
    "import seaborn as sns\n",
    "import matplotlib.pyplot as plt\n",
    "import numpy as np\n",
    "import scipy.stats as stats\n",
    "\n",
    "from scipy.stats import chi2_contingency"
   ]
  },
  {
   "cell_type": "code",
   "execution_count": 2,
   "metadata": {},
   "outputs": [],
   "source": [
    "## YOUR CODE HERE\n",
    "a_sonoma = pd.read_csv('datasets/Sonoma_Adoption.csv')\n",
    "a_longbeach = pd.read_csv('datasets/Longbeach_Adoption.csv')\n",
    "a_austin = pd.read_csv('datasets/Austin_Adoption.csv')\n",
    "a_bloom = pd.read_csv('datasets/Bloomington_Adoption.csv')\n",
    "a_dallas = pd.read_csv('datasets/Dallas_Adoption')\n",
    "a_norfolk = pd.read_csv('datasets/Norfolk_Adoption.csv')\n",
    "a_sacramento = pd.read_csv('datasets/Sacramento_Adoption.csv')\n",
    " \n",
    "ROUND_DECIMALS = 2\n",
    "\n",
    "def sonoma_standardize_age(timedelta_in):\n",
    "    output = float(timedelta_in.days)\n",
    "    output = round(output / 365, ROUND_DECIMALS)\n",
    "    return output\n",
    "\n",
    "def standardize_age(agetime_in):\n",
    "    try:\n",
    "        str_in = str(agetime_in)\n",
    "        str_in = str_in.lower()\n",
    "        str_in = str_in.strip()\n",
    "        \n",
    "        if 'day' in str_in or 'days' in str_in:\n",
    "            str_in = str_in.replace('days', '')\n",
    "            str_in = str_in.replace('day', '')\n",
    "            output = float(str_in)\n",
    "            output = round(output / 365, ROUND_DECIMALS)\n",
    "        elif 'w' in  str_in or 'week' in str_in or 'weeks' in str_in:\n",
    "            str_in = str_in.replace('weeks', '')\n",
    "            str_in = str_in.replace('week', '')\n",
    "            str_in = str_in.replace('w', '')\n",
    "            output = float(str_in)\n",
    "            output = round(output / 52, ROUND_DECIMALS)\n",
    "        elif 'month' in str_in or 'months' in str_in:\n",
    "            str_in = str_in.replace('months', '')\n",
    "            str_in = str_in.replace('month', '')\n",
    "            output = float(str_in)\n",
    "            output = round(output / 12, ROUND_DECIMALS)\n",
    "        elif 'year' in str_in or 'years' in str_in or 'y' in str_in:\n",
    "            str_in = str_in.replace('years', '')\n",
    "            str_in = str_in.replace('year', '')\n",
    "            str_in = str_in.replace('y', '')\n",
    "            output = round(float(str_in), ROUND_DECIMALS)\n",
    "        else:\n",
    "            output = np.nan\n",
    "    except:\n",
    "        output = np.nan\n",
    "        \n",
    "    return output\n",
    "\n",
    "# Overall change of adoption number:\n",
    "def overall_adoption_change(df_in):\n",
    "    df_2019 = df_in.loc[df_in['year']==2019]\n",
    "    df_2020 = df_in.loc[df_in['year']==2020]\n",
    "    animal_types = df_in['Type'].unique()\n",
    "    \n",
    "    overall_change = round(((df_2020.shape[0] - df_2019.shape[0]) / df_2019.shape[0]) * 100, ROUND_DECIMALS)\n",
    "    print(\"Overall Change of Total Adoption Number From 2019 to 2020:\", overall_change, \"%\")\n",
    "    \n",
    "    print(\"Change of Adoption Number by Type:\")\n",
    "    for animal in animal_types:\n",
    "        if animal in df_2019['Type'].value_counts():\n",
    "            animal_count_2019 = df_2019['Type'].value_counts()[animal]\n",
    "        else:\n",
    "            animal_count_2019 = 0\n",
    "            \n",
    "        if animal in df_2020['Type'].value_counts():\n",
    "            animal_count_2020 = df_2020['Type'].value_counts()[animal]\n",
    "        else:\n",
    "            animal_count_2020 = 0 \n",
    "            \n",
    "        if (animal_count_2019 == 0) & (animal_count_2020 == 0):\n",
    "            continue\n",
    "        elif animal_count_2019 == 0:\n",
    "            print(\"Adoption number of\", animal.upper(), \"from 2019 to 2020 increased by a number of\", animal_count_2020)\n",
    "        else:    \n",
    "            count_change = round(((animal_count_2020 - animal_count_2019) / animal_count_2019) * 100, ROUND_DECIMALS)\n",
    "            print(\"Adoption number of\", animal.upper(), \"from 2019 to 2020 changed by\", count_change, \"%\")\n",
    "    #print('=======================================================================================')\n",
    "    "
   ]
  },
  {
   "cell_type": "markdown",
   "metadata": {},
   "source": [
    "# Data Cleaning"
   ]
  },
  {
   "cell_type": "markdown",
   "metadata": {},
   "source": [
    "To compare the changes of adoption trends before and after the start of COVID-19, we used Sonoma_Adoption, Longbeach_Adoption, and Austin_Adoption that were read from the csv files we found online. From Sonoma_Adoption, we extracted info of animals' Outcome Date, Type, Breed, Sex, Color, and Age in the Sonoma county. From Longbeach_Adoption, we extracted info of animals' Outcome Date, Animal Type, Sex, Primary Color, and Age in the Longbeach county. From Austin_Adoption, we extracted info of animals' DateTime, Animal Type, Breed, Sex upon Outcome, Color, and Age upon Outcome in the Austin county. By googling specifc animal breeds, we generalize abopted animals to species (e.g. rabbit, cat, dog, rodent). "
   ]
  },
  {
   "cell_type": "markdown",
   "metadata": {},
   "source": [
    "Outcome type: adoption <br> \n",
    "Outcome date: after 03/01/2020 <br> \n",
    "Left categories: Type, Sex, Age <br> "
   ]
  },
  {
   "cell_type": "code",
   "execution_count": 3,
   "metadata": {},
   "outputs": [],
   "source": [
    "animals = {'Rabbit Sh': 'Rabbit', 'Guinea Pig': 'Rodent', 'Rabbit Sh':'Rabbit', 'Californian':'Rabbit', \n",
    "           'English Spot Mix': 'Rabbit', 'Hamster': 'Rodent', 'Lionhead':'Rabbit', 'Hotot':'Rabbit', 'Mouse': 'Rodent',\n",
    "          'Lop-Holland': 'Rabbit', 'Chinchilla-Stnd': 'Rodent', 'Rex':'Rabbit', 'Angora-French Mix':'Rabbit',\n",
    "          'Rabbit Lh': 'Rabbit', 'Lionhead Mix': 'Rabbit', 'Rabbit Sh Mix': 'Rabbit', 'Rex Mix': 'Rabbit', \n",
    "           'Havana':'Rabbit', 'Lop-Mini/Hotot':'Rabbit', 'New Zealand Wht': 'Rabbit', 'Jersey Wooly':'Rabbit',\n",
    "          'Dwarf Hotot':'Rabbit', 'Netherlnd Dwarf':'Rabbit', 'Rex-Mini': 'Rabbit', 'English Spot':'Rabbit',\n",
    "          'Lop-Holland Mix':'Rabbit', 'Potbelly Pig': 'Livestock', 'Lop-Mini': 'Rabbit', 'Snake':'Reptile', 'Lizard':'Reptile',\n",
    "          'Turtle': 'Reptile', 'HAVANA/MIX': 'Rabbit', 'RAT':'Rodent', 'Lop-Mini Mix': 'Rabbit', 'GUINEA PIG' : 'Rodent', \n",
    "          'CALIFORNIAN/MIX':'Rabbit', 'HOTOT':'Rabbit','CALIFORNIAN/MIX':'Rabbit', 'PIG':'Livestock', 'RABBIT SH':'Rabbit', \n",
    "           'HAVANA':'Rabbit', 'HOTOT/MIX':'Rabbit','ANGORA-SATIN':'Rabbit', 'REX':'Rabbit', 'AMERICAN/MIX':'Rabbit', \n",
    "          'LOP-AMER FUZZY': 'Rabbit', 'LOP-MINI' : 'Rabbit', 'SILVER/MIX' : 'Rabbit', 'DUTCH/MIX' : 'Rabbit', \n",
    "           'ENGLISH SPOT/MIX':'Rabbit', 'COCKATIEL':'Bird', 'RABBIT LH':'Rabbit', 'CALIFORNIAN':'Rabbit', 'DONKEY': 'Livestock',\n",
    "          'SHEEP':'Livestock', 'GUINEA PIG':'Rodent', 'Mouse Mix':'Rodent', 'Ferret':'Rodent','New Zealand Wht Mix':'Rodent',\n",
    "          'Rat':'Rodent', 'Havana Mix':'Rabbit','Ferret Mix': 'Rodent', 'Californian Mix':'Rabbit', 'Netherlnd Dwarf Mix':'Rabbit',\n",
    "          'American':'Rabbit', 'American Mix':'Rabbit','Lop-Amer Fuzzy':'Rabbit', 'Flemish Giant Mix':'Rabbit', \n",
    "           'Chinchilla-Amer':'Rabbit', 'Pig Mix':'Livestock', 'Dutch':'Rabbit','Goat':'Livestock', 'Sugar Glider':'Rabbit',\n",
    "          'Rex/Lop-English': 'Rabbit', 'Rex-Mini Mix': 'Rabbit', 'American Sable': 'Rabbit', 'Rabbit Lh Mix': 'Rabbit',\n",
    "          'Sheep Mix': 'Livestock', 'Pig':'Livestock', 'Beveren Mix':'Rabbit','GUINEA PIG':'Rodent','Polish':'Rabbit',\n",
    "          'House Rabbit':'Rabbit','Gerbil':'Rodent','Chinchilla':'Rodent','Wildlife - other':'Wildlife'}\n"
   ]
  },
  {
   "cell_type": "code",
   "execution_count": 4,
   "metadata": {},
   "outputs": [
    {
     "data": {
      "text/html": [
       "<div>\n",
       "<style scoped>\n",
       "    .dataframe tbody tr th:only-of-type {\n",
       "        vertical-align: middle;\n",
       "    }\n",
       "\n",
       "    .dataframe tbody tr th {\n",
       "        vertical-align: top;\n",
       "    }\n",
       "\n",
       "    .dataframe thead th {\n",
       "        text-align: right;\n",
       "    }\n",
       "</style>\n",
       "<table border=\"1\" class=\"dataframe\">\n",
       "  <thead>\n",
       "    <tr style=\"text-align: right;\">\n",
       "      <th></th>\n",
       "      <th>Date</th>\n",
       "      <th>Type</th>\n",
       "      <th>Sex</th>\n",
       "      <th>Age</th>\n",
       "    </tr>\n",
       "  </thead>\n",
       "  <tbody>\n",
       "    <tr>\n",
       "      <th>0</th>\n",
       "      <td>2019-01-04</td>\n",
       "      <td>DOG</td>\n",
       "      <td>Spayed</td>\n",
       "      <td>1.51</td>\n",
       "    </tr>\n",
       "    <tr>\n",
       "      <th>1</th>\n",
       "      <td>2020-02-11</td>\n",
       "      <td>DOG</td>\n",
       "      <td>Neutered</td>\n",
       "      <td>0.16</td>\n",
       "    </tr>\n",
       "    <tr>\n",
       "      <th>2</th>\n",
       "      <td>2019-02-16</td>\n",
       "      <td>DOG</td>\n",
       "      <td>Spayed</td>\n",
       "      <td>2.14</td>\n",
       "    </tr>\n",
       "    <tr>\n",
       "      <th>3</th>\n",
       "      <td>2019-01-10</td>\n",
       "      <td>CAT</td>\n",
       "      <td>Neutered</td>\n",
       "      <td>3.02</td>\n",
       "    </tr>\n",
       "    <tr>\n",
       "      <th>4</th>\n",
       "      <td>2020-10-14</td>\n",
       "      <td>DOG</td>\n",
       "      <td>Neutered</td>\n",
       "      <td>10.24</td>\n",
       "    </tr>\n",
       "  </tbody>\n",
       "</table>\n",
       "</div>"
      ],
      "text/plain": [
       "        Date Type       Sex    Age\n",
       "0 2019-01-04  DOG    Spayed   1.51\n",
       "1 2020-02-11  DOG  Neutered   0.16\n",
       "2 2019-02-16  DOG    Spayed   2.14\n",
       "3 2019-01-10  CAT  Neutered   3.02\n",
       "4 2020-10-14  DOG  Neutered  10.24"
      ]
     },
     "execution_count": 4,
     "metadata": {},
     "output_type": "execute_result"
    }
   ],
   "source": [
    "#Sonoma County_adoption\n",
    "a_sonoma['Outcome Date'] = pd.to_datetime(a_sonoma['Outcome Date'])\n",
    "a_sonoma['Date Of Birth'] = pd.to_datetime(a_sonoma['Date Of Birth'])\n",
    "\n",
    "a_sonoma_clean = a_sonoma[a_sonoma['Outcome Type'] == 'ADOPTION']\n",
    "a_sonoma_clean = a_sonoma_clean.loc[((\n",
    "    a_sonoma_clean['Outcome Date'] > pd.to_datetime(\"2019/01/01\"))&(\n",
    "    a_sonoma_clean['Outcome Date'] < pd.to_datetime(\"2020/12/31\")))]\n",
    "\n",
    "a_sonoma_clean['Age'] = a_sonoma_clean['Outcome Date']-a_sonoma_clean['Date Of Birth']\n",
    "\n",
    "a_sonoma_clean = a_sonoma_clean[[\"Outcome Date\",\"Type\",\"Breed\", \"Sex\" ,\"Age\"]]\n",
    "a_sonoma_clean = a_sonoma_clean.dropna()\n",
    "\n",
    "a_sonoma_clean['Age'] = a_sonoma_clean['Age'].apply(sonoma_standardize_age)\n",
    "\n",
    "a_sonoma_clean['Type'] = np.where(a_sonoma_clean['Type']== 'OTHER', a_sonoma_clean['Breed'], a_sonoma_clean['Type'])\n",
    "a_sonoma_clean['Type'] = a_sonoma_clean['Type'].replace(animals)\n",
    "\n",
    "a_sonoma_clean = a_sonoma_clean[[\"Outcome Date\",\"Type\", \"Sex\",\"Age\"]]\n",
    "a_sonoma_clean = a_sonoma_clean.rename(columns = {'Outcome Date':'Date'})\n",
    "\n",
    "a_sonoma_clean = a_sonoma_clean.reset_index()\n",
    "a_sonoma_clean = a_sonoma_clean.drop(['index'],axis = 1)\n",
    "a_sonoma_clean.head()\n",
    "#a_sonoma_clean['Type'].unique()"
   ]
  },
  {
   "cell_type": "code",
   "execution_count": 5,
   "metadata": {},
   "outputs": [
    {
     "data": {
      "text/html": [
       "<div>\n",
       "<style scoped>\n",
       "    .dataframe tbody tr th:only-of-type {\n",
       "        vertical-align: middle;\n",
       "    }\n",
       "\n",
       "    .dataframe tbody tr th {\n",
       "        vertical-align: top;\n",
       "    }\n",
       "\n",
       "    .dataframe thead th {\n",
       "        text-align: right;\n",
       "    }\n",
       "</style>\n",
       "<table border=\"1\" class=\"dataframe\">\n",
       "  <thead>\n",
       "    <tr style=\"text-align: right;\">\n",
       "      <th></th>\n",
       "      <th>Date</th>\n",
       "      <th>Type</th>\n",
       "      <th>Sex</th>\n",
       "      <th>Age</th>\n",
       "    </tr>\n",
       "  </thead>\n",
       "  <tbody>\n",
       "    <tr>\n",
       "      <th>0</th>\n",
       "      <td>2019-02-12</td>\n",
       "      <td>CAT</td>\n",
       "      <td>Neutered</td>\n",
       "      <td>5.0</td>\n",
       "    </tr>\n",
       "    <tr>\n",
       "      <th>1</th>\n",
       "      <td>2019-02-12</td>\n",
       "      <td>DOG</td>\n",
       "      <td>Neutered</td>\n",
       "      <td>6.0</td>\n",
       "    </tr>\n",
       "    <tr>\n",
       "      <th>2</th>\n",
       "      <td>2019-06-28</td>\n",
       "      <td>DOG</td>\n",
       "      <td>Neutered</td>\n",
       "      <td>6.0</td>\n",
       "    </tr>\n",
       "    <tr>\n",
       "      <th>3</th>\n",
       "      <td>2019-02-05</td>\n",
       "      <td>CAT</td>\n",
       "      <td>Neutered</td>\n",
       "      <td>4.0</td>\n",
       "    </tr>\n",
       "    <tr>\n",
       "      <th>4</th>\n",
       "      <td>2019-02-05</td>\n",
       "      <td>CAT</td>\n",
       "      <td>Spayed</td>\n",
       "      <td>4.0</td>\n",
       "    </tr>\n",
       "  </tbody>\n",
       "</table>\n",
       "</div>"
      ],
      "text/plain": [
       "        Date Type       Sex  Age\n",
       "0 2019-02-12  CAT  Neutered  5.0\n",
       "1 2019-02-12  DOG  Neutered  6.0\n",
       "2 2019-06-28  DOG  Neutered  6.0\n",
       "3 2019-02-05  CAT  Neutered  4.0\n",
       "4 2019-02-05  CAT    Spayed  4.0"
      ]
     },
     "execution_count": 5,
     "metadata": {},
     "output_type": "execute_result"
    }
   ],
   "source": [
    "#Long Beach County_adoption\n",
    "a_longbeach['Outcome Date'] = pd.to_datetime(a_longbeach['Outcome Date'])\n",
    "\n",
    "a_longbeach_clean = a_longbeach[a_longbeach['Outcome Type'] == 'ADOPTION']\n",
    "a_longbeach_clean = a_longbeach_clean.loc[((\n",
    "    a_longbeach_clean['Outcome Date'] > pd.to_datetime(\"2019/01/01\"))&(\n",
    "    a_longbeach_clean['Outcome Date'] < pd.to_datetime(\"2020/12/31\")))]\n",
    "\n",
    "a_longbeach_clean = a_longbeach_clean[[\"Outcome Date\",\"Animal Type\", \"Sex\", \"Age\"]]\n",
    "a_longbeach_clean = a_longbeach_clean.dropna()\n",
    "a_longbeach_clean = a_longbeach_clean[a_longbeach_clean['Animal Type'] != 'OTHER']\n",
    "\n",
    "a_longbeach_clean = a_longbeach_clean.rename(columns = {'Outcome Date' :'Date' , \n",
    "                                                  'Animal Type' : 'Type'})\n",
    "\n",
    "a_longbeach_clean = a_longbeach_clean.reset_index()\n",
    "a_longbeach_clean = a_longbeach_clean.drop(['index'],axis = 1)\n",
    "a_longbeach_clean.head()\n",
    "#a_longbeach_clean['Type'].unique()"
   ]
  },
  {
   "cell_type": "code",
   "execution_count": 6,
   "metadata": {},
   "outputs": [
    {
     "data": {
      "text/html": [
       "<div>\n",
       "<style scoped>\n",
       "    .dataframe tbody tr th:only-of-type {\n",
       "        vertical-align: middle;\n",
       "    }\n",
       "\n",
       "    .dataframe tbody tr th {\n",
       "        vertical-align: top;\n",
       "    }\n",
       "\n",
       "    .dataframe thead th {\n",
       "        text-align: right;\n",
       "    }\n",
       "</style>\n",
       "<table border=\"1\" class=\"dataframe\">\n",
       "  <thead>\n",
       "    <tr style=\"text-align: right;\">\n",
       "      <th></th>\n",
       "      <th>Date</th>\n",
       "      <th>Type</th>\n",
       "      <th>Sex</th>\n",
       "      <th>Age</th>\n",
       "    </tr>\n",
       "  </thead>\n",
       "  <tbody>\n",
       "    <tr>\n",
       "      <th>0</th>\n",
       "      <td>2020-10-05</td>\n",
       "      <td>Dog</td>\n",
       "      <td>Spayed</td>\n",
       "      <td>7.00</td>\n",
       "    </tr>\n",
       "    <tr>\n",
       "      <th>1</th>\n",
       "      <td>2020-05-06</td>\n",
       "      <td>Dog</td>\n",
       "      <td>Neutered</td>\n",
       "      <td>2.00</td>\n",
       "    </tr>\n",
       "    <tr>\n",
       "      <th>2</th>\n",
       "      <td>2019-08-16</td>\n",
       "      <td>Cat</td>\n",
       "      <td>Neutered</td>\n",
       "      <td>0.25</td>\n",
       "    </tr>\n",
       "    <tr>\n",
       "      <th>3</th>\n",
       "      <td>2020-03-05</td>\n",
       "      <td>Dog</td>\n",
       "      <td>Neutered</td>\n",
       "      <td>10.00</td>\n",
       "    </tr>\n",
       "    <tr>\n",
       "      <th>4</th>\n",
       "      <td>2019-04-23</td>\n",
       "      <td>Dog</td>\n",
       "      <td>Neutered</td>\n",
       "      <td>0.17</td>\n",
       "    </tr>\n",
       "  </tbody>\n",
       "</table>\n",
       "</div>"
      ],
      "text/plain": [
       "         Date Type       Sex    Age\n",
       "0  2020-10-05  Dog    Spayed   7.00\n",
       "1  2020-05-06  Dog  Neutered   2.00\n",
       "2  2019-08-16  Cat  Neutered   0.25\n",
       "3  2020-03-05  Dog  Neutered  10.00\n",
       "4  2019-04-23  Dog  Neutered   0.17"
      ]
     },
     "execution_count": 6,
     "metadata": {},
     "output_type": "execute_result"
    }
   ],
   "source": [
    "#Austin County_adoption\n",
    "a_austin['DateTime'] = pd.to_datetime(a_austin['DateTime'])\n",
    "\n",
    "a_austin_clean = a_austin[a_austin['Outcome Type'] == 'Adoption']\n",
    "a_austin_clean = a_austin_clean.loc[((\n",
    "    a_austin_clean['DateTime'] > pd.to_datetime(\"2019/01/01\"))&(\n",
    "    a_austin_clean['DateTime'] < pd.to_datetime(\"2020/12/31\")))]\n",
    "a_austin_clean = a_austin_clean[[\"DateTime\",\"Animal Type\",\"Breed\", \"Sex upon Outcome\",\"Age upon Outcome\"]]\n",
    "a_austin_clean = a_austin_clean.dropna()\n",
    "a_austin_clean['Age upon Outcome'] = a_austin_clean['Age upon Outcome'].apply(standardize_age)\n",
    "\n",
    "a_austin_clean['Animal Type'] = np.where(a_austin_clean['Animal Type'] == 'Other', a_austin_clean['Breed'], a_austin_clean['Animal Type'])\n",
    "a_austin_clean['Animal Type'] = np.where(a_austin_clean['Animal Type'] == 'Livestock', a_austin_clean['Breed'], a_austin_clean['Animal Type'])\n",
    "a_austin_clean['Animal Type'] = a_austin_clean['Animal Type'].replace(animals)\n",
    "\n",
    "def sex(row):\n",
    "    if row['Sex upon Outcome'] == \"Spayed Female\":\n",
    "        val = 'Spayed'\n",
    "    elif row['Sex upon Outcome'] == \"Neutered Male\":\n",
    "        val = 'Neutered'\n",
    "    elif row['Sex upon Outcome'] == \"Intact Female\":\n",
    "        val = 'Female'\n",
    "    else:\n",
    "        val = 'Male'\n",
    "    return val\n",
    "a_austin_clean['Sex upon Outcome'] = a_austin_clean.apply(sex, axis=1)\n",
    "a_austin_clean = a_austin_clean[[\"DateTime\",\"Animal Type\",\"Sex upon Outcome\",\"Age upon Outcome\"]]\n",
    "a_austin_clean = a_austin_clean.rename(columns = {'Sex upon Outcome':'Sex', \n",
    "                                                  'Age upon Outcome':'Age' , \n",
    "                                                  'Animal Type':'Type',\n",
    "                                                 'DateTime' : 'Date'})\n",
    "\n",
    "from datetime import datetime\n",
    "from datetime import date\n",
    "def rem_time(d):\n",
    "    s = date(d.year,d.month, d.day)\n",
    "    return s\n",
    "\n",
    "a_austin_clean['Date'] = a_austin_clean['Date'].apply(rem_time)\n",
    "\n",
    "\n",
    "a_austin_clean = a_austin_clean.reset_index()\n",
    "a_austin_clean = a_austin_clean.drop(['index'],axis = 1)\n",
    "a_austin_clean.head()\n"
   ]
  },
  {
   "cell_type": "code",
   "execution_count": 7,
   "metadata": {},
   "outputs": [
    {
     "data": {
      "text/html": [
       "<div>\n",
       "<style scoped>\n",
       "    .dataframe tbody tr th:only-of-type {\n",
       "        vertical-align: middle;\n",
       "    }\n",
       "\n",
       "    .dataframe tbody tr th {\n",
       "        vertical-align: top;\n",
       "    }\n",
       "\n",
       "    .dataframe thead th {\n",
       "        text-align: right;\n",
       "    }\n",
       "</style>\n",
       "<table border=\"1\" class=\"dataframe\">\n",
       "  <thead>\n",
       "    <tr style=\"text-align: right;\">\n",
       "      <th></th>\n",
       "      <th>index</th>\n",
       "      <th>Date</th>\n",
       "      <th>Type</th>\n",
       "      <th>Sex</th>\n",
       "      <th>Age</th>\n",
       "    </tr>\n",
       "  </thead>\n",
       "  <tbody>\n",
       "    <tr>\n",
       "      <th>0</th>\n",
       "      <td>57</td>\n",
       "      <td>2020-07-06</td>\n",
       "      <td>Cat</td>\n",
       "      <td>Male</td>\n",
       "      <td>8.08</td>\n",
       "    </tr>\n",
       "    <tr>\n",
       "      <th>1</th>\n",
       "      <td>107</td>\n",
       "      <td>2019-03-22</td>\n",
       "      <td>Dog</td>\n",
       "      <td>Male</td>\n",
       "      <td>5.75</td>\n",
       "    </tr>\n",
       "    <tr>\n",
       "      <th>2</th>\n",
       "      <td>109</td>\n",
       "      <td>2019-06-12</td>\n",
       "      <td>Dog</td>\n",
       "      <td>Male</td>\n",
       "      <td>5.75</td>\n",
       "    </tr>\n",
       "    <tr>\n",
       "      <th>3</th>\n",
       "      <td>181</td>\n",
       "      <td>2020-01-18</td>\n",
       "      <td>Dog</td>\n",
       "      <td>Male</td>\n",
       "      <td>5.00</td>\n",
       "    </tr>\n",
       "    <tr>\n",
       "      <th>4</th>\n",
       "      <td>182</td>\n",
       "      <td>2020-07-25</td>\n",
       "      <td>Dog</td>\n",
       "      <td>Male</td>\n",
       "      <td>5.00</td>\n",
       "    </tr>\n",
       "  </tbody>\n",
       "</table>\n",
       "</div>"
      ],
      "text/plain": [
       "   index       Date Type   Sex   Age\n",
       "0     57 2020-07-06  Cat  Male  8.08\n",
       "1    107 2019-03-22  Dog  Male  5.75\n",
       "2    109 2019-06-12  Dog  Male  5.75\n",
       "3    181 2020-01-18  Dog  Male  5.00\n",
       "4    182 2020-07-25  Dog  Male  5.00"
      ]
     },
     "execution_count": 7,
     "metadata": {},
     "output_type": "execute_result"
    }
   ],
   "source": [
    "#Bloomington\n",
    "a_bloom['movementdate'] = pd.to_datetime(a_bloom['movementdate'])\n",
    "a_bloom_clean = a_bloom[a_bloom['movementtype'] == 'Adoption']\n",
    "a_bloom_clean = a_bloom_clean.loc[((\n",
    "    a_bloom_clean['movementdate'] > pd.to_datetime(\"2019/01/01\"))&(\n",
    "    a_bloom_clean['movementdate'] < pd.to_datetime(\"2020/12/31\")))]\n",
    "\n",
    "a_bloom_clean = a_bloom_clean[[\"movementdate\",\"speciesname\",'sexname','animalage']]\n",
    "\n",
    "a_bloom_clean['speciesname'] = a_bloom_clean['speciesname'].replace(animals)\n",
    "a_bloom_clean = a_bloom_clean.drop(a_bloom_clean[a_bloom_clean['sexname']=='Unknown'].index)\n",
    "\n",
    "def bloom_standardize_age(agetime_in):\n",
    "    try:\n",
    "        str_in = str(agetime_in)\n",
    "        str_in = str_in.lower()\n",
    "        str_in = str_in.strip()\n",
    "        str_in = str_in.replace('.', '')\n",
    "        \n",
    "        if 'day' in str_in or 'days' in str_in:\n",
    "            str_in = str_in.replace('days', '')\n",
    "            str_in = str_in.replace('day', '')\n",
    "            output = float(str_in)\n",
    "            output = round(output / 365, ROUND_DECIMALS)\n",
    "        elif 'week' in str_in or 'weeks' in str_in:\n",
    "            str_in = str_in.replace('weeks', '')\n",
    "            str_in = str_in.replace('week', '')\n",
    "            output = float(str_in)\n",
    "            output = round(output / 52, ROUND_DECIMALS)\n",
    "        \n",
    "        elif 'year' in str_in or 'years' in str_in:\n",
    "            str_in = str_in.replace('months', '')\n",
    "            str_in = str_in.replace('month', '')\n",
    "            str_in = str_in.replace('years', '')\n",
    "            str_in = str_in.replace('year', '')\n",
    "            num = list(str_in.split('  '))\n",
    "            flo = [float(x) for x in num]\n",
    "            output = round(flo[1] / 12, ROUND_DECIMALS)+round(flo[0], ROUND_DECIMALS)\n",
    "            \n",
    "        elif 'month' in str_in or 'months' in str_in:\n",
    "            str_in = str_in.replace('months', '')\n",
    "            str_in = str_in.replace('month', '')\n",
    "            output = float(str_in)\n",
    "            output = round(output / 12, ROUND_DECIMALS)\n",
    "        \n",
    "        else:\n",
    "            output = np.nan\n",
    "    except:\n",
    "        output = np.nan\n",
    "    return output\n",
    "a_bloom_clean['animalage'] = a_bloom_clean['animalage'].apply(bloom_standardize_age)\n",
    "\n",
    "a_bloom_clean = a_bloom_clean.rename(columns = {'movementdate':'Date', \n",
    "                                                'speciesname':'Type',\n",
    "                                                'sexname':'Sex', \n",
    "                                                'animalage':'Age'})\n",
    "\n",
    "a_bloom_clean = a_bloom_clean.reset_index()\n",
    "a_bloom_clean.head()\n"
   ]
  },
  {
   "cell_type": "code",
   "execution_count": 8,
   "metadata": {},
   "outputs": [],
   "source": [
    "a_bloom_clean['year'] = pd.DatetimeIndex(a_bloom_clean['Date']).year\n",
    "bloom_2019 = a_bloom_clean.loc[a_bloom_clean['year'] == 2019]\n",
    "bloom_2020 = a_bloom_clean.loc[a_bloom_clean['year'] == 2020]"
   ]
  },
  {
   "cell_type": "code",
   "execution_count": 9,
   "metadata": {},
   "outputs": [
    {
     "data": {
      "text/html": [
       "<div>\n",
       "<style scoped>\n",
       "    .dataframe tbody tr th:only-of-type {\n",
       "        vertical-align: middle;\n",
       "    }\n",
       "\n",
       "    .dataframe tbody tr th {\n",
       "        vertical-align: top;\n",
       "    }\n",
       "\n",
       "    .dataframe thead th {\n",
       "        text-align: right;\n",
       "    }\n",
       "</style>\n",
       "<table border=\"1\" class=\"dataframe\">\n",
       "  <thead>\n",
       "    <tr style=\"text-align: right;\">\n",
       "      <th></th>\n",
       "      <th>Animal ID</th>\n",
       "      <th>Animal Name</th>\n",
       "      <th>Animal Type</th>\n",
       "      <th>Sex</th>\n",
       "      <th>Years Old</th>\n",
       "      <th>Months Old</th>\n",
       "      <th>Primary Breed</th>\n",
       "      <th>Primary Color</th>\n",
       "      <th>Tag Number</th>\n",
       "      <th>Intake Date</th>\n",
       "      <th>Intake Type</th>\n",
       "      <th>Intake Subtype</th>\n",
       "      <th>Outcome Type</th>\n",
       "      <th>Outcome Subtype</th>\n",
       "      <th>Outcome Date</th>\n",
       "      <th>Intake Day of the Week</th>\n",
       "      <th>Outcome Day of the Week</th>\n",
       "    </tr>\n",
       "  </thead>\n",
       "  <tbody>\n",
       "    <tr>\n",
       "      <th>0</th>\n",
       "      <td>A000218</td>\n",
       "      <td>FATTY</td>\n",
       "      <td>Cat</td>\n",
       "      <td>Neutered Male</td>\n",
       "      <td>0.0</td>\n",
       "      <td>3.0</td>\n",
       "      <td>DOMESTIC LH</td>\n",
       "      <td>GRAY</td>\n",
       "      <td>052355562</td>\n",
       "      <td>12/13/2020</td>\n",
       "      <td>Owner Surrendered</td>\n",
       "      <td>Over the Counter</td>\n",
       "      <td>Adoption</td>\n",
       "      <td>NaN</td>\n",
       "      <td>12/18/2020</td>\n",
       "      <td>Sunday</td>\n",
       "      <td>Friday</td>\n",
       "    </tr>\n",
       "    <tr>\n",
       "      <th>1</th>\n",
       "      <td>A001474</td>\n",
       "      <td>CHARLES</td>\n",
       "      <td>Dog</td>\n",
       "      <td>Neutered Male</td>\n",
       "      <td>1.0</td>\n",
       "      <td>0.0</td>\n",
       "      <td>LABRADOR RETR</td>\n",
       "      <td>YELLOW</td>\n",
       "      <td>982000150016071</td>\n",
       "      <td>10/19/2021</td>\n",
       "      <td>Stray</td>\n",
       "      <td>Over the Counter</td>\n",
       "      <td>Return to Owner</td>\n",
       "      <td>Walk-In</td>\n",
       "      <td>10/19/2021</td>\n",
       "      <td>Tuesday</td>\n",
       "      <td>Tuesday</td>\n",
       "    </tr>\n",
       "    <tr>\n",
       "      <th>2</th>\n",
       "      <td>A001699</td>\n",
       "      <td>SYLVESTER</td>\n",
       "      <td>Dog</td>\n",
       "      <td>Neutered Male</td>\n",
       "      <td>13.0</td>\n",
       "      <td>NaN</td>\n",
       "      <td>YORKSHIRE TERR</td>\n",
       "      <td>BLACK</td>\n",
       "      <td>101625810</td>\n",
       "      <td>01/05/2019</td>\n",
       "      <td>Stray</td>\n",
       "      <td>Over the Counter</td>\n",
       "      <td>Return to Owner</td>\n",
       "      <td>NaN</td>\n",
       "      <td>01/05/2019</td>\n",
       "      <td>Saturday</td>\n",
       "      <td>Saturday</td>\n",
       "    </tr>\n",
       "    <tr>\n",
       "      <th>3</th>\n",
       "      <td>A001699</td>\n",
       "      <td>SYLVESTER</td>\n",
       "      <td>Dog</td>\n",
       "      <td>Neutered Male</td>\n",
       "      <td>13.0</td>\n",
       "      <td>NaN</td>\n",
       "      <td>YORKSHIRE TERR</td>\n",
       "      <td>BLACK</td>\n",
       "      <td>101625810</td>\n",
       "      <td>01/05/2019</td>\n",
       "      <td>Owner Surrendered</td>\n",
       "      <td>Over the Counter</td>\n",
       "      <td>Transfer</td>\n",
       "      <td>Rescue Group</td>\n",
       "      <td>01/22/2019</td>\n",
       "      <td>Saturday</td>\n",
       "      <td>Tuesday</td>\n",
       "    </tr>\n",
       "    <tr>\n",
       "      <th>4</th>\n",
       "      <td>A002332</td>\n",
       "      <td>CHLOE</td>\n",
       "      <td>Dog</td>\n",
       "      <td>Spayed Female</td>\n",
       "      <td>0.0</td>\n",
       "      <td>0.0</td>\n",
       "      <td>POODLE MIN</td>\n",
       "      <td>BLACK</td>\n",
       "      <td>NaN</td>\n",
       "      <td>10/23/2021</td>\n",
       "      <td>Disposal Request of Deceased Pet</td>\n",
       "      <td>Over the Counter</td>\n",
       "      <td>Disposal of Deceased Pet</td>\n",
       "      <td>NaN</td>\n",
       "      <td>10/23/2021</td>\n",
       "      <td>Saturday</td>\n",
       "      <td>Saturday</td>\n",
       "    </tr>\n",
       "  </tbody>\n",
       "</table>\n",
       "</div>"
      ],
      "text/plain": [
       "  Animal ID Animal Name Animal Type            Sex  Years Old  Months Old  \\\n",
       "0   A000218       FATTY         Cat  Neutered Male        0.0         3.0   \n",
       "1   A001474     CHARLES         Dog  Neutered Male        1.0         0.0   \n",
       "2   A001699   SYLVESTER         Dog  Neutered Male       13.0         NaN   \n",
       "3   A001699   SYLVESTER         Dog  Neutered Male       13.0         NaN   \n",
       "4   A002332       CHLOE         Dog  Spayed Female        0.0         0.0   \n",
       "\n",
       "    Primary Breed Primary Color       Tag Number Intake Date  \\\n",
       "0     DOMESTIC LH          GRAY        052355562  12/13/2020   \n",
       "1   LABRADOR RETR        YELLOW  982000150016071  10/19/2021   \n",
       "2  YORKSHIRE TERR         BLACK        101625810  01/05/2019   \n",
       "3  YORKSHIRE TERR         BLACK        101625810  01/05/2019   \n",
       "4      POODLE MIN         BLACK              NaN  10/23/2021   \n",
       "\n",
       "                        Intake Type    Intake Subtype  \\\n",
       "0                 Owner Surrendered  Over the Counter   \n",
       "1                             Stray  Over the Counter   \n",
       "2                             Stray  Over the Counter   \n",
       "3                 Owner Surrendered  Over the Counter   \n",
       "4  Disposal Request of Deceased Pet  Over the Counter   \n",
       "\n",
       "               Outcome Type Outcome Subtype Outcome Date  \\\n",
       "0                  Adoption             NaN   12/18/2020   \n",
       "1           Return to Owner         Walk-In   10/19/2021   \n",
       "2           Return to Owner             NaN   01/05/2019   \n",
       "3                  Transfer    Rescue Group   01/22/2019   \n",
       "4  Disposal of Deceased Pet             NaN   10/23/2021   \n",
       "\n",
       "  Intake Day of the Week Outcome Day of the Week  \n",
       "0                 Sunday                  Friday  \n",
       "1                Tuesday                 Tuesday  \n",
       "2               Saturday                Saturday  \n",
       "3               Saturday                 Tuesday  \n",
       "4               Saturday                Saturday  "
      ]
     },
     "execution_count": 9,
     "metadata": {},
     "output_type": "execute_result"
    }
   ],
   "source": [
    "# Temp\n",
    "a_norfolk.shape\n",
    "a_norfolk.head()"
   ]
  },
  {
   "cell_type": "code",
   "execution_count": 10,
   "metadata": {},
   "outputs": [
    {
     "data": {
      "text/html": [
       "<div>\n",
       "<style scoped>\n",
       "    .dataframe tbody tr th:only-of-type {\n",
       "        vertical-align: middle;\n",
       "    }\n",
       "\n",
       "    .dataframe tbody tr th {\n",
       "        vertical-align: top;\n",
       "    }\n",
       "\n",
       "    .dataframe thead th {\n",
       "        text-align: right;\n",
       "    }\n",
       "</style>\n",
       "<table border=\"1\" class=\"dataframe\">\n",
       "  <thead>\n",
       "    <tr style=\"text-align: right;\">\n",
       "      <th></th>\n",
       "      <th>Date</th>\n",
       "      <th>Type</th>\n",
       "      <th>Sex</th>\n",
       "      <th>Age</th>\n",
       "    </tr>\n",
       "  </thead>\n",
       "  <tbody>\n",
       "    <tr>\n",
       "      <th>0</th>\n",
       "      <td>2020-12-18</td>\n",
       "      <td>Cat</td>\n",
       "      <td>Neutered</td>\n",
       "      <td>0.0</td>\n",
       "    </tr>\n",
       "    <tr>\n",
       "      <th>1</th>\n",
       "      <td>2019-04-04</td>\n",
       "      <td>Cat</td>\n",
       "      <td>Neutered</td>\n",
       "      <td>0.0</td>\n",
       "    </tr>\n",
       "    <tr>\n",
       "      <th>2</th>\n",
       "      <td>2019-02-17</td>\n",
       "      <td>Cat</td>\n",
       "      <td>Neutered</td>\n",
       "      <td>1.0</td>\n",
       "    </tr>\n",
       "    <tr>\n",
       "      <th>3</th>\n",
       "      <td>2019-06-26</td>\n",
       "      <td>Cat</td>\n",
       "      <td>Spayed</td>\n",
       "      <td>0.0</td>\n",
       "    </tr>\n",
       "    <tr>\n",
       "      <th>4</th>\n",
       "      <td>2020-10-21</td>\n",
       "      <td>Cat</td>\n",
       "      <td>Neutered</td>\n",
       "      <td>1.0</td>\n",
       "    </tr>\n",
       "    <tr>\n",
       "      <th>...</th>\n",
       "      <td>...</td>\n",
       "      <td>...</td>\n",
       "      <td>...</td>\n",
       "      <td>...</td>\n",
       "    </tr>\n",
       "    <tr>\n",
       "      <th>1838</th>\n",
       "      <td>2020-12-15</td>\n",
       "      <td>Dog</td>\n",
       "      <td>Spayed</td>\n",
       "      <td>2.0</td>\n",
       "    </tr>\n",
       "    <tr>\n",
       "      <th>1839</th>\n",
       "      <td>2020-12-06</td>\n",
       "      <td>Other</td>\n",
       "      <td>Female</td>\n",
       "      <td>4.0</td>\n",
       "    </tr>\n",
       "    <tr>\n",
       "      <th>1840</th>\n",
       "      <td>2020-12-28</td>\n",
       "      <td>Dog</td>\n",
       "      <td>Spayed</td>\n",
       "      <td>1.0</td>\n",
       "    </tr>\n",
       "    <tr>\n",
       "      <th>1841</th>\n",
       "      <td>2020-12-17</td>\n",
       "      <td>Cat</td>\n",
       "      <td>Spayed</td>\n",
       "      <td>5.0</td>\n",
       "    </tr>\n",
       "    <tr>\n",
       "      <th>1842</th>\n",
       "      <td>2020-12-28</td>\n",
       "      <td>Dog</td>\n",
       "      <td>Spayed</td>\n",
       "      <td>1.0</td>\n",
       "    </tr>\n",
       "  </tbody>\n",
       "</table>\n",
       "<p>1843 rows × 4 columns</p>\n",
       "</div>"
      ],
      "text/plain": [
       "           Date   Type       Sex  Age\n",
       "0    2020-12-18    Cat  Neutered  0.0\n",
       "1    2019-04-04    Cat  Neutered  0.0\n",
       "2    2019-02-17    Cat  Neutered  1.0\n",
       "3    2019-06-26    Cat    Spayed  0.0\n",
       "4    2020-10-21    Cat  Neutered  1.0\n",
       "...         ...    ...       ...  ...\n",
       "1838 2020-12-15    Dog    Spayed  2.0\n",
       "1839 2020-12-06  Other    Female  4.0\n",
       "1840 2020-12-28    Dog    Spayed  1.0\n",
       "1841 2020-12-17    Cat    Spayed  5.0\n",
       "1842 2020-12-28    Dog    Spayed  1.0\n",
       "\n",
       "[1843 rows x 4 columns]"
      ]
     },
     "execution_count": 10,
     "metadata": {},
     "output_type": "execute_result"
    }
   ],
   "source": [
    "#Norfolk County_adoption\n",
    "a_norfolk['Outcome Date'] = pd.to_datetime(a_norfolk['Outcome Date'])\n",
    "a_norfolk_clean = a_norfolk[a_norfolk['Outcome Type'] == 'Adoption']\n",
    "a_norfolk_clean = a_norfolk_clean.loc[((\n",
    "    a_norfolk_clean['Outcome Date'] > pd.to_datetime(\"2019/01/01\"))&(\n",
    "    a_norfolk_clean['Outcome Date'] < pd.to_datetime(\"2020/12/31\")))]\n",
    "\n",
    "a_norfolk_clean['Age'] = a_norfolk_clean['Years Old']\n",
    "\n",
    "a_norfolk_clean = a_norfolk_clean[[\"Outcome Date\",\"Animal Type\", \"Sex\" ,\"Age\"]]\n",
    "a_norfolk_clean = a_norfolk_clean.dropna()\n",
    "\n",
    "a_norfolk_clean['Animal Type'] = a_norfolk_clean['Animal Type'].replace(animals)\n",
    "\n",
    "a_norfolk_clean = a_norfolk_clean[[\"Outcome Date\",\"Animal Type\", \"Sex\",\"Age\"]]\n",
    "a_norfolk_clean = a_norfolk_clean.rename(columns = {'Outcome Date':'Date', \n",
    "                                                'Animal Type':'Type'})\n",
    "a_norfolk_clean = a_norfolk_clean.reset_index()\n",
    "a_norfolk_clean = a_norfolk_clean.drop(['index'],axis = 1)\n",
    "\n",
    "def sex_norfolk(row):\n",
    "    if row['Sex'] == \"Spayed Female\":\n",
    "        val = 'Spayed'\n",
    "    elif row['Sex'] == \"Neutered Male\":\n",
    "        val = 'Neutered'\n",
    "    elif row['Sex'] == \"Female\":\n",
    "        val = 'Female'\n",
    "    else:\n",
    "        val = 'Male'\n",
    "    return val\n",
    "a_norfolk_clean['Sex'] = a_norfolk_clean.apply(sex_norfolk, axis=1)\n",
    "\n",
    "a_norfolk_clean.head()\n",
    "a_norfolk_clean['Type'].unique()\n",
    "a_norfolk_clean"
   ]
  },
  {
   "cell_type": "code",
   "execution_count": 11,
   "metadata": {},
   "outputs": [],
   "source": [
    "a_norfolk_clean['year'] = pd.DatetimeIndex(a_norfolk_clean['Date']).year\n",
    "norfolk_2019 = a_norfolk_clean.loc[a_norfolk_clean['year'] == 2019]\n",
    "norfolk_2020 = a_norfolk_clean.loc[a_norfolk_clean['year'] == 2020]"
   ]
  },
  {
   "cell_type": "code",
   "execution_count": 12,
   "metadata": {
    "scrolled": false
   },
   "outputs": [
    {
     "data": {
      "text/html": [
       "<div>\n",
       "<style scoped>\n",
       "    .dataframe tbody tr th:only-of-type {\n",
       "        vertical-align: middle;\n",
       "    }\n",
       "\n",
       "    .dataframe tbody tr th {\n",
       "        vertical-align: top;\n",
       "    }\n",
       "\n",
       "    .dataframe thead th {\n",
       "        text-align: right;\n",
       "    }\n",
       "</style>\n",
       "<table border=\"1\" class=\"dataframe\">\n",
       "  <thead>\n",
       "    <tr style=\"text-align: right;\">\n",
       "      <th></th>\n",
       "      <th>Date</th>\n",
       "      <th>Type</th>\n",
       "      <th>Age</th>\n",
       "      <th>Sex</th>\n",
       "      <th>year</th>\n",
       "    </tr>\n",
       "  </thead>\n",
       "  <tbody>\n",
       "    <tr>\n",
       "      <th>0</th>\n",
       "      <td>2019-12-02</td>\n",
       "      <td>DOG</td>\n",
       "      <td>15.0</td>\n",
       "      <td>Spayed</td>\n",
       "      <td>2019</td>\n",
       "    </tr>\n",
       "    <tr>\n",
       "      <th>1</th>\n",
       "      <td>2020-05-30</td>\n",
       "      <td>DOG</td>\n",
       "      <td>14.0</td>\n",
       "      <td>Spayed</td>\n",
       "      <td>2020</td>\n",
       "    </tr>\n",
       "    <tr>\n",
       "      <th>2</th>\n",
       "      <td>2020-02-11</td>\n",
       "      <td>DOG</td>\n",
       "      <td>15.0</td>\n",
       "      <td>Spayed</td>\n",
       "      <td>2020</td>\n",
       "    </tr>\n",
       "    <tr>\n",
       "      <th>3</th>\n",
       "      <td>2020-08-30</td>\n",
       "      <td>DOG</td>\n",
       "      <td>13.0</td>\n",
       "      <td>Neutered</td>\n",
       "      <td>2020</td>\n",
       "    </tr>\n",
       "    <tr>\n",
       "      <th>4</th>\n",
       "      <td>2020-03-10</td>\n",
       "      <td>DOG</td>\n",
       "      <td>13.0</td>\n",
       "      <td>Spayed</td>\n",
       "      <td>2020</td>\n",
       "    </tr>\n",
       "    <tr>\n",
       "      <th>...</th>\n",
       "      <td>...</td>\n",
       "      <td>...</td>\n",
       "      <td>...</td>\n",
       "      <td>...</td>\n",
       "      <td>...</td>\n",
       "    </tr>\n",
       "    <tr>\n",
       "      <th>3706</th>\n",
       "      <td>2019-12-07</td>\n",
       "      <td>DOG</td>\n",
       "      <td>3.0</td>\n",
       "      <td>Spayed</td>\n",
       "      <td>2019</td>\n",
       "    </tr>\n",
       "    <tr>\n",
       "      <th>3707</th>\n",
       "      <td>2020-01-19</td>\n",
       "      <td>DOG</td>\n",
       "      <td>6.0</td>\n",
       "      <td>Spayed</td>\n",
       "      <td>2020</td>\n",
       "    </tr>\n",
       "    <tr>\n",
       "      <th>3708</th>\n",
       "      <td>2020-01-10</td>\n",
       "      <td>DOG</td>\n",
       "      <td>6.0</td>\n",
       "      <td>Spayed</td>\n",
       "      <td>2020</td>\n",
       "    </tr>\n",
       "    <tr>\n",
       "      <th>3709</th>\n",
       "      <td>2020-03-10</td>\n",
       "      <td>DOG</td>\n",
       "      <td>3.0</td>\n",
       "      <td>Neutered</td>\n",
       "      <td>2020</td>\n",
       "    </tr>\n",
       "    <tr>\n",
       "      <th>3710</th>\n",
       "      <td>2020-12-23</td>\n",
       "      <td>DOG</td>\n",
       "      <td>3.0</td>\n",
       "      <td>Neutered</td>\n",
       "      <td>2020</td>\n",
       "    </tr>\n",
       "  </tbody>\n",
       "</table>\n",
       "<p>3711 rows × 5 columns</p>\n",
       "</div>"
      ],
      "text/plain": [
       "            Date Type   Age       Sex  year\n",
       "0     2019-12-02  DOG  15.0    Spayed  2019\n",
       "1     2020-05-30  DOG  14.0    Spayed  2020\n",
       "2     2020-02-11  DOG  15.0    Spayed  2020\n",
       "3     2020-08-30  DOG  13.0  Neutered  2020\n",
       "4     2020-03-10  DOG  13.0    Spayed  2020\n",
       "...          ...  ...   ...       ...   ...\n",
       "3706  2019-12-07  DOG   3.0    Spayed  2019\n",
       "3707  2020-01-19  DOG   6.0    Spayed  2020\n",
       "3708  2020-01-10  DOG   6.0    Spayed  2020\n",
       "3709  2020-03-10  DOG   3.0  Neutered  2020\n",
       "3710  2020-12-23  DOG   3.0  Neutered  2020\n",
       "\n",
       "[3711 rows x 5 columns]"
      ]
     },
     "execution_count": 12,
     "metadata": {},
     "output_type": "execute_result"
    }
   ],
   "source": [
    "a_sacramento['Outcome_Date'] = pd.to_datetime(a_sacramento['Outcome_Date'])\n",
    "a_sacramento_clean = a_sacramento[['Outcome_Date','Animal_Type','Outcome_Type', 'Animal_Age','Animal_Sex']]\n",
    "a_sacramento_clean = a_sacramento_clean.rename(columns = {'Outcome_Date':'Date',\n",
    "                                                          'Animal_Type':'Type',\n",
    "                                                          'Outcome_Type':'Outcome',\n",
    "                                                          'Animal_Age':'Age',\n",
    "                                                          'Animal_Sex':'Sex'})\n",
    "a_sacramento_clean = a_sacramento_clean.dropna()\n",
    "a_sacramento_clean = a_sacramento_clean.loc[a_sacramento_clean['Outcome']=='ADOPTION'].reset_index()\n",
    "a_sacramento_clean['year'] = pd.DatetimeIndex(a_sacramento_clean['Date']).year\n",
    "a_sacramento_clean = a_sacramento_clean.loc[(a_sacramento_clean['year']==2019)|(a_sacramento_clean['year']==2020)]\n",
    "a_sacramento_clean = a_sacramento_clean.reset_index()\n",
    "#a_sacramento_clean['Age'] = a_sacramento_clean['Age'].apply(lambda x: x.replace('Y',''))\n",
    "a_sacramento_clean['Age'] = a_sacramento_clean['Age'].apply(standardize_age)\n",
    "\n",
    "def age_sacramento_standardize(row):\n",
    "    if 'Y' in row:\n",
    "        res = row.replace('Y','')\n",
    "        res = float(res)\n",
    "    if 'W' in row:\n",
    "        res = row.replace('W', '')\n",
    "        res = float(res) / 52\n",
    "    return res\n",
    "\n",
    "a_sacramento_clean = a_sacramento_clean.drop(['level_0','index'],axis = 1)\n",
    "a_sacramento_clean['Date'] = a_sacramento_clean['Date'].dt.date\n",
    "a_sacramento_clean = a_sacramento_clean.drop(['Outcome'],axis = 1)\n",
    "a_sacramento_clean['Type'].unique()\n",
    "def sex_sacramento(row):\n",
    "    if row['Sex'] == \"S\":\n",
    "        val = 'Spayed'\n",
    "    elif row['Sex'] == \"N\":\n",
    "        val = 'Neutered'\n",
    "    elif row['Sex'] == \"F\":\n",
    "        val = 'Female'\n",
    "    else:\n",
    "        val = 'Male'\n",
    "    return val\n",
    "a_sacramento_clean['Sex'] = a_sacramento_clean.apply(sex_sacramento, axis=1)\n",
    "a_sacramento_clean\n",
    "#应该用intake date 还是用outcome date"
   ]
  },
  {
   "cell_type": "code",
   "execution_count": 13,
   "metadata": {},
   "outputs": [],
   "source": [
    "a_sacramento_clean['year'] = pd.DatetimeIndex(a_sacramento_clean['Date']).year\n",
    "sacramento_2019 = a_sacramento_clean.loc[a_sacramento_clean['year'] == 2019]\n",
    "sacramento_2020 = a_sacramento_clean.loc[a_sacramento_clean['year'] == 2020]"
   ]
  },
  {
   "cell_type": "markdown",
   "metadata": {},
   "source": [
    "# Data Analysis & Results (EDA)"
   ]
  },
  {
   "cell_type": "markdown",
   "metadata": {},
   "source": [
    "Carry out EDA on your dataset(s); Describe in this section\n",
    "\n"
   ]
  },
  {
   "cell_type": "markdown",
   "metadata": {},
   "source": [
    "For each of pet adoption dataset in three regions, we splitted it into subsets of data in 2019 and in 2020. Then, we took a closer look at the the trends of pet adoption in 2019 and 2020 side by side. "
   ]
  },
  {
   "cell_type": "code",
   "execution_count": 14,
   "metadata": {},
   "outputs": [
    {
     "data": {
      "text/html": [
       "<div>\n",
       "<style scoped>\n",
       "    .dataframe tbody tr th:only-of-type {\n",
       "        vertical-align: middle;\n",
       "    }\n",
       "\n",
       "    .dataframe tbody tr th {\n",
       "        vertical-align: top;\n",
       "    }\n",
       "\n",
       "    .dataframe thead th {\n",
       "        text-align: right;\n",
       "    }\n",
       "</style>\n",
       "<table border=\"1\" class=\"dataframe\">\n",
       "  <thead>\n",
       "    <tr style=\"text-align: right;\">\n",
       "      <th></th>\n",
       "      <th>Date</th>\n",
       "      <th>Type</th>\n",
       "      <th>Sex</th>\n",
       "      <th>Age</th>\n",
       "      <th>year</th>\n",
       "    </tr>\n",
       "  </thead>\n",
       "  <tbody>\n",
       "    <tr>\n",
       "      <th>604</th>\n",
       "      <td>2019-01-02</td>\n",
       "      <td>RABBIT</td>\n",
       "      <td>Neutered</td>\n",
       "      <td>5.0</td>\n",
       "      <td>2019</td>\n",
       "    </tr>\n",
       "    <tr>\n",
       "      <th>1361</th>\n",
       "      <td>2019-01-02</td>\n",
       "      <td>DOG</td>\n",
       "      <td>Spayed</td>\n",
       "      <td>12.0</td>\n",
       "      <td>2019</td>\n",
       "    </tr>\n",
       "    <tr>\n",
       "      <th>22</th>\n",
       "      <td>2019-01-03</td>\n",
       "      <td>DOG</td>\n",
       "      <td>Male</td>\n",
       "      <td>4.0</td>\n",
       "      <td>2019</td>\n",
       "    </tr>\n",
       "    <tr>\n",
       "      <th>607</th>\n",
       "      <td>2019-01-03</td>\n",
       "      <td>CAT</td>\n",
       "      <td>Neutered</td>\n",
       "      <td>4.0</td>\n",
       "      <td>2019</td>\n",
       "    </tr>\n",
       "    <tr>\n",
       "      <th>1355</th>\n",
       "      <td>2019-01-03</td>\n",
       "      <td>CAT</td>\n",
       "      <td>Neutered</td>\n",
       "      <td>5.0</td>\n",
       "      <td>2019</td>\n",
       "    </tr>\n",
       "    <tr>\n",
       "      <th>...</th>\n",
       "      <td>...</td>\n",
       "      <td>...</td>\n",
       "      <td>...</td>\n",
       "      <td>...</td>\n",
       "      <td>...</td>\n",
       "    </tr>\n",
       "    <tr>\n",
       "      <th>579</th>\n",
       "      <td>2020-12-23</td>\n",
       "      <td>CAT</td>\n",
       "      <td>Spayed</td>\n",
       "      <td>2.0</td>\n",
       "      <td>2020</td>\n",
       "    </tr>\n",
       "    <tr>\n",
       "      <th>1080</th>\n",
       "      <td>2020-12-24</td>\n",
       "      <td>CAT</td>\n",
       "      <td>Neutered</td>\n",
       "      <td>11.0</td>\n",
       "      <td>2020</td>\n",
       "    </tr>\n",
       "    <tr>\n",
       "      <th>1338</th>\n",
       "      <td>2020-12-24</td>\n",
       "      <td>CAT</td>\n",
       "      <td>Spayed</td>\n",
       "      <td>2.0</td>\n",
       "      <td>2020</td>\n",
       "    </tr>\n",
       "    <tr>\n",
       "      <th>584</th>\n",
       "      <td>2020-12-26</td>\n",
       "      <td>CAT</td>\n",
       "      <td>Spayed</td>\n",
       "      <td>2.0</td>\n",
       "      <td>2020</td>\n",
       "    </tr>\n",
       "    <tr>\n",
       "      <th>581</th>\n",
       "      <td>2020-12-27</td>\n",
       "      <td>RABBIT</td>\n",
       "      <td>Male</td>\n",
       "      <td>2.0</td>\n",
       "      <td>2020</td>\n",
       "    </tr>\n",
       "  </tbody>\n",
       "</table>\n",
       "<p>1723 rows × 5 columns</p>\n",
       "</div>"
      ],
      "text/plain": [
       "           Date    Type       Sex   Age  year\n",
       "604  2019-01-02  RABBIT  Neutered   5.0  2019\n",
       "1361 2019-01-02     DOG    Spayed  12.0  2019\n",
       "22   2019-01-03     DOG      Male   4.0  2019\n",
       "607  2019-01-03     CAT  Neutered   4.0  2019\n",
       "1355 2019-01-03     CAT  Neutered   5.0  2019\n",
       "...         ...     ...       ...   ...   ...\n",
       "579  2020-12-23     CAT    Spayed   2.0  2020\n",
       "1080 2020-12-24     CAT  Neutered  11.0  2020\n",
       "1338 2020-12-24     CAT    Spayed   2.0  2020\n",
       "584  2020-12-26     CAT    Spayed   2.0  2020\n",
       "581  2020-12-27  RABBIT      Male   2.0  2020\n",
       "\n",
       "[1723 rows x 5 columns]"
      ]
     },
     "execution_count": 14,
     "metadata": {},
     "output_type": "execute_result"
    }
   ],
   "source": [
    "# Long beach \n",
    "a_longbeach_clean = a_longbeach_clean.sort_values(by='Date')\n",
    "a_longbeach_clean['year'] = pd.DatetimeIndex(a_longbeach_clean['Date']).year\n",
    "a_longbeach_clean = a_longbeach_clean.drop(a_longbeach_clean[a_longbeach_clean['Sex']=='Unknown'].index)\n",
    "order=['DOG', 'CAT','RABBIT','REPTILE', 'BIRD', 'RODENT','LIVESTOCK']\n",
    "a_longbeach_clean"
   ]
  },
  {
   "cell_type": "code",
   "execution_count": 15,
   "metadata": {},
   "outputs": [],
   "source": [
    "longbeach_2019 = a_longbeach_clean.loc[a_longbeach_clean['year']==2019]\n",
    "longbeach_2020 = a_longbeach_clean.loc[a_longbeach_clean['year']==2020]"
   ]
  },
  {
   "cell_type": "markdown",
   "metadata": {},
   "source": [
    "Shown below is a bar graph comparing the total adoption of various pets in Long Beach in 2019 and 2020. Except bird, there are observable decreases in adopting all the types of pets after covid start in 2020. For both years, more cats were adopted than other pet types, while dog was the second perferred pets for adoption. Adoptions for all other types were much less. "
   ]
  },
  {
   "cell_type": "code",
   "execution_count": 16,
   "metadata": {},
   "outputs": [
    {
     "data": {
      "text/plain": [
       "<AxesSubplot:xlabel='Type', ylabel='count'>"
      ]
     },
     "execution_count": 16,
     "metadata": {},
     "output_type": "execute_result"
    },
    {
     "data": {
      "image/png": "[encoded data removed]",
      "text/plain": [
       "<Figure size 432x288 with 1 Axes>"
      ]
     },
     "metadata": {
      "needs_background": "light"
     },
     "output_type": "display_data"
    }
   ],
   "source": [
    "sns.countplot(data = a_longbeach_clean, x = 'Type', hue = 'year',order=order)"
   ]
  },
  {
   "cell_type": "markdown",
   "metadata": {},
   "source": [
    "Grouped by pet types, the sex differences in adopted pets were illustrated in this graph. In general, less intact cats and dogs were adopted after the start of the covid and all birds adopted in 2020 seemed to be all intact in Long Beach. "
   ]
  },
  {
   "cell_type": "code",
   "execution_count": 17,
   "metadata": {},
   "outputs": [
    {
     "data": {
      "image/png": "[encoded data removed]",
      "text/plain": [
       "<Figure size 1440x720 with 2 Axes>"
      ]
     },
     "metadata": {
      "needs_background": "light"
     },
     "output_type": "display_data"
    }
   ],
   "source": [
    "fig, axes = plt.subplots(1, 2, sharex=True, figsize=(20,10))\n",
    "ax1 = sns.countplot(data = longbeach_2019, x = 'Type',hue = 'Sex', ax = axes[0], order=order)\n",
    "ax2 = sns.countplot(data = longbeach_2020, x = 'Type',hue = 'Sex', ax = axes[1], order=order)\n",
    "ax1.title.set_text('Sex related to Types in 2019 at Long Beach')\n",
    "ax2.title.set_text('Sex related to Types in 2020 at Long Beach')"
   ]
  },
  {
   "cell_type": "markdown",
   "metadata": {},
   "source": [
    "Ages of adopted pets in Long Beach seemed to be skewed to right in both 2019 and 2020. People seemed to have a consistent preference to young cats, while their preferred ages for dogs seemed to be about 1-2 years older than cats. "
   ]
  },
  {
   "cell_type": "code",
   "execution_count": 18,
   "metadata": {
    "scrolled": true
   },
   "outputs": [
    {
     "data": {
      "image/png": "[encoded data removed]",
      "text/plain": [
       "<Figure size 1440x720 with 2 Axes>"
      ]
     },
     "metadata": {
      "needs_background": "light"
     },
     "output_type": "display_data"
    }
   ],
   "source": [
    "\n",
    "fig, axes = plt.subplots(2, 1, sharex=True, figsize=(20,10))\n",
    "ax1 = sns.countplot(data = longbeach_2019, x = 'Age',hue = 'Type', ax = axes[0],hue_order=order)\n",
    "ax2 = sns.countplot(data = longbeach_2020, x = 'Age',hue = 'Type', ax = axes[1],hue_order=order)\n",
    "ax1.title.set_text('Age related to Types in 2019 at Long Beach')\n",
    "ax2.title.set_text('Age related to Types in 2020 at Long Beach')"
   ]
  },
  {
   "cell_type": "code",
   "execution_count": 19,
   "metadata": {},
   "outputs": [
    {
     "name": "stdout",
     "output_type": "stream",
     "text": [
      "Overall Change of Total Adoption Number From 2019 to 2020: -20.33 %\n",
      "Change of Adoption Number by Type:\n",
      "Adoption number of RABBIT from 2019 to 2020 changed by -69.7 %\n",
      "Adoption number of DOG from 2019 to 2020 changed by -25.41 %\n",
      "Adoption number of CAT from 2019 to 2020 changed by -14.72 %\n",
      "Adoption number of GUINEA PIG from 2019 to 2020 changed by -60.0 %\n",
      "Adoption number of LIVESTOCK from 2019 to 2020 changed by -100.0 %\n",
      "Adoption number of BIRD from 2019 to 2020 increased by a number of 7\n"
     ]
    }
   ],
   "source": [
    "# Basic Statistical analysis\n",
    "overall_adoption_change(a_longbeach_clean)"
   ]
  },
  {
   "cell_type": "markdown",
   "metadata": {},
   "source": [
    "Same data processing steps were used to make subsets of pet adoptions in 2019 and 2020 for sonoma."
   ]
  },
  {
   "cell_type": "code",
   "execution_count": 20,
   "metadata": {},
   "outputs": [
    {
     "data": {
      "text/html": [
       "<div>\n",
       "<style scoped>\n",
       "    .dataframe tbody tr th:only-of-type {\n",
       "        vertical-align: middle;\n",
       "    }\n",
       "\n",
       "    .dataframe tbody tr th {\n",
       "        vertical-align: top;\n",
       "    }\n",
       "\n",
       "    .dataframe thead th {\n",
       "        text-align: right;\n",
       "    }\n",
       "</style>\n",
       "<table border=\"1\" class=\"dataframe\">\n",
       "  <thead>\n",
       "    <tr style=\"text-align: right;\">\n",
       "      <th></th>\n",
       "      <th>Date</th>\n",
       "      <th>Type</th>\n",
       "      <th>Sex</th>\n",
       "      <th>Age</th>\n",
       "      <th>year</th>\n",
       "    </tr>\n",
       "  </thead>\n",
       "  <tbody>\n",
       "    <tr>\n",
       "      <th>478</th>\n",
       "      <td>2019-01-02</td>\n",
       "      <td>DOG</td>\n",
       "      <td>Neutered</td>\n",
       "      <td>2.07</td>\n",
       "      <td>2019</td>\n",
       "    </tr>\n",
       "    <tr>\n",
       "      <th>140</th>\n",
       "      <td>2019-01-02</td>\n",
       "      <td>DOG</td>\n",
       "      <td>Spayed</td>\n",
       "      <td>1.64</td>\n",
       "      <td>2019</td>\n",
       "    </tr>\n",
       "    <tr>\n",
       "      <th>761</th>\n",
       "      <td>2019-01-02</td>\n",
       "      <td>CAT</td>\n",
       "      <td>Spayed</td>\n",
       "      <td>1.56</td>\n",
       "      <td>2019</td>\n",
       "    </tr>\n",
       "    <tr>\n",
       "      <th>524</th>\n",
       "      <td>2019-01-02</td>\n",
       "      <td>DOG</td>\n",
       "      <td>Neutered</td>\n",
       "      <td>1.66</td>\n",
       "      <td>2019</td>\n",
       "    </tr>\n",
       "    <tr>\n",
       "      <th>416</th>\n",
       "      <td>2019-01-02</td>\n",
       "      <td>DOG</td>\n",
       "      <td>Neutered</td>\n",
       "      <td>1.79</td>\n",
       "      <td>2019</td>\n",
       "    </tr>\n",
       "    <tr>\n",
       "      <th>...</th>\n",
       "      <td>...</td>\n",
       "      <td>...</td>\n",
       "      <td>...</td>\n",
       "      <td>...</td>\n",
       "      <td>...</td>\n",
       "    </tr>\n",
       "    <tr>\n",
       "      <th>421</th>\n",
       "      <td>2020-12-19</td>\n",
       "      <td>DOG</td>\n",
       "      <td>Neutered</td>\n",
       "      <td>1.04</td>\n",
       "      <td>2020</td>\n",
       "    </tr>\n",
       "    <tr>\n",
       "      <th>555</th>\n",
       "      <td>2020-12-23</td>\n",
       "      <td>DOG</td>\n",
       "      <td>Neutered</td>\n",
       "      <td>6.12</td>\n",
       "      <td>2020</td>\n",
       "    </tr>\n",
       "    <tr>\n",
       "      <th>309</th>\n",
       "      <td>2020-12-24</td>\n",
       "      <td>DOG</td>\n",
       "      <td>Spayed</td>\n",
       "      <td>0.56</td>\n",
       "      <td>2020</td>\n",
       "    </tr>\n",
       "    <tr>\n",
       "      <th>326</th>\n",
       "      <td>2020-12-24</td>\n",
       "      <td>DOG</td>\n",
       "      <td>Spayed</td>\n",
       "      <td>2.06</td>\n",
       "      <td>2020</td>\n",
       "    </tr>\n",
       "    <tr>\n",
       "      <th>563</th>\n",
       "      <td>2020-12-26</td>\n",
       "      <td>CAT</td>\n",
       "      <td>Spayed</td>\n",
       "      <td>0.54</td>\n",
       "      <td>2020</td>\n",
       "    </tr>\n",
       "  </tbody>\n",
       "</table>\n",
       "<p>938 rows × 5 columns</p>\n",
       "</div>"
      ],
      "text/plain": [
       "          Date Type       Sex   Age  year\n",
       "478 2019-01-02  DOG  Neutered  2.07  2019\n",
       "140 2019-01-02  DOG    Spayed  1.64  2019\n",
       "761 2019-01-02  CAT    Spayed  1.56  2019\n",
       "524 2019-01-02  DOG  Neutered  1.66  2019\n",
       "416 2019-01-02  DOG  Neutered  1.79  2019\n",
       "..         ...  ...       ...   ...   ...\n",
       "421 2020-12-19  DOG  Neutered  1.04  2020\n",
       "555 2020-12-23  DOG  Neutered  6.12  2020\n",
       "309 2020-12-24  DOG    Spayed  0.56  2020\n",
       "326 2020-12-24  DOG    Spayed  2.06  2020\n",
       "563 2020-12-26  CAT    Spayed  0.54  2020\n",
       "\n",
       "[938 rows x 5 columns]"
      ]
     },
     "execution_count": 20,
     "metadata": {},
     "output_type": "execute_result"
    }
   ],
   "source": [
    "#Sonoma\n",
    "a_sonoma_clean = a_sonoma_clean.sort_values(by='Date')\n",
    "a_sonoma_clean['year'] = pd.DatetimeIndex(a_sonoma_clean['Date']).year\n",
    "a_sonoma_clean"
   ]
  },
  {
   "cell_type": "code",
   "execution_count": 21,
   "metadata": {},
   "outputs": [],
   "source": [
    "sonoma_2019 = a_sonoma_clean.loc[a_sonoma_clean['year']==2019]\n",
    "sonoma_2020 = a_sonoma_clean.loc[a_sonoma_clean['year']==2020]"
   ]
  },
  {
   "cell_type": "markdown",
   "metadata": {},
   "source": [
    "A dramatic decline in pet adoption was observed in sonoma after covid starts in 2020, but the preference towards cat and dog adoptions proceeds. "
   ]
  },
  {
   "cell_type": "code",
   "execution_count": 22,
   "metadata": {
    "scrolled": true
   },
   "outputs": [
    {
     "data": {
      "text/plain": [
       "<AxesSubplot:xlabel='Type', ylabel='count'>"
      ]
     },
     "execution_count": 22,
     "metadata": {},
     "output_type": "execute_result"
    },
    {
     "data": {
      "image/png": "[encoded data removed]",
      "text/plain": [
       "<Figure size 432x288 with 1 Axes>"
      ]
     },
     "metadata": {
      "needs_background": "light"
     },
     "output_type": "display_data"
    }
   ],
   "source": [
    "sns.countplot(data = a_sonoma_clean, x = 'Type', hue = 'year')"
   ]
  },
  {
   "cell_type": "markdown",
   "metadata": {},
   "source": [
    "Mostly pets adopted in Sonoma seemed to be already neutered or spayed. There seemed to be a preference towards spayed cats and neutered dogs in 2020, while people adopted more neutered cats and spayed dogs in 2019. "
   ]
  },
  {
   "cell_type": "code",
   "execution_count": 23,
   "metadata": {},
   "outputs": [
    {
     "data": {
      "image/png": "[encoded data removed]",
      "text/plain": [
       "<Figure size 1440x720 with 2 Axes>"
      ]
     },
     "metadata": {
      "needs_background": "light"
     },
     "output_type": "display_data"
    }
   ],
   "source": [
    "fig, axes = plt.subplots(1, 2, sharex=True, figsize=(20,10))\n",
    "ax1 = sns.countplot(data = sonoma_2019, x = 'Type',hue = 'Sex', ax = axes[0])\n",
    "ax2 = sns.countplot(data = sonoma_2020, x = 'Type',hue = 'Sex', ax = axes[1])\n",
    "ax1.title.set_text('Sex related to Types in 2019 at Sonoma')\n",
    "ax2.title.set_text('Sex related to Types in 2020 at Sonoma')"
   ]
  },
  {
   "cell_type": "markdown",
   "metadata": {},
   "source": [
    "Age preferences towards adoptable pets seemed to hold true for people in sonoma. "
   ]
  },
  {
   "cell_type": "code",
   "execution_count": 24,
   "metadata": {
    "scrolled": true
   },
   "outputs": [
    {
     "data": {
      "image/png": "[encoded data removed]",
      "text/plain": [
       "<Figure size 1440x720 with 2 Axes>"
      ]
     },
     "metadata": {
      "needs_background": "light"
     },
     "output_type": "display_data"
    }
   ],
   "source": [
    "fig, axes = plt.subplots(2, 1, sharex=True, figsize=(20,10))\n",
    "ax1 = sns.countplot(data = sonoma_2019, x = 'Age',hue = 'Type', ax = axes[0])\n",
    "ax2 = sns.countplot(data = sonoma_2020, x = 'Age',hue = 'Type', ax = axes[1])\n",
    "ax1.title.set_text('Age related to Types in 2019 at Sonoma')\n",
    "ax2.title.set_text('Age related to Types in 2020 at Sonoma')"
   ]
  },
  {
   "cell_type": "code",
   "execution_count": 83,
   "metadata": {},
   "outputs": [
    {
     "data": {
      "text/plain": [
       "<AxesSubplot:ylabel='Age'>"
      ]
     },
     "execution_count": 83,
     "metadata": {},
     "output_type": "execute_result"
    },
    {
     "data": {
      "image/png": "[encoded data removed]",
      "text/plain": [
       "<Figure size 986.4x595.44 with 1 Axes>"
      ]
     },
     "metadata": {},
     "output_type": "display_data"
    }
   ],
   "source": [
    "sns.lineplot(data=sonoma_2019[\"Age\"])"
   ]
  },
  {
   "cell_type": "code",
   "execution_count": 25,
   "metadata": {},
   "outputs": [
    {
     "name": "stdout",
     "output_type": "stream",
     "text": [
      "Overall Change of Total Adoption Number From 2019 to 2020: -67.33 %\n",
      "Change of Adoption Number by Type:\n",
      "Adoption number of DOG from 2019 to 2020 changed by -68.97 %\n",
      "Adoption number of CAT from 2019 to 2020 changed by -64.68 %\n",
      "Adoption number of LIVESTOCK from 2019 to 2020 changed by -50.0 %\n",
      "Adoption number of RABBIT from 2019 to 2020 changed by -80.0 %\n",
      "Adoption number of BIRD from 2019 to 2020 changed by -100.0 %\n",
      "Adoption number of RODENT from 2019 to 2020 changed by -100.0 %\n"
     ]
    }
   ],
   "source": [
    "# Basic Statistical analysis\n",
    "overall_adoption_change(a_sonoma_clean)"
   ]
  },
  {
   "cell_type": "markdown",
   "metadata": {},
   "source": [
    "Subsets of Austin were also generated by year. "
   ]
  },
  {
   "cell_type": "code",
   "execution_count": 26,
   "metadata": {},
   "outputs": [],
   "source": [
    "# Austin\n",
    "a_austin_clean['year'] = pd.DatetimeIndex(a_austin_clean['Date']).year"
   ]
  },
  {
   "cell_type": "markdown",
   "metadata": {},
   "source": [
    "In addition to decreased adoption counts, people seemed to have a preference to cats in 2019, while their preference  shifted to dogs in 2020. "
   ]
  },
  {
   "cell_type": "code",
   "execution_count": 27,
   "metadata": {},
   "outputs": [
    {
     "data": {
      "image/png": "[encoded data removed]",
      "text/plain": [
       "<Figure size 1440x720 with 2 Axes>"
      ]
     },
     "metadata": {
      "needs_background": "light"
     },
     "output_type": "display_data"
    }
   ],
   "source": [
    "# Type 2019 vs 2020\n",
    "austin_2019 = a_austin_clean[a_austin_clean['year'] == 2019]\n",
    "austin_2020 = a_austin_clean[a_austin_clean['year'] == 2020]\n",
    "\n",
    "fig, axes = plt.subplots(1, 2, sharex=True, figsize=(20,10))\n",
    "ax1 = sns.countplot(data = austin_2019, x = 'Type', hue = 'year', ax = axes[0])\n",
    "ax2 = sns.countplot(data = austin_2020, x = 'Type', hue = 'year',ax = axes[1])\n",
    "ax1.title.set_text('Type count in 2019 at Austin')\n",
    "ax2.title.set_text('Type count in 2020 at Austin')"
   ]
  },
  {
   "cell_type": "markdown",
   "metadata": {},
   "source": [
    "Like in other regions, people in Austin have a preference towards really young cats, and their preferred age of adopted dogs seemed to be about 1 year older than which of cats. "
   ]
  },
  {
   "cell_type": "code",
   "execution_count": 28,
   "metadata": {},
   "outputs": [
    {
     "data": {
      "image/png": "[encoded data removed]",
      "text/plain": [
       "<Figure size 2880x720 with 1 Axes>"
      ]
     },
     "metadata": {
      "needs_background": "light"
     },
     "output_type": "display_data"
    }
   ],
   "source": [
    "# Age by type in 2019 vs 2020\n",
    "austin_two_year = a_austin_clean[(a_austin_clean['year'] == 2019) | (a_austin_clean['year'] == 2020)]\n",
    "\n",
    "fig, axes = plt.subplots(figsize=(40,10))\n",
    "Age_compare = sns.barplot(x=\"Type\", y=\"Age\", hue=\"year\", data=austin_two_year)"
   ]
  },
  {
   "cell_type": "markdown",
   "metadata": {},
   "source": [
    "There seemed to be an increased preference towards neutered dogs in 2020. In Austin, people seemed to consistently prefer neutered cats. "
   ]
  },
  {
   "cell_type": "code",
   "execution_count": 29,
   "metadata": {},
   "outputs": [
    {
     "data": {
      "image/png": "[encoded data removed]",
      "text/plain": [
       "<Figure size 1440x720 with 2 Axes>"
      ]
     },
     "metadata": {
      "needs_background": "light"
     },
     "output_type": "display_data"
    }
   ],
   "source": [
    "# Sex by type in 2019 vs 2020\n",
    "fig, axes = plt.subplots(1, 2, sharex=True, figsize=(20,10))\n",
    "ax1 = sns.countplot(data = austin_2019, x = 'Type',hue = 'Sex', ax = axes[0])\n",
    "ax2 = sns.countplot(data = austin_2020, x = 'Type',hue = 'Sex',ax = axes[1])\n",
    "ax1.title.set_text('Sex by types in 2019 at Austin')\n",
    "ax2.title.set_text('Sex by types in 2020 at Austin')"
   ]
  },
  {
   "cell_type": "code",
   "execution_count": 30,
   "metadata": {},
   "outputs": [
    {
     "name": "stdout",
     "output_type": "stream",
     "text": [
      "Overall Change of Total Adoption Number From 2019 to 2020: -48.65 %\n",
      "Change of Adoption Number by Type:\n",
      "Adoption number of DOG from 2019 to 2020 changed by -50.4 %\n",
      "Adoption number of CAT from 2019 to 2020 changed by -46.52 %\n",
      "Adoption number of RABBIT from 2019 to 2020 changed by -28.36 %\n",
      "Adoption number of BIRD from 2019 to 2020 changed by -10.53 %\n",
      "Adoption number of RODENT from 2019 to 2020 changed by -51.39 %\n",
      "Adoption number of LIVESTOCK from 2019 to 2020 changed by -33.33 %\n",
      "Adoption number of HEDGEHOG from 2019 to 2020 increased by a number of 1\n"
     ]
    }
   ],
   "source": [
    "# Basic Statistical analysis\n",
    "overall_adoption_change(a_austin_clean)"
   ]
  },
  {
   "cell_type": "markdown",
   "metadata": {},
   "source": [
    "# Combine All the datasets"
   ]
  },
  {
   "cell_type": "markdown",
   "metadata": {},
   "source": [
    "After looking at differences in pet adoption trends in different regions, we combined them into a larger dataset. "
   ]
  },
  {
   "cell_type": "code",
   "execution_count": 31,
   "metadata": {},
   "outputs": [],
   "source": [
    "# Combining dataset from six regions\n",
    "combined_2019 = pd.concat([longbeach_2019, sonoma_2019, austin_2019, norfolk_2019, sacramento_2019, bloom_2019], ignore_index=True)\n",
    "combined_2020 = pd.concat([longbeach_2020, sonoma_2020, austin_2020, norfolk_2020, sacramento_2020, bloom_2020], ignore_index=True)\n",
    "combined_2019['Type'] = combined_2019['Type'].str.upper()\n",
    "combined_2020['Type'] = combined_2020['Type'].str.upper()\n",
    "combined_total = pd.concat([combined_2019, combined_2020], ignore_index=True)\n",
    "# Drop index and any null in the data frame\n",
    "combined_total = combined_total.drop(['index'],axis = 1)\n",
    "combined_total = combined_total.dropna(axis='rows')\n",
    "# Drop Unknown from Sex columns\n",
    "combined_total = combined_total[combined_total['Sex']!='Unknown']"
   ]
  },
  {
   "cell_type": "code",
   "execution_count": 32,
   "metadata": {},
   "outputs": [],
   "source": [
    "order_total = ['DOG', 'CAT','RABBIT',  'GUINEA PIG', 'LIVESTOCK', 'BIRD','RODENT', 'OTHER', 'HEDGEHOG', 'WILDLIFE', 'REPTILE']"
   ]
  },
  {
   "cell_type": "markdown",
   "metadata": {},
   "source": [
    "Decreases in pet adoption were well illustrated this combined bar graph. Dog and cat adoptions almost decreaed by 50% by counts."
   ]
  },
  {
   "cell_type": "code",
   "execution_count": 33,
   "metadata": {},
   "outputs": [
    {
     "data": {
      "text/plain": [
       "<matplotlib.legend.Legend at 0x7ff343a56820>"
      ]
     },
     "execution_count": 33,
     "metadata": {},
     "output_type": "execute_result"
    },
    {
     "data": {
      "image/png": "[encoded data removed]",
      "text/plain": [
       "<Figure size 432x288 with 1 Axes>"
      ]
     },
     "metadata": {
      "needs_background": "light"
     },
     "output_type": "display_data"
    }
   ],
   "source": [
    "sns.countplot(data = combined_total, x = 'Type', hue = 'year',order = order_total )\n",
    "plt.legend(loc = 'upper right')"
   ]
  },
  {
   "cell_type": "markdown",
   "metadata": {},
   "source": [
    "People's preference towards sex of adoptable pets seemed to be consistent across pet types. "
   ]
  },
  {
   "cell_type": "code",
   "execution_count": 34,
   "metadata": {},
   "outputs": [
    {
     "data": {
      "image/png": "[encoded data removed]",
      "text/plain": [
       "<Figure size 1440x720 with 2 Axes>"
      ]
     },
     "metadata": {
      "needs_background": "light"
     },
     "output_type": "display_data"
    }
   ],
   "source": [
    "# Sex by type in 2019 vs 2020\n",
    "fig, axes = plt.subplots(1, 2, sharex=True, figsize=(20,10))\n",
    "ax1 = sns.countplot(data = combined_2019, x = 'Type',hue = 'Sex', ax = axes[0], order=order_total)\n",
    "ax2 = sns.countplot(data = combined_2020, x = 'Type',hue = 'Sex', ax = axes[1], order=order_total)\n",
    "ax1.title.set_text('Sex related to Types in 2019 Combined')\n",
    "ax2.title.set_text('Sex related to Types in 2020 Combined')\n"
   ]
  },
  {
   "cell_type": "code",
   "execution_count": 35,
   "metadata": {},
   "outputs": [
    {
     "data": {
      "text/plain": [
       "30.63"
      ]
     },
     "execution_count": 35,
     "metadata": {},
     "output_type": "execute_result"
    }
   ],
   "source": [
    "combined_total['Age'].max()"
   ]
  },
  {
   "cell_type": "code",
   "execution_count": 36,
   "metadata": {},
   "outputs": [
    {
     "data": {
      "text/plain": [
       "([<matplotlib.axis.XTick at 0x7ff3424f5d00>,\n",
       "  <matplotlib.axis.XTick at 0x7ff3424f5310>,\n",
       "  <matplotlib.axis.XTick at 0x7ff3434da220>,\n",
       "  <matplotlib.axis.XTick at 0x7ff340eb5cd0>,\n",
       "  <matplotlib.axis.XTick at 0x7ff340e8f460>,\n",
       "  <matplotlib.axis.XTick at 0x7ff340e8fbb0>],\n",
       " [Text(0, 0, ''),\n",
       "  Text(0, 0, ''),\n",
       "  Text(0, 0, ''),\n",
       "  Text(0, 0, ''),\n",
       "  Text(0, 0, ''),\n",
       "  Text(0, 0, '')])"
      ]
     },
     "execution_count": 36,
     "metadata": {},
     "output_type": "execute_result"
    },
    {
     "data": {
      "image/png": "[encoded data removed]",
      "text/plain": [
       "<Figure size 1440x720 with 2 Axes>"
      ]
     },
     "metadata": {
      "needs_background": "light"
     },
     "output_type": "display_data"
    }
   ],
   "source": [
    "fig, axes = plt.subplots(2, 1, sharex=True, figsize=(20,10))\n",
    "ax1 = sns.histplot(data = combined_2019, x = 'Age',hue = 'Type', ax = axes[0],hue_order=order_total)\n",
    "ax2 = sns.histplot(data = combined_2020, x = 'Age',hue = 'Type', ax = axes[1],hue_order=order_total)\n",
    "ax1.title.set_text('Age related to Types in 2019 Combined')\n",
    "ax2.title.set_text('Age related to Types in 2020 Combined')\n",
    "plt.xticks(range(6))"
   ]
  },
  {
   "cell_type": "code",
   "execution_count": 37,
   "metadata": {},
   "outputs": [
    {
     "data": {
      "image/png": "[encoded data removed]",
      "text/plain": [
       "<Figure size 2880x720 with 1 Axes>"
      ]
     },
     "metadata": {
      "needs_background": "light"
     },
     "output_type": "display_data"
    }
   ],
   "source": [
    "fig, axes = plt.subplots(figsize=(40,10))\n",
    "Age_compare = sns.barplot(x=\"Type\", y=\"Age\", hue=\"year\", data=combined_total,order=order_total)"
   ]
  },
  {
   "cell_type": "code",
   "execution_count": 38,
   "metadata": {
    "scrolled": true
   },
   "outputs": [
    {
     "name": "stdout",
     "output_type": "stream",
     "text": [
      "Overall Change of Total Adoption Number From 2019 to 2020: -27.48 %\n",
      "Change of Adoption Number by Type:\n",
      "Adoption number of RABBIT from 2019 to 2020 changed by -46.11 %\n",
      "Adoption number of DOG from 2019 to 2020 changed by -30.68 %\n",
      "Adoption number of CAT from 2019 to 2020 changed by -23.0 %\n",
      "Adoption number of GUINEA PIG from 2019 to 2020 changed by -60.0 %\n",
      "Adoption number of LIVESTOCK from 2019 to 2020 changed by -50.0 %\n",
      "Adoption number of BIRD from 2019 to 2020 changed by -13.11 %\n",
      "Adoption number of RODENT from 2019 to 2020 changed by -45.45 %\n",
      "Adoption number of OTHER from 2019 to 2020 changed by -32.5 %\n",
      "Adoption number of HEDGEHOG from 2019 to 2020 changed by -50.0 %\n",
      "Adoption number of WILDLIFE from 2019 to 2020 changed by -100.0 %\n",
      "Adoption number of REPTILE from 2019 to 2020 increased by a number of 4\n"
     ]
    }
   ],
   "source": [
    "# Basic Statistical analysis\n",
    "overall_adoption_change(combined_total)"
   ]
  },
  {
   "cell_type": "markdown",
   "metadata": {},
   "source": [
    "Based on individual datasets from Long Beach, Sonoma, and Austin as well as combined dataset, there is a clear decrease in pet adoption in 2020 than in 2019. Besides overall decrease, we also observed the skewedness of ages of adopted pets. In general, most adopted pets were cats or dogs, in which most of them were neutered or spayed. "
   ]
  },
  {
   "cell_type": "code",
   "execution_count": 39,
   "metadata": {},
   "outputs": [
    {
     "data": {
      "text/html": [
       "<div>\n",
       "<style scoped>\n",
       "    .dataframe tbody tr th:only-of-type {\n",
       "        vertical-align: middle;\n",
       "    }\n",
       "\n",
       "    .dataframe tbody tr th {\n",
       "        vertical-align: top;\n",
       "    }\n",
       "\n",
       "    .dataframe thead th {\n",
       "        text-align: right;\n",
       "    }\n",
       "</style>\n",
       "<table border=\"1\" class=\"dataframe\">\n",
       "  <thead>\n",
       "    <tr style=\"text-align: right;\">\n",
       "      <th></th>\n",
       "      <th>year</th>\n",
       "      <th>Type</th>\n",
       "      <th>Proportion of Adoption</th>\n",
       "    </tr>\n",
       "  </thead>\n",
       "  <tbody>\n",
       "    <tr>\n",
       "      <th>0</th>\n",
       "      <td>2019</td>\n",
       "      <td>DOG</td>\n",
       "      <td>0.514571</td>\n",
       "    </tr>\n",
       "    <tr>\n",
       "      <th>1</th>\n",
       "      <td>2019</td>\n",
       "      <td>CAT</td>\n",
       "      <td>0.453169</td>\n",
       "    </tr>\n",
       "    <tr>\n",
       "      <th>2</th>\n",
       "      <td>2019</td>\n",
       "      <td>RABBIT</td>\n",
       "      <td>0.012280</td>\n",
       "    </tr>\n",
       "    <tr>\n",
       "      <th>3</th>\n",
       "      <td>2019</td>\n",
       "      <td>RODENT</td>\n",
       "      <td>0.009099</td>\n",
       "    </tr>\n",
       "    <tr>\n",
       "      <th>4</th>\n",
       "      <td>2019</td>\n",
       "      <td>OTHER</td>\n",
       "      <td>0.005090</td>\n",
       "    </tr>\n",
       "    <tr>\n",
       "      <th>5</th>\n",
       "      <td>2019</td>\n",
       "      <td>BIRD</td>\n",
       "      <td>0.003881</td>\n",
       "    </tr>\n",
       "    <tr>\n",
       "      <th>6</th>\n",
       "      <td>2019</td>\n",
       "      <td>LIVESTOCK</td>\n",
       "      <td>0.001400</td>\n",
       "    </tr>\n",
       "    <tr>\n",
       "      <th>7</th>\n",
       "      <td>2019</td>\n",
       "      <td>GUINEA PIG</td>\n",
       "      <td>0.000318</td>\n",
       "    </tr>\n",
       "    <tr>\n",
       "      <th>8</th>\n",
       "      <td>2019</td>\n",
       "      <td>HEDGEHOG</td>\n",
       "      <td>0.000127</td>\n",
       "    </tr>\n",
       "    <tr>\n",
       "      <th>9</th>\n",
       "      <td>2019</td>\n",
       "      <td>WILDLIFE</td>\n",
       "      <td>0.000064</td>\n",
       "    </tr>\n",
       "    <tr>\n",
       "      <th>10</th>\n",
       "      <td>2020</td>\n",
       "      <td>DOG</td>\n",
       "      <td>0.491884</td>\n",
       "    </tr>\n",
       "    <tr>\n",
       "      <th>11</th>\n",
       "      <td>2020</td>\n",
       "      <td>CAT</td>\n",
       "      <td>0.481179</td>\n",
       "    </tr>\n",
       "    <tr>\n",
       "      <th>12</th>\n",
       "      <td>2020</td>\n",
       "      <td>RABBIT</td>\n",
       "      <td>0.009125</td>\n",
       "    </tr>\n",
       "    <tr>\n",
       "      <th>13</th>\n",
       "      <td>2020</td>\n",
       "      <td>RODENT</td>\n",
       "      <td>0.006844</td>\n",
       "    </tr>\n",
       "    <tr>\n",
       "      <th>14</th>\n",
       "      <td>2020</td>\n",
       "      <td>OTHER</td>\n",
       "      <td>0.004738</td>\n",
       "    </tr>\n",
       "    <tr>\n",
       "      <th>15</th>\n",
       "      <td>2020</td>\n",
       "      <td>BIRD</td>\n",
       "      <td>0.004650</td>\n",
       "    </tr>\n",
       "    <tr>\n",
       "      <th>16</th>\n",
       "      <td>2020</td>\n",
       "      <td>LIVESTOCK</td>\n",
       "      <td>0.000965</td>\n",
       "    </tr>\n",
       "    <tr>\n",
       "      <th>17</th>\n",
       "      <td>2020</td>\n",
       "      <td>REPTILE</td>\n",
       "      <td>0.000351</td>\n",
       "    </tr>\n",
       "    <tr>\n",
       "      <th>18</th>\n",
       "      <td>2020</td>\n",
       "      <td>GUINEA PIG</td>\n",
       "      <td>0.000175</td>\n",
       "    </tr>\n",
       "    <tr>\n",
       "      <th>19</th>\n",
       "      <td>2020</td>\n",
       "      <td>HEDGEHOG</td>\n",
       "      <td>0.000088</td>\n",
       "    </tr>\n",
       "  </tbody>\n",
       "</table>\n",
       "</div>"
      ],
      "text/plain": [
       "    year        Type  Proportion of Adoption\n",
       "0   2019         DOG                0.514571\n",
       "1   2019         CAT                0.453169\n",
       "2   2019      RABBIT                0.012280\n",
       "3   2019      RODENT                0.009099\n",
       "4   2019       OTHER                0.005090\n",
       "5   2019        BIRD                0.003881\n",
       "6   2019   LIVESTOCK                0.001400\n",
       "7   2019  GUINEA PIG                0.000318\n",
       "8   2019    HEDGEHOG                0.000127\n",
       "9   2019    WILDLIFE                0.000064\n",
       "10  2020         DOG                0.491884\n",
       "11  2020         CAT                0.481179\n",
       "12  2020      RABBIT                0.009125\n",
       "13  2020      RODENT                0.006844\n",
       "14  2020       OTHER                0.004738\n",
       "15  2020        BIRD                0.004650\n",
       "16  2020   LIVESTOCK                0.000965\n",
       "17  2020     REPTILE                0.000351\n",
       "18  2020  GUINEA PIG                0.000175\n",
       "19  2020    HEDGEHOG                0.000088"
      ]
     },
     "execution_count": 39,
     "metadata": {},
     "output_type": "execute_result"
    }
   ],
   "source": [
    "combined_prop = combined_total.groupby(['year'])['Type'].value_counts(normalize=True).rename(\"Proportion of Adoption\").reset_index()\n",
    "combined_prop"
   ]
  },
  {
   "cell_type": "code",
   "execution_count": 40,
   "metadata": {},
   "outputs": [
    {
     "data": {
      "image/png": "[encoded data removed]",
      "text/plain": [
       "<Figure size 986.4x595.44 with 1 Axes>"
      ]
     },
     "metadata": {},
     "output_type": "display_data"
    }
   ],
   "source": [
    "sns.set(rc={'figure.figsize':(13.7,8.27)})\n",
    "plot_proportion = sns.barplot(x=\"Type\", y=\"Proportion of Adoption\", hue=\"year\", data=combined_prop,order=order_total)"
   ]
  },
  {
   "cell_type": "markdown",
   "metadata": {},
   "source": [
    "As shown in the graph, animals other than cat and dog take up minimal proportion. From here on, we will only analyze the statistical trends of cat and dog."
   ]
  },
  {
   "cell_type": "code",
   "execution_count": 41,
   "metadata": {},
   "outputs": [
    {
     "data": {
      "text/html": [
       "<div>\n",
       "<style scoped>\n",
       "    .dataframe tbody tr th:only-of-type {\n",
       "        vertical-align: middle;\n",
       "    }\n",
       "\n",
       "    .dataframe tbody tr th {\n",
       "        vertical-align: top;\n",
       "    }\n",
       "\n",
       "    .dataframe thead th {\n",
       "        text-align: right;\n",
       "    }\n",
       "</style>\n",
       "<table border=\"1\" class=\"dataframe\">\n",
       "  <thead>\n",
       "    <tr style=\"text-align: right;\">\n",
       "      <th></th>\n",
       "      <th>year</th>\n",
       "      <th>Type</th>\n",
       "      <th>Proportion of Adoption</th>\n",
       "    </tr>\n",
       "  </thead>\n",
       "  <tbody>\n",
       "    <tr>\n",
       "      <th>0</th>\n",
       "      <td>2019</td>\n",
       "      <td>DOG</td>\n",
       "      <td>0.531725</td>\n",
       "    </tr>\n",
       "    <tr>\n",
       "      <th>1</th>\n",
       "      <td>2019</td>\n",
       "      <td>CAT</td>\n",
       "      <td>0.468275</td>\n",
       "    </tr>\n",
       "    <tr>\n",
       "      <th>2</th>\n",
       "      <td>2020</td>\n",
       "      <td>DOG</td>\n",
       "      <td>0.505500</td>\n",
       "    </tr>\n",
       "    <tr>\n",
       "      <th>3</th>\n",
       "      <td>2020</td>\n",
       "      <td>CAT</td>\n",
       "      <td>0.494500</td>\n",
       "    </tr>\n",
       "  </tbody>\n",
       "</table>\n",
       "</div>"
      ],
      "text/plain": [
       "   year Type  Proportion of Adoption\n",
       "0  2019  DOG                0.531725\n",
       "1  2019  CAT                0.468275\n",
       "2  2020  DOG                0.505500\n",
       "3  2020  CAT                0.494500"
      ]
     },
     "execution_count": 41,
     "metadata": {},
     "output_type": "execute_result"
    }
   ],
   "source": [
    "# Change of proportion in overall adoption for dogs and cats\n",
    "combined_dogcat = combined_total[(combined_total['Type']=='DOG') | (combined_total['Type']=='CAT')]\n",
    "prop_df = combined_dogcat.groupby(['year'])['Type'].value_counts(normalize=True).rename(\"Proportion of Adoption\").reset_index()\n",
    "prop_df.head()\n"
   ]
  },
  {
   "cell_type": "code",
   "execution_count": 42,
   "metadata": {},
   "outputs": [
    {
     "data": {
      "image/png": "[encoded data removed]",
      "text/plain": [
       "<Figure size 986.4x595.44 with 1 Axes>"
      ]
     },
     "metadata": {},
     "output_type": "display_data"
    }
   ],
   "source": [
    "plot_proportion = sns.barplot(x=\"Type\", y=\"Proportion of Adoption\", hue=\"year\", data=prop_df)"
   ]
  },
  {
   "cell_type": "code",
   "execution_count": 43,
   "metadata": {},
   "outputs": [
    {
     "data": {
      "text/html": [
       "<div>\n",
       "<style scoped>\n",
       "    .dataframe tbody tr th:only-of-type {\n",
       "        vertical-align: middle;\n",
       "    }\n",
       "\n",
       "    .dataframe tbody tr th {\n",
       "        vertical-align: top;\n",
       "    }\n",
       "\n",
       "    .dataframe thead th {\n",
       "        text-align: right;\n",
       "    }\n",
       "</style>\n",
       "<table border=\"1\" class=\"dataframe\">\n",
       "  <thead>\n",
       "    <tr style=\"text-align: right;\">\n",
       "      <th></th>\n",
       "      <th>year</th>\n",
       "      <th>Sex</th>\n",
       "      <th>Sex Proportion of Dog</th>\n",
       "    </tr>\n",
       "  </thead>\n",
       "  <tbody>\n",
       "    <tr>\n",
       "      <th>0</th>\n",
       "      <td>2019</td>\n",
       "      <td>Neutered</td>\n",
       "      <td>0.448992</td>\n",
       "    </tr>\n",
       "    <tr>\n",
       "      <th>1</th>\n",
       "      <td>2019</td>\n",
       "      <td>Spayed</td>\n",
       "      <td>0.415976</td>\n",
       "    </tr>\n",
       "    <tr>\n",
       "      <th>2</th>\n",
       "      <td>2019</td>\n",
       "      <td>Male</td>\n",
       "      <td>0.070607</td>\n",
       "    </tr>\n",
       "    <tr>\n",
       "      <th>3</th>\n",
       "      <td>2019</td>\n",
       "      <td>Female</td>\n",
       "      <td>0.064424</td>\n",
       "    </tr>\n",
       "    <tr>\n",
       "      <th>4</th>\n",
       "      <td>2020</td>\n",
       "      <td>Neutered</td>\n",
       "      <td>0.461827</td>\n",
       "    </tr>\n",
       "    <tr>\n",
       "      <th>5</th>\n",
       "      <td>2020</td>\n",
       "      <td>Spayed</td>\n",
       "      <td>0.420621</td>\n",
       "    </tr>\n",
       "    <tr>\n",
       "      <th>6</th>\n",
       "      <td>2020</td>\n",
       "      <td>Male</td>\n",
       "      <td>0.060649</td>\n",
       "    </tr>\n",
       "    <tr>\n",
       "      <th>7</th>\n",
       "      <td>2020</td>\n",
       "      <td>Female</td>\n",
       "      <td>0.056903</td>\n",
       "    </tr>\n",
       "  </tbody>\n",
       "</table>\n",
       "</div>"
      ],
      "text/plain": [
       "   year       Sex  Sex Proportion of Dog\n",
       "0  2019  Neutered               0.448992\n",
       "1  2019    Spayed               0.415976\n",
       "2  2019      Male               0.070607\n",
       "3  2019    Female               0.064424\n",
       "4  2020  Neutered               0.461827\n",
       "5  2020    Spayed               0.420621\n",
       "6  2020      Male               0.060649\n",
       "7  2020    Female               0.056903"
      ]
     },
     "execution_count": 43,
     "metadata": {},
     "output_type": "execute_result"
    }
   ],
   "source": [
    "# Change of proportion in dog's sex\n",
    "dog_data = combined_total[combined_total['Type']=='DOG']\n",
    "dog_prop = dog_data.groupby(['year'])['Sex'].value_counts(normalize=True).rename(\"Sex Proportion of Dog\").reset_index()\n",
    "dog_prop"
   ]
  },
  {
   "cell_type": "code",
   "execution_count": 44,
   "metadata": {},
   "outputs": [
    {
     "data": {
      "image/png": "[encoded data removed]",
      "text/plain": [
       "<Figure size 986.4x595.44 with 1 Axes>"
      ]
     },
     "metadata": {},
     "output_type": "display_data"
    }
   ],
   "source": [
    "plot_proportion = sns.barplot(x=\"Sex\", y=\"Sex Proportion of Dog\", hue=\"year\", data=dog_prop)"
   ]
  },
  {
   "cell_type": "code",
   "execution_count": 45,
   "metadata": {},
   "outputs": [
    {
     "data": {
      "text/html": [
       "<div>\n",
       "<style scoped>\n",
       "    .dataframe tbody tr th:only-of-type {\n",
       "        vertical-align: middle;\n",
       "    }\n",
       "\n",
       "    .dataframe tbody tr th {\n",
       "        vertical-align: top;\n",
       "    }\n",
       "\n",
       "    .dataframe thead th {\n",
       "        text-align: right;\n",
       "    }\n",
       "</style>\n",
       "<table border=\"1\" class=\"dataframe\">\n",
       "  <thead>\n",
       "    <tr style=\"text-align: right;\">\n",
       "      <th></th>\n",
       "      <th>year</th>\n",
       "      <th>Sex</th>\n",
       "      <th>Sex Proportion of Cat</th>\n",
       "    </tr>\n",
       "  </thead>\n",
       "  <tbody>\n",
       "    <tr>\n",
       "      <th>0</th>\n",
       "      <td>2019</td>\n",
       "      <td>Spayed</td>\n",
       "      <td>0.365066</td>\n",
       "    </tr>\n",
       "    <tr>\n",
       "      <th>1</th>\n",
       "      <td>2019</td>\n",
       "      <td>Neutered</td>\n",
       "      <td>0.364926</td>\n",
       "    </tr>\n",
       "    <tr>\n",
       "      <th>2</th>\n",
       "      <td>2019</td>\n",
       "      <td>Female</td>\n",
       "      <td>0.141955</td>\n",
       "    </tr>\n",
       "    <tr>\n",
       "      <th>3</th>\n",
       "      <td>2019</td>\n",
       "      <td>Male</td>\n",
       "      <td>0.128054</td>\n",
       "    </tr>\n",
       "    <tr>\n",
       "      <th>4</th>\n",
       "      <td>2020</td>\n",
       "      <td>Spayed</td>\n",
       "      <td>0.379650</td>\n",
       "    </tr>\n",
       "    <tr>\n",
       "      <th>5</th>\n",
       "      <td>2020</td>\n",
       "      <td>Neutered</td>\n",
       "      <td>0.362327</td>\n",
       "    </tr>\n",
       "    <tr>\n",
       "      <th>6</th>\n",
       "      <td>2020</td>\n",
       "      <td>Female</td>\n",
       "      <td>0.134209</td>\n",
       "    </tr>\n",
       "    <tr>\n",
       "      <th>7</th>\n",
       "      <td>2020</td>\n",
       "      <td>Male</td>\n",
       "      <td>0.123815</td>\n",
       "    </tr>\n",
       "  </tbody>\n",
       "</table>\n",
       "</div>"
      ],
      "text/plain": [
       "   year       Sex  Sex Proportion of Cat\n",
       "0  2019    Spayed               0.365066\n",
       "1  2019  Neutered               0.364926\n",
       "2  2019    Female               0.141955\n",
       "3  2019      Male               0.128054\n",
       "4  2020    Spayed               0.379650\n",
       "5  2020  Neutered               0.362327\n",
       "6  2020    Female               0.134209\n",
       "7  2020      Male               0.123815"
      ]
     },
     "execution_count": 45,
     "metadata": {},
     "output_type": "execute_result"
    }
   ],
   "source": [
    "# Change of proportion in cat's sex\n",
    "cat_data = combined_total[combined_total['Type']=='CAT']\n",
    "cat_prop = cat_data.groupby(['year'])['Sex'].value_counts(normalize=True).rename(\"Sex Proportion of Cat\").reset_index()\n",
    "cat_prop"
   ]
  },
  {
   "cell_type": "code",
   "execution_count": 46,
   "metadata": {},
   "outputs": [
    {
     "data": {
      "image/png": "[encoded data removed]",
      "text/plain": [
       "<Figure size 986.4x595.44 with 1 Axes>"
      ]
     },
     "metadata": {},
     "output_type": "display_data"
    }
   ],
   "source": [
    "plot_proportion = sns.barplot(x=\"Sex\", y=\"Sex Proportion of Cat\", hue=\"year\", data=cat_prop)"
   ]
  },
  {
   "cell_type": "code",
   "execution_count": 47,
   "metadata": {},
   "outputs": [
    {
     "data": {
      "text/html": [
       "<div>\n",
       "<style scoped>\n",
       "    .dataframe tbody tr th:only-of-type {\n",
       "        vertical-align: middle;\n",
       "    }\n",
       "\n",
       "    .dataframe tbody tr th {\n",
       "        vertical-align: top;\n",
       "    }\n",
       "\n",
       "    .dataframe thead th {\n",
       "        text-align: right;\n",
       "    }\n",
       "</style>\n",
       "<table border=\"1\" class=\"dataframe\">\n",
       "  <thead>\n",
       "    <tr style=\"text-align: right;\">\n",
       "      <th></th>\n",
       "      <th>year</th>\n",
       "      <th>Type</th>\n",
       "      <th>Mean Age</th>\n",
       "    </tr>\n",
       "  </thead>\n",
       "  <tbody>\n",
       "    <tr>\n",
       "      <th>0</th>\n",
       "      <td>2019</td>\n",
       "      <td>DOG</td>\n",
       "      <td>2.696922</td>\n",
       "    </tr>\n",
       "    <tr>\n",
       "      <th>1</th>\n",
       "      <td>2020</td>\n",
       "      <td>CAT</td>\n",
       "      <td>2.329895</td>\n",
       "    </tr>\n",
       "    <tr>\n",
       "      <th>2</th>\n",
       "      <td>2019</td>\n",
       "      <td>DOG</td>\n",
       "      <td>3.267191</td>\n",
       "    </tr>\n",
       "    <tr>\n",
       "      <th>3</th>\n",
       "      <td>2020</td>\n",
       "      <td>CAT</td>\n",
       "      <td>2.296014</td>\n",
       "    </tr>\n",
       "  </tbody>\n",
       "</table>\n",
       "</div>"
      ],
      "text/plain": [
       "   year Type  Mean Age\n",
       "0  2019  DOG  2.696922\n",
       "1  2020  CAT  2.329895\n",
       "2  2019  DOG  3.267191\n",
       "3  2020  CAT  2.296014"
      ]
     },
     "execution_count": 47,
     "metadata": {},
     "output_type": "execute_result"
    }
   ],
   "source": [
    "cat_age_2019 =  cat_data[cat_data['year']==2019]['Age'].describe()[1]\n",
    "dog_age_2019 =  dog_data[dog_data['year']==2019]['Age'].describe()[1]\n",
    "cat_age_2020 =  cat_data[cat_data['year']==2020]['Age'].describe()[1]\n",
    "dog_age_2020 =  dog_data[dog_data['year']==2020]['Age'].describe()[1]\n",
    "\n",
    "statistics = {'year': [2019, 2020, 2019, 2020], 'Type': ['DOG','CAT','DOG','CAT'], 'Mean Age': [dog_age_2019,cat_age_2019,dog_age_2020,cat_age_2020]}\n",
    "age_comp = pd.DataFrame(data=statistics)\n",
    "age_comp"
   ]
  },
  {
   "cell_type": "markdown",
   "metadata": {},
   "source": [
    "# Statistical Inference for all six-region combined"
   ]
  },
  {
   "cell_type": "code",
   "execution_count": 48,
   "metadata": {},
   "outputs": [
    {
     "data": {
      "text/html": [
       "<div>\n",
       "<style scoped>\n",
       "    .dataframe tbody tr th:only-of-type {\n",
       "        vertical-align: middle;\n",
       "    }\n",
       "\n",
       "    .dataframe tbody tr th {\n",
       "        vertical-align: top;\n",
       "    }\n",
       "\n",
       "    .dataframe thead th {\n",
       "        text-align: right;\n",
       "    }\n",
       "</style>\n",
       "<table border=\"1\" class=\"dataframe\">\n",
       "  <thead>\n",
       "    <tr style=\"text-align: right;\">\n",
       "      <th>year</th>\n",
       "      <th>2019</th>\n",
       "      <th>2020</th>\n",
       "    </tr>\n",
       "    <tr>\n",
       "      <th>Type</th>\n",
       "      <th></th>\n",
       "      <th></th>\n",
       "    </tr>\n",
       "  </thead>\n",
       "  <tbody>\n",
       "    <tr>\n",
       "      <th>CAT</th>\n",
       "      <td>0.564969</td>\n",
       "      <td>0.435031</td>\n",
       "    </tr>\n",
       "    <tr>\n",
       "      <th>DOG</th>\n",
       "      <td>0.590594</td>\n",
       "      <td>0.409406</td>\n",
       "    </tr>\n",
       "  </tbody>\n",
       "</table>\n",
       "</div>"
      ],
      "text/plain": [
       "year      2019      2020\n",
       "Type                    \n",
       "CAT   0.564969  0.435031\n",
       "DOG   0.590594  0.409406"
      ]
     },
     "execution_count": 48,
     "metadata": {},
     "output_type": "execute_result"
    },
    {
     "data": {
      "image/png": "[encoded data removed]",
      "text/plain": [
       "<Figure size 864x576 with 2 Axes>"
      ]
     },
     "metadata": {},
     "output_type": "display_data"
    }
   ],
   "source": [
    "#Type\n",
    "AC_Type_contigency= pd.crosstab(combined_dogcat['Type'], combined_dogcat['year']) \n",
    "AC_Type_contigency_pct = pd.crosstab(combined_dogcat['Type'], combined_dogcat['year'], normalize='index')\n",
    "plt.figure(figsize=(12,8)) \n",
    "sns.heatmap(AC_Type_contigency, annot=True, cmap=\"YlGnBu\")\n",
    "AC_Type_contigency_pct"
   ]
  },
  {
   "cell_type": "code",
   "execution_count": 49,
   "metadata": {},
   "outputs": [
    {
     "data": {
      "text/plain": [
       "(17.567643770786532,\n",
       " 2.7726611026146857e-05,\n",
       " 1,\n",
       " array([[7290.18799194, 5315.81200806],\n",
       "        [7918.81200806, 5774.18799194]]))"
      ]
     },
     "execution_count": 49,
     "metadata": {},
     "output_type": "execute_result"
    }
   ],
   "source": [
    "# Chi-square test of independence. \n",
    "c, p, dof, expected = chi2_contingency(AC_Type_contigency)\n",
    "c, p, dof, expected"
   ]
  },
  {
   "cell_type": "markdown",
   "metadata": {},
   "source": [
    "We set our alpha value as 0.05, and since our df is 1, our critical value would be 3.841. Thus, the test value is smaller than the critical value, and we maintain the null hypothesis that there is no significant differnce between the proportion of cat and dog from 2019 to 2020"
   ]
  },
  {
   "cell_type": "code",
   "execution_count": 50,
   "metadata": {},
   "outputs": [
    {
     "data": {
      "text/html": [
       "<div>\n",
       "<style scoped>\n",
       "    .dataframe tbody tr th:only-of-type {\n",
       "        vertical-align: middle;\n",
       "    }\n",
       "\n",
       "    .dataframe tbody tr th {\n",
       "        vertical-align: top;\n",
       "    }\n",
       "\n",
       "    .dataframe thead th {\n",
       "        text-align: right;\n",
       "    }\n",
       "</style>\n",
       "<table border=\"1\" class=\"dataframe\">\n",
       "  <thead>\n",
       "    <tr style=\"text-align: right;\">\n",
       "      <th>year</th>\n",
       "      <th>2019</th>\n",
       "      <th>2020</th>\n",
       "    </tr>\n",
       "    <tr>\n",
       "      <th>Sex</th>\n",
       "      <th></th>\n",
       "      <th></th>\n",
       "    </tr>\n",
       "  </thead>\n",
       "  <tbody>\n",
       "    <tr>\n",
       "      <th>Female</th>\n",
       "      <td>0.592192</td>\n",
       "      <td>0.407808</td>\n",
       "    </tr>\n",
       "    <tr>\n",
       "      <th>Male</th>\n",
       "      <td>0.592726</td>\n",
       "      <td>0.407274</td>\n",
       "    </tr>\n",
       "    <tr>\n",
       "      <th>Neutered</th>\n",
       "      <td>0.576532</td>\n",
       "      <td>0.423468</td>\n",
       "    </tr>\n",
       "    <tr>\n",
       "      <th>Spayed</th>\n",
       "      <td>0.573241</td>\n",
       "      <td>0.426759</td>\n",
       "    </tr>\n",
       "  </tbody>\n",
       "</table>\n",
       "</div>"
      ],
      "text/plain": [
       "year          2019      2020\n",
       "Sex                         \n",
       "Female    0.592192  0.407808\n",
       "Male      0.592726  0.407274\n",
       "Neutered  0.576532  0.423468\n",
       "Spayed    0.573241  0.426759"
      ]
     },
     "execution_count": 50,
     "metadata": {},
     "output_type": "execute_result"
    },
    {
     "data": {
      "image/png": "[encoded data removed]",
      "text/plain": [
       "<Figure size 864x576 with 2 Axes>"
      ]
     },
     "metadata": {},
     "output_type": "display_data"
    }
   ],
   "source": [
    "#Sex\n",
    "AC_Sex_contigency= pd.crosstab(combined_dogcat['Sex'], combined_dogcat['year']) \n",
    "AC_Sex_contigency_pct = pd.crosstab(combined_dogcat['Sex'], combined_dogcat['year'], normalize='index')\n",
    "plt.figure(figsize=(12,8)) \n",
    "sns.heatmap(AC_Sex_contigency, annot=True, cmap=\"YlGnBu\")\n",
    "AC_Sex_contigency_pct"
   ]
  },
  {
   "cell_type": "code",
   "execution_count": 51,
   "metadata": {},
   "outputs": [
    {
     "data": {
      "text/plain": [
       "(5.412679241117877,\n",
       " 0.14395565657493886,\n",
       " 3,\n",
       " array([[1496.09045971, 1090.90954029],\n",
       "        [1446.93402791, 1055.06597209],\n",
       "        [6249.22825963, 4556.77174037],\n",
       "        [6016.74725275, 4387.25274725]]))"
      ]
     },
     "execution_count": 51,
     "metadata": {},
     "output_type": "execute_result"
    }
   ],
   "source": [
    "# Chi-square test of independence. \n",
    "c, p, dof, expected = chi2_contingency(AC_Sex_contigency)\n",
    "c, p, dof, expected"
   ]
  },
  {
   "cell_type": "markdown",
   "metadata": {},
   "source": [
    "We set our alpha value as 0.05, and since our df is 3, our critical value would be 7.815. Thus, the test value is greater than the critical value, and we reject the null hypothesis and there is a significant differnce between the sex proportion of cat and dog from 2019 to 2020"
   ]
  },
  {
   "cell_type": "code",
   "execution_count": 52,
   "metadata": {},
   "outputs": [],
   "source": [
    "# t test for all six regions\n",
    "dog_data = combined_total[combined_total['Type']=='DOG']\n",
    "cat_data = combined_total[combined_total['Type']=='CAT']\n",
    "\n",
    "cat_age_2019 =  cat_data[cat_data['year']==2019]['Age']\n",
    "dog_age_2019 =  dog_data[dog_data['year']==2019]['Age']\n",
    "cat_age_2020 =  cat_data[cat_data['year']==2020]['Age']\n",
    "dog_age_2020 =  dog_data[dog_data['year']==2020]['Age']\n",
    "\n",
    "cat_age_2019 = cat_age_2019.dropna()\n",
    "dog_age_2019 = dog_age_2019.dropna()\n",
    "cat_age_2020 = cat_age_2020.dropna()\n",
    "dog_age_2020 = dog_age_2020.dropna()"
   ]
  },
  {
   "cell_type": "code",
   "execution_count": 53,
   "metadata": {},
   "outputs": [
    {
     "name": "stdout",
     "output_type": "stream",
     "text": [
      "t value:  -10.990476611563944 p value:  5.5589020621537025e-28\n",
      "Test for dog accomplished, there is a significant difference in age from 2019 to 2020!\n"
     ]
    }
   ],
   "source": [
    "# Test for dog\n",
    "from scipy.stats import ttest_ind, chisquare, normaltest\n",
    "\n",
    "t_val, p_val = stats.ttest_ind(dog_age_2019, dog_age_2020)\n",
    "print(\"t value: \", t_val, \"p value: \", p_val)\n",
    "if p_val < 0.01:\n",
    "    print('Test for dog accomplished, there is a significant difference in age from 2019 to 2020!')\n",
    "else:\n",
    "    print('Test for dog accomplished, there is NOT a significant difference in age from 2019 to 2020!')"
   ]
  },
  {
   "cell_type": "code",
   "execution_count": 54,
   "metadata": {},
   "outputs": [
    {
     "name": "stdout",
     "output_type": "stream",
     "text": [
      "t value:  0.7400401591818457 p value:  0.45928941088305664\n",
      "Test for cat accomplished, there is NOT a significant difference in age from 2019 to 2020!\n"
     ]
    }
   ],
   "source": [
    "# Test for cat\n",
    "from scipy.stats import ttest_ind, chisquare, normaltest\n",
    "\n",
    "t_val, p_val = stats.ttest_ind(cat_age_2019, cat_age_2020)\n",
    "print(\"t value: \", t_val, \"p value: \", p_val)\n",
    "if p_val < 0.01:\n",
    "    print('Test for cat accomplished, there is a significant difference in age from 2019 to 2020!')\n",
    "else:\n",
    "    print('Test for cat accomplished, there is NOT a significant difference in age from 2019 to 2020!')"
   ]
  },
  {
   "cell_type": "markdown",
   "metadata": {},
   "source": [
    "# Combine three Datasets in California regions"
   ]
  },
  {
   "cell_type": "markdown",
   "metadata": {},
   "source": [
    "After looking at the sample datasets in all six regions in the U.S., We put our focus on the regions in California only, which is Long Beach Region, Sonoma Region, and Sacramento Region."
   ]
  },
  {
   "cell_type": "code",
   "execution_count": 55,
   "metadata": {},
   "outputs": [],
   "source": [
    "# Combining dataset from three regions in California\n",
    "california_2019 = pd.concat([longbeach_2019, sonoma_2019, sacramento_2019], ignore_index=True)\n",
    "california_2020 = pd.concat([longbeach_2020, sonoma_2020, sacramento_2020], ignore_index=True)\n",
    "california_2019['Type'] = california_2019['Type'].str.upper()\n",
    "california_2020['Type'] = california_2020['Type'].str.upper()\n",
    "california_total = pd.concat([california_2019, california_2020], ignore_index=True)\n",
    "# Drop Unknown from Sex columns\n",
    "california_total = california_total[california_total['Sex']!='Unknown']"
   ]
  },
  {
   "cell_type": "code",
   "execution_count": 56,
   "metadata": {},
   "outputs": [
    {
     "data": {
      "text/html": [
       "<div>\n",
       "<style scoped>\n",
       "    .dataframe tbody tr th:only-of-type {\n",
       "        vertical-align: middle;\n",
       "    }\n",
       "\n",
       "    .dataframe tbody tr th {\n",
       "        vertical-align: top;\n",
       "    }\n",
       "\n",
       "    .dataframe thead th {\n",
       "        text-align: right;\n",
       "    }\n",
       "</style>\n",
       "<table border=\"1\" class=\"dataframe\">\n",
       "  <thead>\n",
       "    <tr style=\"text-align: right;\">\n",
       "      <th></th>\n",
       "      <th>Date</th>\n",
       "      <th>Type</th>\n",
       "      <th>Sex</th>\n",
       "      <th>Age</th>\n",
       "      <th>year</th>\n",
       "    </tr>\n",
       "  </thead>\n",
       "  <tbody>\n",
       "    <tr>\n",
       "      <th>0</th>\n",
       "      <td>2019-01-02 00:00:00</td>\n",
       "      <td>RABBIT</td>\n",
       "      <td>Neutered</td>\n",
       "      <td>5.0</td>\n",
       "      <td>2019</td>\n",
       "    </tr>\n",
       "    <tr>\n",
       "      <th>1</th>\n",
       "      <td>2019-01-02 00:00:00</td>\n",
       "      <td>DOG</td>\n",
       "      <td>Spayed</td>\n",
       "      <td>12.0</td>\n",
       "      <td>2019</td>\n",
       "    </tr>\n",
       "    <tr>\n",
       "      <th>2</th>\n",
       "      <td>2019-01-03 00:00:00</td>\n",
       "      <td>DOG</td>\n",
       "      <td>Male</td>\n",
       "      <td>4.0</td>\n",
       "      <td>2019</td>\n",
       "    </tr>\n",
       "    <tr>\n",
       "      <th>3</th>\n",
       "      <td>2019-01-03 00:00:00</td>\n",
       "      <td>CAT</td>\n",
       "      <td>Neutered</td>\n",
       "      <td>4.0</td>\n",
       "      <td>2019</td>\n",
       "    </tr>\n",
       "    <tr>\n",
       "      <th>4</th>\n",
       "      <td>2019-01-03 00:00:00</td>\n",
       "      <td>CAT</td>\n",
       "      <td>Neutered</td>\n",
       "      <td>5.0</td>\n",
       "      <td>2019</td>\n",
       "    </tr>\n",
       "    <tr>\n",
       "      <th>...</th>\n",
       "      <td>...</td>\n",
       "      <td>...</td>\n",
       "      <td>...</td>\n",
       "      <td>...</td>\n",
       "      <td>...</td>\n",
       "    </tr>\n",
       "    <tr>\n",
       "      <th>6367</th>\n",
       "      <td>2020-03-15</td>\n",
       "      <td>DOG</td>\n",
       "      <td>Spayed</td>\n",
       "      <td>3.0</td>\n",
       "      <td>2020</td>\n",
       "    </tr>\n",
       "    <tr>\n",
       "      <th>6368</th>\n",
       "      <td>2020-01-19</td>\n",
       "      <td>DOG</td>\n",
       "      <td>Spayed</td>\n",
       "      <td>6.0</td>\n",
       "      <td>2020</td>\n",
       "    </tr>\n",
       "    <tr>\n",
       "      <th>6369</th>\n",
       "      <td>2020-01-10</td>\n",
       "      <td>DOG</td>\n",
       "      <td>Spayed</td>\n",
       "      <td>6.0</td>\n",
       "      <td>2020</td>\n",
       "    </tr>\n",
       "    <tr>\n",
       "      <th>6370</th>\n",
       "      <td>2020-03-10</td>\n",
       "      <td>DOG</td>\n",
       "      <td>Neutered</td>\n",
       "      <td>3.0</td>\n",
       "      <td>2020</td>\n",
       "    </tr>\n",
       "    <tr>\n",
       "      <th>6371</th>\n",
       "      <td>2020-12-23</td>\n",
       "      <td>DOG</td>\n",
       "      <td>Neutered</td>\n",
       "      <td>3.0</td>\n",
       "      <td>2020</td>\n",
       "    </tr>\n",
       "  </tbody>\n",
       "</table>\n",
       "<p>6370 rows × 5 columns</p>\n",
       "</div>"
      ],
      "text/plain": [
       "                     Date    Type       Sex   Age  year\n",
       "0     2019-01-02 00:00:00  RABBIT  Neutered   5.0  2019\n",
       "1     2019-01-02 00:00:00     DOG    Spayed  12.0  2019\n",
       "2     2019-01-03 00:00:00     DOG      Male   4.0  2019\n",
       "3     2019-01-03 00:00:00     CAT  Neutered   4.0  2019\n",
       "4     2019-01-03 00:00:00     CAT  Neutered   5.0  2019\n",
       "...                   ...     ...       ...   ...   ...\n",
       "6367           2020-03-15     DOG    Spayed   3.0  2020\n",
       "6368           2020-01-19     DOG    Spayed   6.0  2020\n",
       "6369           2020-01-10     DOG    Spayed   6.0  2020\n",
       "6370           2020-03-10     DOG  Neutered   3.0  2020\n",
       "6371           2020-12-23     DOG  Neutered   3.0  2020\n",
       "\n",
       "[6370 rows x 5 columns]"
      ]
     },
     "execution_count": 56,
     "metadata": {},
     "output_type": "execute_result"
    }
   ],
   "source": [
    "california_total"
   ]
  },
  {
   "cell_type": "code",
   "execution_count": 57,
   "metadata": {},
   "outputs": [
    {
     "data": {
      "text/html": [
       "<div>\n",
       "<style scoped>\n",
       "    .dataframe tbody tr th:only-of-type {\n",
       "        vertical-align: middle;\n",
       "    }\n",
       "\n",
       "    .dataframe tbody tr th {\n",
       "        vertical-align: top;\n",
       "    }\n",
       "\n",
       "    .dataframe thead th {\n",
       "        text-align: right;\n",
       "    }\n",
       "</style>\n",
       "<table border=\"1\" class=\"dataframe\">\n",
       "  <thead>\n",
       "    <tr style=\"text-align: right;\">\n",
       "      <th></th>\n",
       "      <th>year</th>\n",
       "      <th>Type</th>\n",
       "      <th>Proportion of Adoption</th>\n",
       "    </tr>\n",
       "  </thead>\n",
       "  <tbody>\n",
       "    <tr>\n",
       "      <th>0</th>\n",
       "      <td>2019</td>\n",
       "      <td>CAT</td>\n",
       "      <td>0.615842</td>\n",
       "    </tr>\n",
       "    <tr>\n",
       "      <th>1</th>\n",
       "      <td>2019</td>\n",
       "      <td>DOG</td>\n",
       "      <td>0.384158</td>\n",
       "    </tr>\n",
       "    <tr>\n",
       "      <th>2</th>\n",
       "      <td>2020</td>\n",
       "      <td>CAT</td>\n",
       "      <td>0.518667</td>\n",
       "    </tr>\n",
       "    <tr>\n",
       "      <th>3</th>\n",
       "      <td>2020</td>\n",
       "      <td>DOG</td>\n",
       "      <td>0.481333</td>\n",
       "    </tr>\n",
       "  </tbody>\n",
       "</table>\n",
       "</div>"
      ],
      "text/plain": [
       "   year Type  Proportion of Adoption\n",
       "0  2019  CAT                0.615842\n",
       "1  2019  DOG                0.384158\n",
       "2  2020  CAT                0.518667\n",
       "3  2020  DOG                0.481333"
      ]
     },
     "execution_count": 57,
     "metadata": {},
     "output_type": "execute_result"
    }
   ],
   "source": [
    "california_catdog = california_total.loc[(california_total['Type']=='CAT')|(california_total['Type']=='DOG')]\n",
    "ca_prop_df = california_catdog.groupby(['year'])['Type'].value_counts(normalize=True).rename(\"Proportion of Adoption\").reset_index()\n",
    "ca_prop_df.head()"
   ]
  },
  {
   "cell_type": "code",
   "execution_count": 58,
   "metadata": {},
   "outputs": [],
   "source": [
    "california_total['Type'].unique()\n",
    "order_california = [ 'DOG', 'CAT', 'RABBIT','GUINEA PIG', 'LIVESTOCK', 'BIRD','RODENT']"
   ]
  },
  {
   "cell_type": "code",
   "execution_count": 59,
   "metadata": {},
   "outputs": [
    {
     "data": {
      "text/plain": [
       "<matplotlib.legend.Legend at 0x7ff340861430>"
      ]
     },
     "execution_count": 59,
     "metadata": {},
     "output_type": "execute_result"
    },
    {
     "data": {
      "image/png": "[encoded data removed]",
      "text/plain": [
       "<Figure size 986.4x595.44 with 1 Axes>"
      ]
     },
     "metadata": {},
     "output_type": "display_data"
    }
   ],
   "source": [
    "sns.countplot(data = california_total, x = 'Type', hue = 'year',order = order_california)\n",
    "plt.legend(loc = 'upper right')"
   ]
  },
  {
   "cell_type": "code",
   "execution_count": 60,
   "metadata": {},
   "outputs": [
    {
     "data": {
      "image/png": "[encoded data removed]",
      "text/plain": [
       "<Figure size 1440x720 with 2 Axes>"
      ]
     },
     "metadata": {},
     "output_type": "display_data"
    }
   ],
   "source": [
    "# Sex by type in 2019 vs 2020 in California\n",
    "fig, axes = plt.subplots(1, 2, sharex=True, figsize=(20,10))\n",
    "ax1 = sns.countplot(data = california_2019, x = 'Type',hue = 'Sex', ax = axes[0], order=order_california)\n",
    "ax2 = sns.countplot(data = california_2020, x = 'Type',hue = 'Sex', ax = axes[1], order=order_california)\n",
    "ax1.title.set_text('Sex related to Types in 2019 in California')\n",
    "ax2.title.set_text('Sex related to Types in 2020 in California')"
   ]
  },
  {
   "cell_type": "code",
   "execution_count": 61,
   "metadata": {},
   "outputs": [
    {
     "data": {
      "text/plain": [
       "30.63"
      ]
     },
     "execution_count": 61,
     "metadata": {},
     "output_type": "execute_result"
    }
   ],
   "source": [
    "california_total['Age'].max()"
   ]
  },
  {
   "cell_type": "code",
   "execution_count": 62,
   "metadata": {},
   "outputs": [
    {
     "data": {
      "text/plain": [
       "([<matplotlib.axis.XTick at 0x7ff34344a3d0>,\n",
       "  <matplotlib.axis.XTick at 0x7ff34344a250>,\n",
       "  <matplotlib.axis.XTick at 0x7ff33f5d75e0>,\n",
       "  <matplotlib.axis.XTick at 0x7ff33ed513d0>,\n",
       "  <matplotlib.axis.XTick at 0x7ff33ed510d0>,\n",
       "  <matplotlib.axis.XTick at 0x7ff33ed630a0>],\n",
       " [Text(0, 0, ''),\n",
       "  Text(0, 0, ''),\n",
       "  Text(0, 0, ''),\n",
       "  Text(0, 0, ''),\n",
       "  Text(0, 0, ''),\n",
       "  Text(0, 0, '')])"
      ]
     },
     "execution_count": 62,
     "metadata": {},
     "output_type": "execute_result"
    },
    {
     "data": {
      "image/png": "[encoded data removed]",
      "text/plain": [
       "<Figure size 1440x720 with 2 Axes>"
      ]
     },
     "metadata": {},
     "output_type": "display_data"
    }
   ],
   "source": [
    "fig, axes = plt.subplots(2, 1, sharex=True, figsize=(20,10))\n",
    "ax1 = sns.histplot(data = california_2019, x = 'Age',hue = 'Type', ax = axes[0],hue_order=order_california)\n",
    "ax2 = sns.histplot(data = california_2020, x = 'Age',hue = 'Type', ax = axes[1],hue_order=order_california)\n",
    "ax1.title.set_text('Age related to Types in 2019 in California')\n",
    "ax2.title.set_text('Age related to Types in 2020 in California')\n",
    "plt.xticks(range(6))"
   ]
  },
  {
   "cell_type": "code",
   "execution_count": 63,
   "metadata": {},
   "outputs": [
    {
     "data": {
      "image/png": "[encoded data removed]",
      "text/plain": [
       "<Figure size 2880x720 with 1 Axes>"
      ]
     },
     "metadata": {},
     "output_type": "display_data"
    }
   ],
   "source": [
    "fig, axes = plt.subplots(figsize=(40,10))\n",
    "Age_california = sns.barplot(x=\"Type\", y=\"Age\", hue=\"year\", data=california_total, order = order_california)"
   ]
  },
  {
   "cell_type": "code",
   "execution_count": 64,
   "metadata": {},
   "outputs": [
    {
     "name": "stdout",
     "output_type": "stream",
     "text": [
      "Overall Change of Total Adoption Number From 2019 to 2020: 45.38 %\n",
      "Change of Adoption Number by Type:\n",
      "Adoption number of RABBIT from 2019 to 2020 changed by -73.58 %\n",
      "Adoption number of DOG from 2019 to 2020 changed by 86.08 %\n",
      "Adoption number of CAT from 2019 to 2020 changed by 25.08 %\n",
      "Adoption number of GUINEA PIG from 2019 to 2020 changed by -60.0 %\n",
      "Adoption number of LIVESTOCK from 2019 to 2020 changed by -66.67 %\n",
      "Adoption number of BIRD from 2019 to 2020 changed by 600.0 %\n",
      "Adoption number of RODENT from 2019 to 2020 changed by -100.0 %\n"
     ]
    }
   ],
   "source": [
    "overall_adoption_change(california_total)"
   ]
  },
  {
   "cell_type": "code",
   "execution_count": 65,
   "metadata": {},
   "outputs": [
    {
     "data": {
      "text/html": [
       "<div>\n",
       "<style scoped>\n",
       "    .dataframe tbody tr th:only-of-type {\n",
       "        vertical-align: middle;\n",
       "    }\n",
       "\n",
       "    .dataframe tbody tr th {\n",
       "        vertical-align: top;\n",
       "    }\n",
       "\n",
       "    .dataframe thead th {\n",
       "        text-align: right;\n",
       "    }\n",
       "</style>\n",
       "<table border=\"1\" class=\"dataframe\">\n",
       "  <thead>\n",
       "    <tr style=\"text-align: right;\">\n",
       "      <th></th>\n",
       "      <th>year</th>\n",
       "      <th>Type</th>\n",
       "      <th>Proportion of Adoption</th>\n",
       "    </tr>\n",
       "  </thead>\n",
       "  <tbody>\n",
       "    <tr>\n",
       "      <th>0</th>\n",
       "      <td>2019</td>\n",
       "      <td>CAT</td>\n",
       "      <td>0.598998</td>\n",
       "    </tr>\n",
       "    <tr>\n",
       "      <th>1</th>\n",
       "      <td>2019</td>\n",
       "      <td>DOG</td>\n",
       "      <td>0.373652</td>\n",
       "    </tr>\n",
       "    <tr>\n",
       "      <th>2</th>\n",
       "      <td>2019</td>\n",
       "      <td>RABBIT</td>\n",
       "      <td>0.020416</td>\n",
       "    </tr>\n",
       "    <tr>\n",
       "      <th>3</th>\n",
       "      <td>2019</td>\n",
       "      <td>RODENT</td>\n",
       "      <td>0.003467</td>\n",
       "    </tr>\n",
       "    <tr>\n",
       "      <th>4</th>\n",
       "      <td>2019</td>\n",
       "      <td>GUINEA PIG</td>\n",
       "      <td>0.001926</td>\n",
       "    </tr>\n",
       "    <tr>\n",
       "      <th>5</th>\n",
       "      <td>2019</td>\n",
       "      <td>LIVESTOCK</td>\n",
       "      <td>0.001156</td>\n",
       "    </tr>\n",
       "    <tr>\n",
       "      <th>6</th>\n",
       "      <td>2019</td>\n",
       "      <td>BIRD</td>\n",
       "      <td>0.000385</td>\n",
       "    </tr>\n",
       "    <tr>\n",
       "      <th>7</th>\n",
       "      <td>2020</td>\n",
       "      <td>CAT</td>\n",
       "      <td>0.515368</td>\n",
       "    </tr>\n",
       "    <tr>\n",
       "      <th>8</th>\n",
       "      <td>2020</td>\n",
       "      <td>DOG</td>\n",
       "      <td>0.478272</td>\n",
       "    </tr>\n",
       "    <tr>\n",
       "      <th>9</th>\n",
       "      <td>2020</td>\n",
       "      <td>RABBIT</td>\n",
       "      <td>0.003710</td>\n",
       "    </tr>\n",
       "    <tr>\n",
       "      <th>10</th>\n",
       "      <td>2020</td>\n",
       "      <td>BIRD</td>\n",
       "      <td>0.001855</td>\n",
       "    </tr>\n",
       "    <tr>\n",
       "      <th>11</th>\n",
       "      <td>2020</td>\n",
       "      <td>GUINEA PIG</td>\n",
       "      <td>0.000530</td>\n",
       "    </tr>\n",
       "    <tr>\n",
       "      <th>12</th>\n",
       "      <td>2020</td>\n",
       "      <td>LIVESTOCK</td>\n",
       "      <td>0.000265</td>\n",
       "    </tr>\n",
       "  </tbody>\n",
       "</table>\n",
       "</div>"
      ],
      "text/plain": [
       "    year        Type  Proportion of Adoption\n",
       "0   2019         CAT                0.598998\n",
       "1   2019         DOG                0.373652\n",
       "2   2019      RABBIT                0.020416\n",
       "3   2019      RODENT                0.003467\n",
       "4   2019  GUINEA PIG                0.001926\n",
       "5   2019   LIVESTOCK                0.001156\n",
       "6   2019        BIRD                0.000385\n",
       "7   2020         CAT                0.515368\n",
       "8   2020         DOG                0.478272\n",
       "9   2020      RABBIT                0.003710\n",
       "10  2020        BIRD                0.001855\n",
       "11  2020  GUINEA PIG                0.000530\n",
       "12  2020   LIVESTOCK                0.000265"
      ]
     },
     "execution_count": 65,
     "metadata": {},
     "output_type": "execute_result"
    }
   ],
   "source": [
    "california_prop = california_total.groupby(['year'])['Type'].value_counts(normalize=True).rename(\"Proportion of Adoption\").reset_index()\n",
    "california_prop"
   ]
  },
  {
   "cell_type": "code",
   "execution_count": 66,
   "metadata": {},
   "outputs": [
    {
     "data": {
      "image/png": "[encoded data removed]",
      "text/plain": [
       "<Figure size 986.4x595.44 with 1 Axes>"
      ]
     },
     "metadata": {},
     "output_type": "display_data"
    }
   ],
   "source": [
    "sns.set(rc={'figure.figsize':(13.7,8.27)})\n",
    "plot_proportion = sns.barplot(x=\"Type\", y=\"Proportion of Adoption\", hue=\"year\", data=california_prop,order = order_california)"
   ]
  },
  {
   "cell_type": "code",
   "execution_count": 67,
   "metadata": {},
   "outputs": [
    {
     "data": {
      "text/html": [
       "<div>\n",
       "<style scoped>\n",
       "    .dataframe tbody tr th:only-of-type {\n",
       "        vertical-align: middle;\n",
       "    }\n",
       "\n",
       "    .dataframe tbody tr th {\n",
       "        vertical-align: top;\n",
       "    }\n",
       "\n",
       "    .dataframe thead th {\n",
       "        text-align: right;\n",
       "    }\n",
       "</style>\n",
       "<table border=\"1\" class=\"dataframe\">\n",
       "  <thead>\n",
       "    <tr style=\"text-align: right;\">\n",
       "      <th></th>\n",
       "      <th>year</th>\n",
       "      <th>Type</th>\n",
       "      <th>Proportion of Adoption</th>\n",
       "    </tr>\n",
       "  </thead>\n",
       "  <tbody>\n",
       "    <tr>\n",
       "      <th>0</th>\n",
       "      <td>2019</td>\n",
       "      <td>CAT</td>\n",
       "      <td>0.615842</td>\n",
       "    </tr>\n",
       "    <tr>\n",
       "      <th>1</th>\n",
       "      <td>2019</td>\n",
       "      <td>DOG</td>\n",
       "      <td>0.384158</td>\n",
       "    </tr>\n",
       "    <tr>\n",
       "      <th>2</th>\n",
       "      <td>2020</td>\n",
       "      <td>CAT</td>\n",
       "      <td>0.518667</td>\n",
       "    </tr>\n",
       "    <tr>\n",
       "      <th>3</th>\n",
       "      <td>2020</td>\n",
       "      <td>DOG</td>\n",
       "      <td>0.481333</td>\n",
       "    </tr>\n",
       "  </tbody>\n",
       "</table>\n",
       "</div>"
      ],
      "text/plain": [
       "   year Type  Proportion of Adoption\n",
       "0  2019  CAT                0.615842\n",
       "1  2019  DOG                0.384158\n",
       "2  2020  CAT                0.518667\n",
       "3  2020  DOG                0.481333"
      ]
     },
     "execution_count": 67,
     "metadata": {},
     "output_type": "execute_result"
    }
   ],
   "source": [
    "california_dogcat = california_total[(california_total['Type']=='DOG') | (california_total['Type']=='CAT')]\n",
    "cali_prop_df = california_dogcat.groupby(['year'])['Type'].value_counts(normalize=True).rename(\"Proportion of Adoption\").reset_index()\n",
    "cali_prop_df.head()"
   ]
  },
  {
   "cell_type": "code",
   "execution_count": 68,
   "metadata": {},
   "outputs": [
    {
     "data": {
      "image/png": "[encoded data removed]",
      "text/plain": [
       "<Figure size 986.4x595.44 with 1 Axes>"
      ]
     },
     "metadata": {},
     "output_type": "display_data"
    }
   ],
   "source": [
    "cali_plot_proportion = sns.barplot(x=\"Type\", y=\"Proportion of Adoption\", hue=\"year\", data=cali_prop_df,order = ['DOG','CAT'])"
   ]
  },
  {
   "cell_type": "code",
   "execution_count": 69,
   "metadata": {},
   "outputs": [
    {
     "data": {
      "text/html": [
       "<div>\n",
       "<style scoped>\n",
       "    .dataframe tbody tr th:only-of-type {\n",
       "        vertical-align: middle;\n",
       "    }\n",
       "\n",
       "    .dataframe tbody tr th {\n",
       "        vertical-align: top;\n",
       "    }\n",
       "\n",
       "    .dataframe thead th {\n",
       "        text-align: right;\n",
       "    }\n",
       "</style>\n",
       "<table border=\"1\" class=\"dataframe\">\n",
       "  <thead>\n",
       "    <tr style=\"text-align: right;\">\n",
       "      <th></th>\n",
       "      <th>year</th>\n",
       "      <th>Sex</th>\n",
       "      <th>Sex Proportion of Dog</th>\n",
       "    </tr>\n",
       "  </thead>\n",
       "  <tbody>\n",
       "    <tr>\n",
       "      <th>0</th>\n",
       "      <td>2019</td>\n",
       "      <td>Neutered</td>\n",
       "      <td>0.448992</td>\n",
       "    </tr>\n",
       "    <tr>\n",
       "      <th>1</th>\n",
       "      <td>2019</td>\n",
       "      <td>Spayed</td>\n",
       "      <td>0.415976</td>\n",
       "    </tr>\n",
       "    <tr>\n",
       "      <th>2</th>\n",
       "      <td>2019</td>\n",
       "      <td>Male</td>\n",
       "      <td>0.070607</td>\n",
       "    </tr>\n",
       "    <tr>\n",
       "      <th>3</th>\n",
       "      <td>2019</td>\n",
       "      <td>Female</td>\n",
       "      <td>0.064424</td>\n",
       "    </tr>\n",
       "    <tr>\n",
       "      <th>4</th>\n",
       "      <td>2020</td>\n",
       "      <td>Neutered</td>\n",
       "      <td>0.461827</td>\n",
       "    </tr>\n",
       "    <tr>\n",
       "      <th>5</th>\n",
       "      <td>2020</td>\n",
       "      <td>Spayed</td>\n",
       "      <td>0.420621</td>\n",
       "    </tr>\n",
       "    <tr>\n",
       "      <th>6</th>\n",
       "      <td>2020</td>\n",
       "      <td>Male</td>\n",
       "      <td>0.060649</td>\n",
       "    </tr>\n",
       "    <tr>\n",
       "      <th>7</th>\n",
       "      <td>2020</td>\n",
       "      <td>Female</td>\n",
       "      <td>0.056903</td>\n",
       "    </tr>\n",
       "  </tbody>\n",
       "</table>\n",
       "</div>"
      ],
      "text/plain": [
       "   year       Sex  Sex Proportion of Dog\n",
       "0  2019  Neutered               0.448992\n",
       "1  2019    Spayed               0.415976\n",
       "2  2019      Male               0.070607\n",
       "3  2019    Female               0.064424\n",
       "4  2020  Neutered               0.461827\n",
       "5  2020    Spayed               0.420621\n",
       "6  2020      Male               0.060649\n",
       "7  2020    Female               0.056903"
      ]
     },
     "execution_count": 69,
     "metadata": {},
     "output_type": "execute_result"
    }
   ],
   "source": [
    "cali_dog_data = california_total[california_total['Type']=='DOG']\n",
    "cali_dog_prop = dog_data.groupby(['year'])['Sex'].value_counts(normalize=True).rename(\"Sex Proportion of Dog\").reset_index()\n",
    "cali_dog_prop"
   ]
  },
  {
   "cell_type": "code",
   "execution_count": 70,
   "metadata": {},
   "outputs": [
    {
     "data": {
      "image/png": "[encoded data removed]",
      "text/plain": [
       "<Figure size 986.4x595.44 with 1 Axes>"
      ]
     },
     "metadata": {},
     "output_type": "display_data"
    }
   ],
   "source": [
    "cali_dog_plot_proportion = sns.barplot(x=\"Sex\", y=\"Sex Proportion of Dog\", hue=\"year\", data=cali_dog_prop)"
   ]
  },
  {
   "cell_type": "code",
   "execution_count": 71,
   "metadata": {},
   "outputs": [
    {
     "data": {
      "text/html": [
       "<div>\n",
       "<style scoped>\n",
       "    .dataframe tbody tr th:only-of-type {\n",
       "        vertical-align: middle;\n",
       "    }\n",
       "\n",
       "    .dataframe tbody tr th {\n",
       "        vertical-align: top;\n",
       "    }\n",
       "\n",
       "    .dataframe thead th {\n",
       "        text-align: right;\n",
       "    }\n",
       "</style>\n",
       "<table border=\"1\" class=\"dataframe\">\n",
       "  <thead>\n",
       "    <tr style=\"text-align: right;\">\n",
       "      <th></th>\n",
       "      <th>year</th>\n",
       "      <th>Sex</th>\n",
       "      <th>Sex Proportion of Cat</th>\n",
       "    </tr>\n",
       "  </thead>\n",
       "  <tbody>\n",
       "    <tr>\n",
       "      <th>0</th>\n",
       "      <td>2019</td>\n",
       "      <td>Neutered</td>\n",
       "      <td>0.469453</td>\n",
       "    </tr>\n",
       "    <tr>\n",
       "      <th>1</th>\n",
       "      <td>2019</td>\n",
       "      <td>Spayed</td>\n",
       "      <td>0.452090</td>\n",
       "    </tr>\n",
       "    <tr>\n",
       "      <th>2</th>\n",
       "      <td>2019</td>\n",
       "      <td>Female</td>\n",
       "      <td>0.045659</td>\n",
       "    </tr>\n",
       "    <tr>\n",
       "      <th>3</th>\n",
       "      <td>2019</td>\n",
       "      <td>Male</td>\n",
       "      <td>0.032797</td>\n",
       "    </tr>\n",
       "    <tr>\n",
       "      <th>4</th>\n",
       "      <td>2020</td>\n",
       "      <td>Spayed</td>\n",
       "      <td>0.494602</td>\n",
       "    </tr>\n",
       "    <tr>\n",
       "      <th>5</th>\n",
       "      <td>2020</td>\n",
       "      <td>Neutered</td>\n",
       "      <td>0.480720</td>\n",
       "    </tr>\n",
       "    <tr>\n",
       "      <th>6</th>\n",
       "      <td>2020</td>\n",
       "      <td>Male</td>\n",
       "      <td>0.012853</td>\n",
       "    </tr>\n",
       "    <tr>\n",
       "      <th>7</th>\n",
       "      <td>2020</td>\n",
       "      <td>Female</td>\n",
       "      <td>0.011825</td>\n",
       "    </tr>\n",
       "  </tbody>\n",
       "</table>\n",
       "</div>"
      ],
      "text/plain": [
       "   year       Sex  Sex Proportion of Cat\n",
       "0  2019  Neutered               0.469453\n",
       "1  2019    Spayed               0.452090\n",
       "2  2019    Female               0.045659\n",
       "3  2019      Male               0.032797\n",
       "4  2020    Spayed               0.494602\n",
       "5  2020  Neutered               0.480720\n",
       "6  2020      Male               0.012853\n",
       "7  2020    Female               0.011825"
      ]
     },
     "execution_count": 71,
     "metadata": {},
     "output_type": "execute_result"
    }
   ],
   "source": [
    "cali_cat_data = california_total[california_total['Type']=='CAT']\n",
    "cali_cat_prop = cali_cat_data.groupby(['year'])['Sex'].value_counts(normalize=True).rename(\"Sex Proportion of Cat\").reset_index()\n",
    "cali_cat_prop"
   ]
  },
  {
   "cell_type": "code",
   "execution_count": 72,
   "metadata": {},
   "outputs": [
    {
     "data": {
      "image/png": "[encoded data removed]",
      "text/plain": [
       "<Figure size 986.4x595.44 with 1 Axes>"
      ]
     },
     "metadata": {},
     "output_type": "display_data"
    }
   ],
   "source": [
    "cali_cat_plot_proportion = sns.barplot(x=\"Sex\", y=\"Sex Proportion of Cat\", hue=\"year\", data=cali_cat_prop)"
   ]
  },
  {
   "cell_type": "code",
   "execution_count": 73,
   "metadata": {},
   "outputs": [
    {
     "data": {
      "text/html": [
       "<div>\n",
       "<style scoped>\n",
       "    .dataframe tbody tr th:only-of-type {\n",
       "        vertical-align: middle;\n",
       "    }\n",
       "\n",
       "    .dataframe tbody tr th {\n",
       "        vertical-align: top;\n",
       "    }\n",
       "\n",
       "    .dataframe thead th {\n",
       "        text-align: right;\n",
       "    }\n",
       "</style>\n",
       "<table border=\"1\" class=\"dataframe\">\n",
       "  <thead>\n",
       "    <tr style=\"text-align: right;\">\n",
       "      <th></th>\n",
       "      <th>year</th>\n",
       "      <th>Type</th>\n",
       "      <th>Mean Age</th>\n",
       "    </tr>\n",
       "  </thead>\n",
       "  <tbody>\n",
       "    <tr>\n",
       "      <th>0</th>\n",
       "      <td>2019</td>\n",
       "      <td>DOG</td>\n",
       "      <td>5.015959</td>\n",
       "    </tr>\n",
       "    <tr>\n",
       "      <th>1</th>\n",
       "      <td>2020</td>\n",
       "      <td>CAT</td>\n",
       "      <td>3.148178</td>\n",
       "    </tr>\n",
       "    <tr>\n",
       "      <th>2</th>\n",
       "      <td>2019</td>\n",
       "      <td>DOG</td>\n",
       "      <td>4.700206</td>\n",
       "    </tr>\n",
       "    <tr>\n",
       "      <th>3</th>\n",
       "      <td>2020</td>\n",
       "      <td>CAT</td>\n",
       "      <td>2.622206</td>\n",
       "    </tr>\n",
       "  </tbody>\n",
       "</table>\n",
       "</div>"
      ],
      "text/plain": [
       "   year Type  Mean Age\n",
       "0  2019  DOG  5.015959\n",
       "1  2020  CAT  3.148178\n",
       "2  2019  DOG  4.700206\n",
       "3  2020  CAT  2.622206"
      ]
     },
     "execution_count": 73,
     "metadata": {},
     "output_type": "execute_result"
    }
   ],
   "source": [
    "cali_cat_age_2019 =  cali_cat_data[cali_cat_data['year']==2019]['Age'].describe()[1]\n",
    "cali_dog_age_2019 =  cali_dog_data[cali_dog_data['year']==2019]['Age'].describe()[1]\n",
    "cali_cat_age_2020 =  cali_cat_data[cali_cat_data['year']==2020]['Age'].describe()[1]\n",
    "cali_dog_age_2020 =  cali_dog_data[cali_dog_data['year']==2020]['Age'].describe()[1]\n",
    "\n",
    "cali_stats = {'year': [2019, 2020, 2019, 2020], 'Type': ['DOG','CAT','DOG','CAT'], 'Mean Age': [cali_dog_age_2019,cali_cat_age_2019,cali_dog_age_2020,cali_cat_age_2020]}\n",
    "cali_age_comp = pd.DataFrame(data=cali_stats)\n",
    "cali_age_comp"
   ]
  },
  {
   "cell_type": "markdown",
   "metadata": {},
   "source": [
    "# Statistical inference in California"
   ]
  },
  {
   "cell_type": "code",
   "execution_count": 74,
   "metadata": {},
   "outputs": [],
   "source": [
    "# Combining dataset from three regions\n",
    "california_2019 = pd.concat([longbeach_2019, sonoma_2019, sacramento_2019], ignore_index=True)\n",
    "california_2020 = pd.concat([longbeach_2020, sonoma_2020, sacramento_2020], ignore_index=True)\n",
    "california_2019['Type'] = california_2019['Type'].str.upper()\n",
    "california_2020['Type'] = california_2020['Type'].str.upper()\n",
    "california_total = pd.concat([california_2019, california_2020], ignore_index=True)\n",
    "# Drop Unknown from Sex columns\n",
    "california_total = california_total[california_total['Sex']!='Unknown']"
   ]
  },
  {
   "cell_type": "code",
   "execution_count": 75,
   "metadata": {},
   "outputs": [
    {
     "data": {
      "text/html": [
       "<div>\n",
       "<style scoped>\n",
       "    .dataframe tbody tr th:only-of-type {\n",
       "        vertical-align: middle;\n",
       "    }\n",
       "\n",
       "    .dataframe tbody tr th {\n",
       "        vertical-align: top;\n",
       "    }\n",
       "\n",
       "    .dataframe thead th {\n",
       "        text-align: right;\n",
       "    }\n",
       "</style>\n",
       "<table border=\"1\" class=\"dataframe\">\n",
       "  <thead>\n",
       "    <tr style=\"text-align: right;\">\n",
       "      <th></th>\n",
       "      <th>year</th>\n",
       "      <th>Type</th>\n",
       "      <th>Proportion of Adoption</th>\n",
       "    </tr>\n",
       "  </thead>\n",
       "  <tbody>\n",
       "    <tr>\n",
       "      <th>0</th>\n",
       "      <td>2019</td>\n",
       "      <td>CAT</td>\n",
       "      <td>0.615842</td>\n",
       "    </tr>\n",
       "    <tr>\n",
       "      <th>1</th>\n",
       "      <td>2019</td>\n",
       "      <td>DOG</td>\n",
       "      <td>0.384158</td>\n",
       "    </tr>\n",
       "    <tr>\n",
       "      <th>2</th>\n",
       "      <td>2020</td>\n",
       "      <td>CAT</td>\n",
       "      <td>0.518667</td>\n",
       "    </tr>\n",
       "    <tr>\n",
       "      <th>3</th>\n",
       "      <td>2020</td>\n",
       "      <td>DOG</td>\n",
       "      <td>0.481333</td>\n",
       "    </tr>\n",
       "  </tbody>\n",
       "</table>\n",
       "</div>"
      ],
      "text/plain": [
       "   year Type  Proportion of Adoption\n",
       "0  2019  CAT                0.615842\n",
       "1  2019  DOG                0.384158\n",
       "2  2020  CAT                0.518667\n",
       "3  2020  DOG                0.481333"
      ]
     },
     "execution_count": 75,
     "metadata": {},
     "output_type": "execute_result"
    }
   ],
   "source": [
    "california_dogcat = california_total[(california_total['Type']=='DOG') | (california_total['Type']=='CAT')]\n",
    "prop_df = california_dogcat.groupby(['year'])['Type'].value_counts(normalize=True).rename(\"Proportion of Adoption\").reset_index()\n",
    "prop_df.head()"
   ]
  },
  {
   "cell_type": "code",
   "execution_count": 76,
   "metadata": {},
   "outputs": [
    {
     "data": {
      "text/html": [
       "<div>\n",
       "<style scoped>\n",
       "    .dataframe tbody tr th:only-of-type {\n",
       "        vertical-align: middle;\n",
       "    }\n",
       "\n",
       "    .dataframe tbody tr th {\n",
       "        vertical-align: top;\n",
       "    }\n",
       "\n",
       "    .dataframe thead th {\n",
       "        text-align: right;\n",
       "    }\n",
       "</style>\n",
       "<table border=\"1\" class=\"dataframe\">\n",
       "  <thead>\n",
       "    <tr style=\"text-align: right;\">\n",
       "      <th>year</th>\n",
       "      <th>2019</th>\n",
       "      <th>2020</th>\n",
       "    </tr>\n",
       "    <tr>\n",
       "      <th>Type</th>\n",
       "      <th></th>\n",
       "      <th></th>\n",
       "    </tr>\n",
       "  </thead>\n",
       "  <tbody>\n",
       "    <tr>\n",
       "      <th>CAT</th>\n",
       "      <td>0.444286</td>\n",
       "      <td>0.555714</td>\n",
       "    </tr>\n",
       "    <tr>\n",
       "      <th>DOG</th>\n",
       "      <td>0.349550</td>\n",
       "      <td>0.650450</td>\n",
       "    </tr>\n",
       "  </tbody>\n",
       "</table>\n",
       "</div>"
      ],
      "text/plain": [
       "year      2019      2020\n",
       "Type                    \n",
       "CAT   0.444286  0.555714\n",
       "DOG   0.349550  0.650450"
      ]
     },
     "execution_count": 76,
     "metadata": {},
     "output_type": "execute_result"
    },
    {
     "data": {
      "image/png": "[encoded data removed]",
      "text/plain": [
       "<Figure size 864x576 with 2 Axes>"
      ]
     },
     "metadata": {},
     "output_type": "display_data"
    }
   ],
   "source": [
    "#Type\n",
    "AC_Type_contigency= pd.crosstab(california_dogcat['Type'], california_dogcat['year']) \n",
    "AC_Type_contigency_pct = pd.crosstab(california_dogcat['Type'], california_dogcat['year'], normalize='index')\n",
    "plt.figure(figsize=(12,8)) \n",
    "sns.heatmap(AC_Type_contigency, annot=True, cmap=\"YlGnBu\")\n",
    "AC_Type_contigency_pct"
   ]
  },
  {
   "cell_type": "code",
   "execution_count": 77,
   "metadata": {},
   "outputs": [
    {
     "name": "stdout",
     "output_type": "stream",
     "text": [
      "p value:  3.6029698978654285e-14\n"
     ]
    }
   ],
   "source": [
    "# Chi-square test of independence. \n",
    "c, p, dof, expected = chi2_contingency(AC_Type_contigency)\n",
    "print(\"p value: \", p)"
   ]
  },
  {
   "cell_type": "markdown",
   "metadata": {},
   "source": [
    "We set our alpha value as 0.05, and since our df is 1, our critical value would be 3.841. Thus, the test value is smaller than the critical value, and we maintain the null hypothesis that there is no significant differnce between the proportion of cat and dog from 2019 to 2020"
   ]
  },
  {
   "cell_type": "code",
   "execution_count": 78,
   "metadata": {},
   "outputs": [
    {
     "data": {
      "text/html": [
       "<div>\n",
       "<style scoped>\n",
       "    .dataframe tbody tr th:only-of-type {\n",
       "        vertical-align: middle;\n",
       "    }\n",
       "\n",
       "    .dataframe tbody tr th {\n",
       "        vertical-align: top;\n",
       "    }\n",
       "\n",
       "    .dataframe thead th {\n",
       "        text-align: right;\n",
       "    }\n",
       "</style>\n",
       "<table border=\"1\" class=\"dataframe\">\n",
       "  <thead>\n",
       "    <tr style=\"text-align: right;\">\n",
       "      <th>year</th>\n",
       "      <th>2019</th>\n",
       "      <th>2020</th>\n",
       "    </tr>\n",
       "    <tr>\n",
       "      <th>Sex</th>\n",
       "      <th></th>\n",
       "      <th></th>\n",
       "    </tr>\n",
       "  </thead>\n",
       "  <tbody>\n",
       "    <tr>\n",
       "      <th>Female</th>\n",
       "      <td>0.636364</td>\n",
       "      <td>0.363636</td>\n",
       "    </tr>\n",
       "    <tr>\n",
       "      <th>Male</th>\n",
       "      <td>0.598425</td>\n",
       "      <td>0.401575</td>\n",
       "    </tr>\n",
       "    <tr>\n",
       "      <th>Neutered</th>\n",
       "      <td>0.399081</td>\n",
       "      <td>0.600919</td>\n",
       "    </tr>\n",
       "    <tr>\n",
       "      <th>Spayed</th>\n",
       "      <td>0.385137</td>\n",
       "      <td>0.614863</td>\n",
       "    </tr>\n",
       "  </tbody>\n",
       "</table>\n",
       "</div>"
      ],
      "text/plain": [
       "year          2019      2020\n",
       "Sex                         \n",
       "Female    0.636364  0.363636\n",
       "Male      0.598425  0.401575\n",
       "Neutered  0.399081  0.600919\n",
       "Spayed    0.385137  0.614863"
      ]
     },
     "execution_count": 78,
     "metadata": {},
     "output_type": "execute_result"
    },
    {
     "data": {
      "image/png": "[encoded data removed]",
      "text/plain": [
       "<Figure size 864x576 with 2 Axes>"
      ]
     },
     "metadata": {},
     "output_type": "display_data"
    }
   ],
   "source": [
    "#Sex\n",
    "AC_Sex_contigency= pd.crosstab(california_dogcat['Sex'], california_dogcat['year']) \n",
    "AC_Sex_contigency_pct = pd.crosstab(california_dogcat['Sex'], california_dogcat['year'], normalize='index')\n",
    "plt.figure(figsize=(12,8)) \n",
    "sns.heatmap(AC_Sex_contigency, annot=True, cmap=\"YlGnBu\")\n",
    "AC_Sex_contigency_pct"
   ]
  },
  {
   "cell_type": "code",
   "execution_count": 79,
   "metadata": {},
   "outputs": [
    {
     "data": {
      "text/plain": [
       "8.971372313426654e-13"
      ]
     },
     "execution_count": 79,
     "metadata": {},
     "output_type": "execute_result"
    }
   ],
   "source": [
    "# Chi-square test of independence. \n",
    "c, p, dof, expected = chi2_contingency(AC_Sex_contigency)\n",
    "p"
   ]
  },
  {
   "cell_type": "markdown",
   "metadata": {},
   "source": [
    "We set our alpha value as 0.05, and since our df is 3, our critical value would be 7.815. Thus, the test value is greater than the critical value, and we reject the null hypothesis and there is a significant differnce between the sex proportion of cat and dog from 2019 to 2020"
   ]
  },
  {
   "cell_type": "code",
   "execution_count": 80,
   "metadata": {},
   "outputs": [],
   "source": [
    "# t test for california\n",
    "cali_dog_data = combined_total[combined_total['Type']=='DOG']\n",
    "cali_cat_data = combined_total[combined_total['Type']=='CAT']\n",
    "\n",
    "cali_cat_age_2019 =  cali_cat_data[cali_cat_data['year']==2019]['Age']\n",
    "cali_dog_age_2019 =  cali_dog_data[cali_dog_data['year']==2019]['Age']\n",
    "cali_cat_age_2020 =  cali_cat_data[cali_cat_data['year']==2020]['Age']\n",
    "cali_dog_age_2020 =  cali_dog_data[cali_dog_data['year']==2020]['Age']\n",
    "\n",
    "cali_cat_age_2019 = cali_cat_age_2019.dropna()\n",
    "cali_dog_age_2019 = cali_dog_age_2019.dropna()\n",
    "cali_cat_age_2020 = cali_cat_age_2020.dropna()\n",
    "cali_dog_age_2020 = cali_dog_age_2020.dropna()"
   ]
  },
  {
   "cell_type": "code",
   "execution_count": 81,
   "metadata": {},
   "outputs": [
    {
     "name": "stdout",
     "output_type": "stream",
     "text": [
      "t value:  -10.990476611563944 p value:  5.5589020621537025e-28\n",
      "Test for dog accomplished, there is a significant difference in age from 2019 to 2020!\n"
     ]
    },
    {
     "data": {
      "text/plain": [
       "(-10.990476611563944, 5.5589020621537025e-28)"
      ]
     },
     "execution_count": 81,
     "metadata": {},
     "output_type": "execute_result"
    }
   ],
   "source": [
    "# Test for dog\n",
    "from scipy.stats import ttest_ind, chisquare, normaltest\n",
    "\n",
    "t_val, p_val = stats.ttest_ind(cali_dog_age_2019, cali_dog_age_2020)\n",
    "print(\"t value: \", t_val, \"p value: \", p_val)\n",
    "if p_val < 0.01:\n",
    "    print('Test for dog accomplished, there is a significant difference in age from 2019 to 2020!')\n",
    "else:\n",
    "    print('Test for dog accomplished, there is NOT a significant difference in age from 2019 to 2020!')\n",
    "t_val, p_val"
   ]
  },
  {
   "cell_type": "code",
   "execution_count": 82,
   "metadata": {},
   "outputs": [
    {
     "name": "stdout",
     "output_type": "stream",
     "text": [
      "t value:  0.7400401591818457 p value:  0.45928941088305664\n",
      "Test for cat accomplished, there is NOT a significant difference in age from 2019 to 2020!\n"
     ]
    }
   ],
   "source": [
    "# Test for cat\n",
    "from scipy.stats import ttest_ind, chisquare, normaltest\n",
    "\n",
    "t_val, p_val = stats.ttest_ind(cali_cat_age_2019, cali_cat_age_2020)\n",
    "print(\"t value: \", t_val, \"p value: \", p_val)\n",
    "if p_val < 0.01:\n",
    "    print('Test for cat accomplished, there is a significant difference in age from 2019 to 2020!')\n",
    "else:\n",
    "    print('Test for cat accomplished, there is NOT a significant difference in age from 2019 to 2020!')"
   ]
  },
  {
   "cell_type": "code",
   "execution_count": null,
   "metadata": {},
   "outputs": [],
   "source": []
  },
  {
   "cell_type": "code",
   "execution_count": null,
   "metadata": {},
   "outputs": [],
   "source": []
  }
 ],
 "metadata": {
  "kernelspec": {
   "display_name": "Python 3 (ipykernel)",
   "language": "python",
   "name": "python3"
  },
  "language_info": {
   "codemirror_mode": {
    "name": "ipython",
    "version": 3
   },
   "file_extension": ".py",
   "mimetype": "text/x-python",
   "name": "python",
   "nbconvert_exporter": "python",
   "pygments_lexer": "ipython3",
   "version": "3.9.5"
  }
 },
 "nbformat": 4,
 "nbformat_minor": 2
}
